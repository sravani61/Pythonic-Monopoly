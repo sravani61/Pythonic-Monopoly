{
 "cells": [
  {
   "cell_type": "markdown",
   "metadata": {},
   "source": [
    "### San Francisco Housing Rental Analysis"
   ]
  },
  {
   "cell_type": "code",
   "execution_count": 72,
   "metadata": {},
   "outputs": [],
   "source": [
    "# initial imports\n",
    "import os\n",
    "import pandas as pd\n",
    "import matplotlib.pyplot as plt\n",
    "\n",
    "import plotly.express as px\n",
    "from pathlib import Path\n",
    "from dotenv import load_dotenv\n",
    "import panel as pn\n",
    "from panel.interact import interact\n",
    "\n",
    "%matplotlib inline\n"
   ]
  },
  {
   "cell_type": "code",
   "execution_count": 73,
   "metadata": {},
   "outputs": [
    {
     "name": "stderr",
     "output_type": "stream",
     "text": [
      "WARNING:param.panel_extension: A HoloViz extension was loaded previously. This means the extension is already initialized and the following Panel extensions could not be properly loaded: ['plotly']. If you are loading custom extensions with pn.extension(...) ensure that this is called before any other HoloViz extension such as hvPlot or HoloViews.\n"
     ]
    }
   ],
   "source": [
    "pn.extension('plotly')\n",
    "\n",
    "import hvplot.pandas"
   ]
  },
  {
   "cell_type": "code",
   "execution_count": 74,
   "metadata": {},
   "outputs": [
    {
     "name": "stdout",
     "output_type": "stream",
     "text": [
      "<class 'str'>\n"
     ]
    }
   ],
   "source": [
    "# Read the Mapbox API key\n",
    "load_dotenv()\n",
    "mapbox_token = os.getenv(\"MAPBOX\")\n",
    "print(type(mapbox_token))\n",
    "px.set_mapbox_access_token(mapbox_token)"
   ]
  },
  {
   "cell_type": "code",
   "execution_count": 75,
   "metadata": {},
   "outputs": [
    {
     "data": {
      "text/html": [
       "<div>\n",
       "<style scoped>\n",
       "    .dataframe tbody tr th:only-of-type {\n",
       "        vertical-align: middle;\n",
       "    }\n",
       "\n",
       "    .dataframe tbody tr th {\n",
       "        vertical-align: top;\n",
       "    }\n",
       "\n",
       "    .dataframe thead th {\n",
       "        text-align: right;\n",
       "    }\n",
       "</style>\n",
       "<table border=\"1\" class=\"dataframe\">\n",
       "  <thead>\n",
       "    <tr style=\"text-align: right;\">\n",
       "      <th></th>\n",
       "      <th>neighborhood</th>\n",
       "      <th>sale_price_sqr_foot</th>\n",
       "      <th>housing_units</th>\n",
       "      <th>gross_rent</th>\n",
       "    </tr>\n",
       "    <tr>\n",
       "      <th>year</th>\n",
       "      <th></th>\n",
       "      <th></th>\n",
       "      <th></th>\n",
       "      <th></th>\n",
       "    </tr>\n",
       "  </thead>\n",
       "  <tbody>\n",
       "    <tr>\n",
       "      <th>2010</th>\n",
       "      <td>Alamo Square</td>\n",
       "      <td>291.182945</td>\n",
       "      <td>372560</td>\n",
       "      <td>1239</td>\n",
       "    </tr>\n",
       "    <tr>\n",
       "      <th>2010</th>\n",
       "      <td>Anza Vista</td>\n",
       "      <td>267.932583</td>\n",
       "      <td>372560</td>\n",
       "      <td>1239</td>\n",
       "    </tr>\n",
       "    <tr>\n",
       "      <th>2010</th>\n",
       "      <td>Bayview</td>\n",
       "      <td>170.098665</td>\n",
       "      <td>372560</td>\n",
       "      <td>1239</td>\n",
       "    </tr>\n",
       "    <tr>\n",
       "      <th>2010</th>\n",
       "      <td>Buena Vista Park</td>\n",
       "      <td>347.394919</td>\n",
       "      <td>372560</td>\n",
       "      <td>1239</td>\n",
       "    </tr>\n",
       "    <tr>\n",
       "      <th>2010</th>\n",
       "      <td>Central Richmond</td>\n",
       "      <td>319.027623</td>\n",
       "      <td>372560</td>\n",
       "      <td>1239</td>\n",
       "    </tr>\n",
       "  </tbody>\n",
       "</table>\n",
       "</div>"
      ],
      "text/plain": [
       "          neighborhood  sale_price_sqr_foot  housing_units  gross_rent\n",
       "year                                                                  \n",
       "2010      Alamo Square           291.182945         372560        1239\n",
       "2010        Anza Vista           267.932583         372560        1239\n",
       "2010           Bayview           170.098665         372560        1239\n",
       "2010  Buena Vista Park           347.394919         372560        1239\n",
       "2010  Central Richmond           319.027623         372560        1239"
      ]
     },
     "execution_count": 75,
     "metadata": {},
     "output_type": "execute_result"
    }
   ],
   "source": [
    "# Load Data\n",
    "\n",
    "file_path = Path(\"Data//sfo_neighborhoods_census_data.csv\")\n",
    "sfo_data = pd.read_csv(file_path, index_col=\"year\")\n",
    "sfo_data.head()"
   ]
  },
  {
   "cell_type": "code",
   "execution_count": 76,
   "metadata": {},
   "outputs": [
    {
     "data": {
      "text/html": [
       "<div>\n",
       "<style scoped>\n",
       "    .dataframe tbody tr th:only-of-type {\n",
       "        vertical-align: middle;\n",
       "    }\n",
       "\n",
       "    .dataframe tbody tr th {\n",
       "        vertical-align: top;\n",
       "    }\n",
       "\n",
       "    .dataframe thead th {\n",
       "        text-align: right;\n",
       "    }\n",
       "</style>\n",
       "<table border=\"1\" class=\"dataframe\">\n",
       "  <thead>\n",
       "    <tr style=\"text-align: right;\">\n",
       "      <th></th>\n",
       "      <th>housing_units</th>\n",
       "    </tr>\n",
       "    <tr>\n",
       "      <th>year</th>\n",
       "      <th></th>\n",
       "    </tr>\n",
       "  </thead>\n",
       "  <tbody>\n",
       "    <tr>\n",
       "      <th>2010</th>\n",
       "      <td>372560</td>\n",
       "    </tr>\n",
       "    <tr>\n",
       "      <th>2011</th>\n",
       "      <td>374507</td>\n",
       "    </tr>\n",
       "    <tr>\n",
       "      <th>2012</th>\n",
       "      <td>376454</td>\n",
       "    </tr>\n",
       "    <tr>\n",
       "      <th>2013</th>\n",
       "      <td>378401</td>\n",
       "    </tr>\n",
       "    <tr>\n",
       "      <th>2014</th>\n",
       "      <td>380348</td>\n",
       "    </tr>\n",
       "    <tr>\n",
       "      <th>2015</th>\n",
       "      <td>382295</td>\n",
       "    </tr>\n",
       "    <tr>\n",
       "      <th>2016</th>\n",
       "      <td>384242</td>\n",
       "    </tr>\n",
       "  </tbody>\n",
       "</table>\n",
       "</div>"
      ],
      "text/plain": [
       "      housing_units\n",
       "year               \n",
       "2010         372560\n",
       "2011         374507\n",
       "2012         376454\n",
       "2013         378401\n",
       "2014         380348\n",
       "2015         382295\n",
       "2016         384242"
      ]
     },
     "execution_count": 76,
     "metadata": {},
     "output_type": "execute_result"
    }
   ],
   "source": [
    "# Calculate the mean number of housing units per year\n",
    "\n",
    "units_mean = sfo_data[['housing_units']].groupby('year').mean()\n",
    "units_mean"
   ]
  },
  {
   "cell_type": "code",
   "execution_count": 77,
   "metadata": {},
   "outputs": [
    {
     "data": {
      "image/png": "[encoded data removed]",
      "text/plain": [
       "<Figure size 432x288 with 1 Axes>"
      ]
     },
     "metadata": {
      "needs_background": "light"
     },
     "output_type": "display_data"
    }
   ],
   "source": [
    "# Use the Pandas plot function to plot the average housing units per year.\n",
    "\n",
    "plt = units_mean.plot.bar(title = \"Housing units in San Francisco from 2010 to 2016\")\n",
    "plt.set_ylim([370000,387500]);\n",
    "plt.set_ylabel('Housing Units', fontsize =12);"
   ]
  },
  {
   "cell_type": "code",
   "execution_count": 78,
   "metadata": {},
   "outputs": [
    {
     "data": {
      "text/html": [
       "<div>\n",
       "<style scoped>\n",
       "    .dataframe tbody tr th:only-of-type {\n",
       "        vertical-align: middle;\n",
       "    }\n",
       "\n",
       "    .dataframe tbody tr th {\n",
       "        vertical-align: top;\n",
       "    }\n",
       "\n",
       "    .dataframe thead th {\n",
       "        text-align: right;\n",
       "    }\n",
       "</style>\n",
       "<table border=\"1\" class=\"dataframe\">\n",
       "  <thead>\n",
       "    <tr style=\"text-align: right;\">\n",
       "      <th></th>\n",
       "      <th>sale_price_sqr_foot</th>\n",
       "      <th>gross_rent</th>\n",
       "    </tr>\n",
       "    <tr>\n",
       "      <th>year</th>\n",
       "      <th></th>\n",
       "      <th></th>\n",
       "    </tr>\n",
       "  </thead>\n",
       "  <tbody>\n",
       "    <tr>\n",
       "      <th>2010</th>\n",
       "      <td>369.34</td>\n",
       "      <td>1239</td>\n",
       "    </tr>\n",
       "    <tr>\n",
       "      <th>2011</th>\n",
       "      <td>341.90</td>\n",
       "      <td>1530</td>\n",
       "    </tr>\n",
       "    <tr>\n",
       "      <th>2012</th>\n",
       "      <td>399.39</td>\n",
       "      <td>2324</td>\n",
       "    </tr>\n",
       "    <tr>\n",
       "      <th>2013</th>\n",
       "      <td>483.60</td>\n",
       "      <td>2971</td>\n",
       "    </tr>\n",
       "    <tr>\n",
       "      <th>2014</th>\n",
       "      <td>556.28</td>\n",
       "      <td>3528</td>\n",
       "    </tr>\n",
       "    <tr>\n",
       "      <th>2015</th>\n",
       "      <td>632.54</td>\n",
       "      <td>3739</td>\n",
       "    </tr>\n",
       "    <tr>\n",
       "      <th>2016</th>\n",
       "      <td>697.64</td>\n",
       "      <td>4390</td>\n",
       "    </tr>\n",
       "  </tbody>\n",
       "</table>\n",
       "</div>"
      ],
      "text/plain": [
       "      sale_price_sqr_foot  gross_rent\n",
       "year                                 \n",
       "2010               369.34        1239\n",
       "2011               341.90        1530\n",
       "2012               399.39        2324\n",
       "2013               483.60        2971\n",
       "2014               556.28        3528\n",
       "2015               632.54        3739\n",
       "2016               697.64        4390"
      ]
     },
     "execution_count": 78,
     "metadata": {},
     "output_type": "execute_result"
    }
   ],
   "source": [
    "# Average prices per square foot\n",
    "\n",
    "gross_rent_mean = sfo_data[['sale_price_sqr_foot', 'gross_rent']].groupby('year').mean()\n",
    "gross_rent_mean.round(2)"
   ]
  },
  {
   "cell_type": "code",
   "execution_count": 79,
   "metadata": {},
   "outputs": [
    {
     "data": {
      "image/png": "[encoded data removed]",
      "text/plain": [
       "<Figure size 432x288 with 1 Axes>"
      ]
     },
     "metadata": {
      "needs_background": "light"
     },
     "output_type": "display_data"
    }
   ],
   "source": [
    "# Plot the Average Gross Rent per Year as a Line Chart\n",
    "\n",
    "Avg_gross_rent_per_year = gross_rent_mean[['gross_rent']].plot(title=\"Average Gross Rent in San Francisco\");\n",
    "Avg_gross_rent_per_year.set_ylabel('Gross Rent', fontsize = 12);"
   ]
  },
  {
   "cell_type": "code",
   "execution_count": 80,
   "metadata": {},
   "outputs": [
    {
     "data": {
      "image/png": "[encoded data removed]",
      "text/plain": [
       "<Figure size 432x288 with 1 Axes>"
      ]
     },
     "metadata": {
      "needs_background": "light"
     },
     "output_type": "display_data"
    }
   ],
   "source": [
    " # Plot the Average Sales Price per Year as a line chart\n",
    "Avg_sales_price_per_year = gross_rent_mean[['sale_price_sqr_foot']].plot(title=\"Average sales price per square foot in San Francisco\");\n",
    "Avg_sales_price_per_year.set_ylabel('Average sales price', fontsize = 13);"
   ]
  },
  {
   "cell_type": "markdown",
   "metadata": {},
   "source": [
    "###  Average prices by neighborhood"
   ]
  },
  {
   "cell_type": "code",
   "execution_count": 81,
   "metadata": {},
   "outputs": [
    {
     "data": {
      "text/html": [
       "<div>\n",
       "<style scoped>\n",
       "    .dataframe tbody tr th:only-of-type {\n",
       "        vertical-align: middle;\n",
       "    }\n",
       "\n",
       "    .dataframe tbody tr th {\n",
       "        vertical-align: top;\n",
       "    }\n",
       "\n",
       "    .dataframe thead th {\n",
       "        text-align: right;\n",
       "    }\n",
       "</style>\n",
       "<table border=\"1\" class=\"dataframe\">\n",
       "  <thead>\n",
       "    <tr style=\"text-align: right;\">\n",
       "      <th></th>\n",
       "      <th>year</th>\n",
       "      <th>neighborhood</th>\n",
       "      <th>Avg_sale_price_per_sqft</th>\n",
       "      <th>Avg_housing_units</th>\n",
       "      <th>Avg_gross_rent</th>\n",
       "    </tr>\n",
       "  </thead>\n",
       "  <tbody>\n",
       "    <tr>\n",
       "      <th>0</th>\n",
       "      <td>2010</td>\n",
       "      <td>Alamo Square</td>\n",
       "      <td>291.182945</td>\n",
       "      <td>372560</td>\n",
       "      <td>1239</td>\n",
       "    </tr>\n",
       "    <tr>\n",
       "      <th>1</th>\n",
       "      <td>2010</td>\n",
       "      <td>Anza Vista</td>\n",
       "      <td>267.932583</td>\n",
       "      <td>372560</td>\n",
       "      <td>1239</td>\n",
       "    </tr>\n",
       "    <tr>\n",
       "      <th>2</th>\n",
       "      <td>2010</td>\n",
       "      <td>Bayview</td>\n",
       "      <td>170.098665</td>\n",
       "      <td>372560</td>\n",
       "      <td>1239</td>\n",
       "    </tr>\n",
       "    <tr>\n",
       "      <th>3</th>\n",
       "      <td>2010</td>\n",
       "      <td>Buena Vista Park</td>\n",
       "      <td>347.394919</td>\n",
       "      <td>372560</td>\n",
       "      <td>1239</td>\n",
       "    </tr>\n",
       "    <tr>\n",
       "      <th>4</th>\n",
       "      <td>2010</td>\n",
       "      <td>Central Richmond</td>\n",
       "      <td>319.027623</td>\n",
       "      <td>372560</td>\n",
       "      <td>1239</td>\n",
       "    </tr>\n",
       "    <tr>\n",
       "      <th>5</th>\n",
       "      <td>2010</td>\n",
       "      <td>Central Sunset</td>\n",
       "      <td>418.172493</td>\n",
       "      <td>372560</td>\n",
       "      <td>1239</td>\n",
       "    </tr>\n",
       "    <tr>\n",
       "      <th>6</th>\n",
       "      <td>2010</td>\n",
       "      <td>Corona Heights</td>\n",
       "      <td>369.359338</td>\n",
       "      <td>372560</td>\n",
       "      <td>1239</td>\n",
       "    </tr>\n",
       "    <tr>\n",
       "      <th>7</th>\n",
       "      <td>2010</td>\n",
       "      <td>Cow Hollow</td>\n",
       "      <td>569.379968</td>\n",
       "      <td>372560</td>\n",
       "      <td>1239</td>\n",
       "    </tr>\n",
       "    <tr>\n",
       "      <th>8</th>\n",
       "      <td>2010</td>\n",
       "      <td>Croker Amazon</td>\n",
       "      <td>165.645730</td>\n",
       "      <td>372560</td>\n",
       "      <td>1239</td>\n",
       "    </tr>\n",
       "    <tr>\n",
       "      <th>9</th>\n",
       "      <td>2010</td>\n",
       "      <td>Diamond Heights</td>\n",
       "      <td>456.930822</td>\n",
       "      <td>372560</td>\n",
       "      <td>1239</td>\n",
       "    </tr>\n",
       "    <tr>\n",
       "      <th>10</th>\n",
       "      <td>2010</td>\n",
       "      <td>Downtown</td>\n",
       "      <td>241.804552</td>\n",
       "      <td>372560</td>\n",
       "      <td>1239</td>\n",
       "    </tr>\n",
       "    <tr>\n",
       "      <th>11</th>\n",
       "      <td>2010</td>\n",
       "      <td>Eureka Valley/Dolores Heights</td>\n",
       "      <td>403.118313</td>\n",
       "      <td>372560</td>\n",
       "      <td>1239</td>\n",
       "    </tr>\n",
       "    <tr>\n",
       "      <th>12</th>\n",
       "      <td>2010</td>\n",
       "      <td>Excelsior</td>\n",
       "      <td>364.928336</td>\n",
       "      <td>372560</td>\n",
       "      <td>1239</td>\n",
       "    </tr>\n",
       "    <tr>\n",
       "      <th>13</th>\n",
       "      <td>2010</td>\n",
       "      <td>Financial District North</td>\n",
       "      <td>401.749967</td>\n",
       "      <td>372560</td>\n",
       "      <td>1239</td>\n",
       "    </tr>\n",
       "    <tr>\n",
       "      <th>14</th>\n",
       "      <td>2010</td>\n",
       "      <td>Financial District South</td>\n",
       "      <td>162.821210</td>\n",
       "      <td>372560</td>\n",
       "      <td>1239</td>\n",
       "    </tr>\n",
       "    <tr>\n",
       "      <th>15</th>\n",
       "      <td>2010</td>\n",
       "      <td>Forest Knolls</td>\n",
       "      <td>209.049327</td>\n",
       "      <td>372560</td>\n",
       "      <td>1239</td>\n",
       "    </tr>\n",
       "    <tr>\n",
       "      <th>16</th>\n",
       "      <td>2010</td>\n",
       "      <td>Glen Park</td>\n",
       "      <td>715.586438</td>\n",
       "      <td>372560</td>\n",
       "      <td>1239</td>\n",
       "    </tr>\n",
       "    <tr>\n",
       "      <th>17</th>\n",
       "      <td>2010</td>\n",
       "      <td>Golden Gate Heights</td>\n",
       "      <td>551.801119</td>\n",
       "      <td>372560</td>\n",
       "      <td>1239</td>\n",
       "    </tr>\n",
       "    <tr>\n",
       "      <th>18</th>\n",
       "      <td>2010</td>\n",
       "      <td>Haight Ashbury</td>\n",
       "      <td>254.473779</td>\n",
       "      <td>372560</td>\n",
       "      <td>1239</td>\n",
       "    </tr>\n",
       "    <tr>\n",
       "      <th>19</th>\n",
       "      <td>2010</td>\n",
       "      <td>Hayes Valley</td>\n",
       "      <td>272.284980</td>\n",
       "      <td>372560</td>\n",
       "      <td>1239</td>\n",
       "    </tr>\n",
       "    <tr>\n",
       "      <th>20</th>\n",
       "      <td>2010</td>\n",
       "      <td>Hunters Point</td>\n",
       "      <td>170.624920</td>\n",
       "      <td>372560</td>\n",
       "      <td>1239</td>\n",
       "    </tr>\n",
       "    <tr>\n",
       "      <th>21</th>\n",
       "      <td>2010</td>\n",
       "      <td>Ingleside</td>\n",
       "      <td>275.056686</td>\n",
       "      <td>372560</td>\n",
       "      <td>1239</td>\n",
       "    </tr>\n",
       "    <tr>\n",
       "      <th>22</th>\n",
       "      <td>2010</td>\n",
       "      <td>Inner Mission</td>\n",
       "      <td>238.350020</td>\n",
       "      <td>372560</td>\n",
       "      <td>1239</td>\n",
       "    </tr>\n",
       "    <tr>\n",
       "      <th>23</th>\n",
       "      <td>2010</td>\n",
       "      <td>Inner Parkside</td>\n",
       "      <td>199.702004</td>\n",
       "      <td>372560</td>\n",
       "      <td>1239</td>\n",
       "    </tr>\n",
       "    <tr>\n",
       "      <th>24</th>\n",
       "      <td>2010</td>\n",
       "      <td>Inner Richmond</td>\n",
       "      <td>285.822358</td>\n",
       "      <td>372560</td>\n",
       "      <td>1239</td>\n",
       "    </tr>\n",
       "    <tr>\n",
       "      <th>25</th>\n",
       "      <td>2010</td>\n",
       "      <td>Inner Sunset</td>\n",
       "      <td>275.769730</td>\n",
       "      <td>372560</td>\n",
       "      <td>1239</td>\n",
       "    </tr>\n",
       "    <tr>\n",
       "      <th>26</th>\n",
       "      <td>2010</td>\n",
       "      <td>Jordan Park/Laurel Heights</td>\n",
       "      <td>419.887812</td>\n",
       "      <td>372560</td>\n",
       "      <td>1239</td>\n",
       "    </tr>\n",
       "    <tr>\n",
       "      <th>27</th>\n",
       "      <td>2010</td>\n",
       "      <td>Lake --The Presidio</td>\n",
       "      <td>320.796910</td>\n",
       "      <td>372560</td>\n",
       "      <td>1239</td>\n",
       "    </tr>\n",
       "    <tr>\n",
       "      <th>28</th>\n",
       "      <td>2010</td>\n",
       "      <td>Lone Mountain</td>\n",
       "      <td>398.458876</td>\n",
       "      <td>372560</td>\n",
       "      <td>1239</td>\n",
       "    </tr>\n",
       "    <tr>\n",
       "      <th>29</th>\n",
       "      <td>2010</td>\n",
       "      <td>Lower Pacific Heights</td>\n",
       "      <td>374.057636</td>\n",
       "      <td>372560</td>\n",
       "      <td>1239</td>\n",
       "    </tr>\n",
       "    <tr>\n",
       "      <th>...</th>\n",
       "      <td>...</td>\n",
       "      <td>...</td>\n",
       "      <td>...</td>\n",
       "      <td>...</td>\n",
       "      <td>...</td>\n",
       "    </tr>\n",
       "    <tr>\n",
       "      <th>367</th>\n",
       "      <td>2016</td>\n",
       "      <td>Inner Mission</td>\n",
       "      <td>647.770447</td>\n",
       "      <td>384242</td>\n",
       "      <td>4390</td>\n",
       "    </tr>\n",
       "    <tr>\n",
       "      <th>368</th>\n",
       "      <td>2016</td>\n",
       "      <td>Inner Parkside</td>\n",
       "      <td>518.112650</td>\n",
       "      <td>384242</td>\n",
       "      <td>4390</td>\n",
       "    </tr>\n",
       "    <tr>\n",
       "      <th>369</th>\n",
       "      <td>2016</td>\n",
       "      <td>Inner Richmond</td>\n",
       "      <td>403.311132</td>\n",
       "      <td>384242</td>\n",
       "      <td>4390</td>\n",
       "    </tr>\n",
       "    <tr>\n",
       "      <th>370</th>\n",
       "      <td>2016</td>\n",
       "      <td>Inner Sunset</td>\n",
       "      <td>445.923828</td>\n",
       "      <td>384242</td>\n",
       "      <td>4390</td>\n",
       "    </tr>\n",
       "    <tr>\n",
       "      <th>371</th>\n",
       "      <td>2016</td>\n",
       "      <td>Jordan Park/Laurel Heights</td>\n",
       "      <td>704.566419</td>\n",
       "      <td>384242</td>\n",
       "      <td>4390</td>\n",
       "    </tr>\n",
       "    <tr>\n",
       "      <th>372</th>\n",
       "      <td>2016</td>\n",
       "      <td>Lower Pacific Heights</td>\n",
       "      <td>636.430770</td>\n",
       "      <td>384242</td>\n",
       "      <td>4390</td>\n",
       "    </tr>\n",
       "    <tr>\n",
       "      <th>373</th>\n",
       "      <td>2016</td>\n",
       "      <td>Marina</td>\n",
       "      <td>431.944602</td>\n",
       "      <td>384242</td>\n",
       "      <td>4390</td>\n",
       "    </tr>\n",
       "    <tr>\n",
       "      <th>374</th>\n",
       "      <td>2016</td>\n",
       "      <td>Merced Heights</td>\n",
       "      <td>1416.666667</td>\n",
       "      <td>384242</td>\n",
       "      <td>4390</td>\n",
       "    </tr>\n",
       "    <tr>\n",
       "      <th>375</th>\n",
       "      <td>2016</td>\n",
       "      <td>Mission Bay</td>\n",
       "      <td>924.569116</td>\n",
       "      <td>384242</td>\n",
       "      <td>4390</td>\n",
       "    </tr>\n",
       "    <tr>\n",
       "      <th>376</th>\n",
       "      <td>2016</td>\n",
       "      <td>Mission Terrace</td>\n",
       "      <td>879.017013</td>\n",
       "      <td>384242</td>\n",
       "      <td>4390</td>\n",
       "    </tr>\n",
       "    <tr>\n",
       "      <th>377</th>\n",
       "      <td>2016</td>\n",
       "      <td>Nob Hill</td>\n",
       "      <td>777.008315</td>\n",
       "      <td>384242</td>\n",
       "      <td>4390</td>\n",
       "    </tr>\n",
       "    <tr>\n",
       "      <th>378</th>\n",
       "      <td>2016</td>\n",
       "      <td>Noe Valley</td>\n",
       "      <td>799.495651</td>\n",
       "      <td>384242</td>\n",
       "      <td>4390</td>\n",
       "    </tr>\n",
       "    <tr>\n",
       "      <th>379</th>\n",
       "      <td>2016</td>\n",
       "      <td>North Beach</td>\n",
       "      <td>407.553322</td>\n",
       "      <td>384242</td>\n",
       "      <td>4390</td>\n",
       "    </tr>\n",
       "    <tr>\n",
       "      <th>380</th>\n",
       "      <td>2016</td>\n",
       "      <td>Outer Mission</td>\n",
       "      <td>40.772625</td>\n",
       "      <td>384242</td>\n",
       "      <td>4390</td>\n",
       "    </tr>\n",
       "    <tr>\n",
       "      <th>381</th>\n",
       "      <td>2016</td>\n",
       "      <td>Outer Parkside</td>\n",
       "      <td>732.720684</td>\n",
       "      <td>384242</td>\n",
       "      <td>4390</td>\n",
       "    </tr>\n",
       "    <tr>\n",
       "      <th>382</th>\n",
       "      <td>2016</td>\n",
       "      <td>Outer Richmond</td>\n",
       "      <td>1196.645437</td>\n",
       "      <td>384242</td>\n",
       "      <td>4390</td>\n",
       "    </tr>\n",
       "    <tr>\n",
       "      <th>383</th>\n",
       "      <td>2016</td>\n",
       "      <td>Outer Sunset</td>\n",
       "      <td>510.576907</td>\n",
       "      <td>384242</td>\n",
       "      <td>4390</td>\n",
       "    </tr>\n",
       "    <tr>\n",
       "      <th>384</th>\n",
       "      <td>2016</td>\n",
       "      <td>Pacific Heights</td>\n",
       "      <td>996.389364</td>\n",
       "      <td>384242</td>\n",
       "      <td>4390</td>\n",
       "    </tr>\n",
       "    <tr>\n",
       "      <th>385</th>\n",
       "      <td>2016</td>\n",
       "      <td>Park North</td>\n",
       "      <td>211.301370</td>\n",
       "      <td>384242</td>\n",
       "      <td>4390</td>\n",
       "    </tr>\n",
       "    <tr>\n",
       "      <th>386</th>\n",
       "      <td>2016</td>\n",
       "      <td>Parnassus/Ashbury Heights</td>\n",
       "      <td>1207.997485</td>\n",
       "      <td>384242</td>\n",
       "      <td>4390</td>\n",
       "    </tr>\n",
       "    <tr>\n",
       "      <th>387</th>\n",
       "      <td>2016</td>\n",
       "      <td>Potrero Hill</td>\n",
       "      <td>707.651609</td>\n",
       "      <td>384242</td>\n",
       "      <td>4390</td>\n",
       "    </tr>\n",
       "    <tr>\n",
       "      <th>388</th>\n",
       "      <td>2016</td>\n",
       "      <td>Presidio Heights</td>\n",
       "      <td>1465.968586</td>\n",
       "      <td>384242</td>\n",
       "      <td>4390</td>\n",
       "    </tr>\n",
       "    <tr>\n",
       "      <th>389</th>\n",
       "      <td>2016</td>\n",
       "      <td>Russian Hill</td>\n",
       "      <td>1024.339877</td>\n",
       "      <td>384242</td>\n",
       "      <td>4390</td>\n",
       "    </tr>\n",
       "    <tr>\n",
       "      <th>390</th>\n",
       "      <td>2016</td>\n",
       "      <td>South of Market</td>\n",
       "      <td>531.136374</td>\n",
       "      <td>384242</td>\n",
       "      <td>4390</td>\n",
       "    </tr>\n",
       "    <tr>\n",
       "      <th>391</th>\n",
       "      <td>2016</td>\n",
       "      <td>Sunnyside</td>\n",
       "      <td>751.173709</td>\n",
       "      <td>384242</td>\n",
       "      <td>4390</td>\n",
       "    </tr>\n",
       "    <tr>\n",
       "      <th>392</th>\n",
       "      <td>2016</td>\n",
       "      <td>Telegraph Hill</td>\n",
       "      <td>903.049771</td>\n",
       "      <td>384242</td>\n",
       "      <td>4390</td>\n",
       "    </tr>\n",
       "    <tr>\n",
       "      <th>393</th>\n",
       "      <td>2016</td>\n",
       "      <td>Twin Peaks</td>\n",
       "      <td>970.085470</td>\n",
       "      <td>384242</td>\n",
       "      <td>4390</td>\n",
       "    </tr>\n",
       "    <tr>\n",
       "      <th>394</th>\n",
       "      <td>2016</td>\n",
       "      <td>Van Ness/ Civic Center</td>\n",
       "      <td>552.602567</td>\n",
       "      <td>384242</td>\n",
       "      <td>4390</td>\n",
       "    </tr>\n",
       "    <tr>\n",
       "      <th>395</th>\n",
       "      <td>2016</td>\n",
       "      <td>Visitacion Valley</td>\n",
       "      <td>328.319007</td>\n",
       "      <td>384242</td>\n",
       "      <td>4390</td>\n",
       "    </tr>\n",
       "    <tr>\n",
       "      <th>396</th>\n",
       "      <td>2016</td>\n",
       "      <td>Westwood Park</td>\n",
       "      <td>631.195426</td>\n",
       "      <td>384242</td>\n",
       "      <td>4390</td>\n",
       "    </tr>\n",
       "  </tbody>\n",
       "</table>\n",
       "<p>397 rows × 5 columns</p>\n",
       "</div>"
      ],
      "text/plain": [
       "     year                   neighborhood  Avg_sale_price_per_sqft  \\\n",
       "0    2010                   Alamo Square               291.182945   \n",
       "1    2010                     Anza Vista               267.932583   \n",
       "2    2010                        Bayview               170.098665   \n",
       "3    2010               Buena Vista Park               347.394919   \n",
       "4    2010               Central Richmond               319.027623   \n",
       "5    2010                 Central Sunset               418.172493   \n",
       "6    2010                 Corona Heights               369.359338   \n",
       "7    2010                     Cow Hollow               569.379968   \n",
       "8    2010                  Croker Amazon               165.645730   \n",
       "9    2010                Diamond Heights               456.930822   \n",
       "10   2010                      Downtown                241.804552   \n",
       "11   2010  Eureka Valley/Dolores Heights               403.118313   \n",
       "12   2010                      Excelsior               364.928336   \n",
       "13   2010       Financial District North               401.749967   \n",
       "14   2010       Financial District South               162.821210   \n",
       "15   2010                  Forest Knolls               209.049327   \n",
       "16   2010                      Glen Park               715.586438   \n",
       "17   2010            Golden Gate Heights               551.801119   \n",
       "18   2010                 Haight Ashbury               254.473779   \n",
       "19   2010                   Hayes Valley               272.284980   \n",
       "20   2010                  Hunters Point               170.624920   \n",
       "21   2010                     Ingleside                275.056686   \n",
       "22   2010                  Inner Mission               238.350020   \n",
       "23   2010                 Inner Parkside               199.702004   \n",
       "24   2010                 Inner Richmond               285.822358   \n",
       "25   2010                   Inner Sunset               275.769730   \n",
       "26   2010     Jordan Park/Laurel Heights               419.887812   \n",
       "27   2010            Lake --The Presidio               320.796910   \n",
       "28   2010                  Lone Mountain               398.458876   \n",
       "29   2010          Lower Pacific Heights               374.057636   \n",
       "..    ...                            ...                      ...   \n",
       "367  2016                  Inner Mission               647.770447   \n",
       "368  2016                 Inner Parkside               518.112650   \n",
       "369  2016                 Inner Richmond               403.311132   \n",
       "370  2016                   Inner Sunset               445.923828   \n",
       "371  2016     Jordan Park/Laurel Heights               704.566419   \n",
       "372  2016          Lower Pacific Heights               636.430770   \n",
       "373  2016                         Marina               431.944602   \n",
       "374  2016                 Merced Heights              1416.666667   \n",
       "375  2016                    Mission Bay               924.569116   \n",
       "376  2016                Mission Terrace               879.017013   \n",
       "377  2016                       Nob Hill               777.008315   \n",
       "378  2016                     Noe Valley               799.495651   \n",
       "379  2016                    North Beach               407.553322   \n",
       "380  2016                  Outer Mission                40.772625   \n",
       "381  2016                 Outer Parkside               732.720684   \n",
       "382  2016                Outer Richmond               1196.645437   \n",
       "383  2016                   Outer Sunset               510.576907   \n",
       "384  2016                Pacific Heights               996.389364   \n",
       "385  2016                     Park North               211.301370   \n",
       "386  2016      Parnassus/Ashbury Heights              1207.997485   \n",
       "387  2016                   Potrero Hill               707.651609   \n",
       "388  2016               Presidio Heights              1465.968586   \n",
       "389  2016                   Russian Hill              1024.339877   \n",
       "390  2016                South of Market               531.136374   \n",
       "391  2016                      Sunnyside               751.173709   \n",
       "392  2016                 Telegraph Hill               903.049771   \n",
       "393  2016                     Twin Peaks               970.085470   \n",
       "394  2016         Van Ness/ Civic Center               552.602567   \n",
       "395  2016              Visitacion Valley               328.319007   \n",
       "396  2016                  Westwood Park               631.195426   \n",
       "\n",
       "     Avg_housing_units  Avg_gross_rent  \n",
       "0               372560            1239  \n",
       "1               372560            1239  \n",
       "2               372560            1239  \n",
       "3               372560            1239  \n",
       "4               372560            1239  \n",
       "5               372560            1239  \n",
       "6               372560            1239  \n",
       "7               372560            1239  \n",
       "8               372560            1239  \n",
       "9               372560            1239  \n",
       "10              372560            1239  \n",
       "11              372560            1239  \n",
       "12              372560            1239  \n",
       "13              372560            1239  \n",
       "14              372560            1239  \n",
       "15              372560            1239  \n",
       "16              372560            1239  \n",
       "17              372560            1239  \n",
       "18              372560            1239  \n",
       "19              372560            1239  \n",
       "20              372560            1239  \n",
       "21              372560            1239  \n",
       "22              372560            1239  \n",
       "23              372560            1239  \n",
       "24              372560            1239  \n",
       "25              372560            1239  \n",
       "26              372560            1239  \n",
       "27              372560            1239  \n",
       "28              372560            1239  \n",
       "29              372560            1239  \n",
       "..                 ...             ...  \n",
       "367             384242            4390  \n",
       "368             384242            4390  \n",
       "369             384242            4390  \n",
       "370             384242            4390  \n",
       "371             384242            4390  \n",
       "372             384242            4390  \n",
       "373             384242            4390  \n",
       "374             384242            4390  \n",
       "375             384242            4390  \n",
       "376             384242            4390  \n",
       "377             384242            4390  \n",
       "378             384242            4390  \n",
       "379             384242            4390  \n",
       "380             384242            4390  \n",
       "381             384242            4390  \n",
       "382             384242            4390  \n",
       "383             384242            4390  \n",
       "384             384242            4390  \n",
       "385             384242            4390  \n",
       "386             384242            4390  \n",
       "387             384242            4390  \n",
       "388             384242            4390  \n",
       "389             384242            4390  \n",
       "390             384242            4390  \n",
       "391             384242            4390  \n",
       "392             384242            4390  \n",
       "393             384242            4390  \n",
       "394             384242            4390  \n",
       "395             384242            4390  \n",
       "396             384242            4390  \n",
       "\n",
       "[397 rows x 5 columns]"
      ]
     },
     "execution_count": 81,
     "metadata": {},
     "output_type": "execute_result"
    }
   ],
   "source": [
    "# Group by year and neighborhood and then create a new dataframe of the mean values\n",
    "\n",
    "mean_df = pd.DataFrame()\n",
    "mean_df = sfo_data.groupby(['year','neighborhood']).mean()\n",
    "mean_df = mean_df.reset_index()\n",
    "mean_df.columns = ['year','neighborhood','Avg_sale_price_per_sqft','Avg_housing_units','Avg_gross_rent']\n",
    "\n",
    "mean_df"
   ]
  },
  {
   "cell_type": "code",
   "execution_count": 82,
   "metadata": {},
   "outputs": [
    {
     "data": {
      "application/vnd.holoviews_exec.v0+json": "",
      "text/html": [
       "<div id='1394'>\n",
       "\n",
       "\n",
       "\n",
       "\n",
       "\n",
       "  <div class=\"bk-root\" id=\"051ebd07-1e57-40f3-866c-cbb56d71f7ac\" data-root-id=\"1394\"></div>\n",
       "</div>\n",
       "<script type=\"application/javascript\">(function(root) {\n",
       "  function embed_document(root) {\n",
       "  var docs_json = {\"c0de85c4-e80e-47e8-9c14-0eab29deaf9a\":{\"roots\":{\"references\":[{\"attributes\":{\"client_comm_id\":\"8c2231e313884f29b1c85ef04f2ef8ae\",\"comm_id\":\"d4893fdc53f24bac978f0cd2a5936bc1\",\"plot_id\":\"1394\"},\"id\":\"1483\",\"type\":\"panel.models.comm_manager.CommManager\"},{\"attributes\":{},\"id\":\"1420\",\"type\":\"WheelZoomTool\"},{\"attributes\":{\"end\":2480.495852663006,\"reset_end\":2480.495852663006,\"reset_start\":-181.02039531280724,\"start\":-181.02039531280724,\"tags\":[[[\"Average price per sq ft\",\"Average price per sq ft\",null]]]},\"id\":\"1399\",\"type\":\"Range1d\"},{\"attributes\":{},\"id\":\"1419\",\"type\":\"PanTool\"},{\"attributes\":{},\"id\":\"1422\",\"type\":\"ResetTool\"},{\"attributes\":{\"line_alpha\":0.1,\"line_color\":\"#440154\",\"line_width\":2,\"x\":{\"field\":\"Year\"},\"y\":{\"field\":\"Average price per sq ft\"}},\"id\":\"1435\",\"type\":\"Line\"},{\"attributes\":{\"data_source\":{\"id\":\"1431\"},\"glyph\":{\"id\":\"1434\"},\"hover_glyph\":null,\"muted_glyph\":{\"id\":\"1436\"},\"nonselection_glyph\":{\"id\":\"1435\"},\"selection_glyph\":null,\"view\":{\"id\":\"1438\"}},\"id\":\"1437\",\"type\":\"GlyphRenderer\"},{\"attributes\":{\"callback\":null,\"renderers\":[{\"id\":\"1437\"}],\"tags\":[\"hv_created\"],\"tooltips\":[[\"Year\",\"@{Year}\"],[\"Average price per sq ft\",\"@{Average_price_per_sq_ft}\"]]},\"id\":\"1400\",\"type\":\"HoverTool\"},{\"attributes\":{\"source\":{\"id\":\"1431\"}},\"id\":\"1438\",\"type\":\"CDSView\"},{\"attributes\":{\"axis_label\":\"Average price per sq ft\",\"bounds\":\"auto\",\"formatter\":{\"id\":\"1441\"},\"major_label_orientation\":\"horizontal\",\"ticker\":{\"id\":\"1415\"}},\"id\":\"1414\",\"type\":\"LinearAxis\"},{\"attributes\":{},\"id\":\"1439\",\"type\":\"BasicTickFormatter\"},{\"attributes\":{\"line_alpha\":0.2,\"line_color\":\"#440154\",\"line_width\":2,\"x\":{\"field\":\"Year\"},\"y\":{\"field\":\"Average price per sq ft\"}},\"id\":\"1436\",\"type\":\"Line\"},{\"attributes\":{},\"id\":\"1415\",\"type\":\"BasicTicker\"},{\"attributes\":{},\"id\":\"1441\",\"type\":\"BasicTickFormatter\"},{\"attributes\":{\"overlay\":{\"id\":\"1423\"}},\"id\":\"1421\",\"type\":\"BoxZoomTool\"},{\"attributes\":{\"bottom_units\":\"screen\",\"fill_alpha\":0.5,\"fill_color\":\"lightgrey\",\"left_units\":\"screen\",\"level\":\"overlay\",\"line_alpha\":1.0,\"line_color\":\"black\",\"line_dash\":[4,4],\"line_width\":2,\"right_units\":\"screen\",\"top_units\":\"screen\"},\"id\":\"1423\",\"type\":\"BoxAnnotation\"},{\"attributes\":{\"axis\":{\"id\":\"1414\"},\"dimension\":1,\"grid_line_color\":null,\"ticker\":null},\"id\":\"1417\",\"type\":\"Grid\"},{\"attributes\":{\"text\":\"Average price per square foot by Neighborhood\",\"text_color\":{\"value\":\"black\"},\"text_font_size\":{\"value\":\"12pt\"}},\"id\":\"1402\",\"type\":\"Title\"},{\"attributes\":{\"line_color\":\"#440154\",\"line_width\":2,\"x\":{\"field\":\"Year\"},\"y\":{\"field\":\"Average price per sq ft\"}},\"id\":\"1434\",\"type\":\"Line\"},{\"attributes\":{\"axis\":{\"id\":\"1410\"},\"grid_line_color\":null,\"ticker\":null},\"id\":\"1413\",\"type\":\"Grid\"},{\"attributes\":{},\"id\":\"1450\",\"type\":\"UnionRenderers\"},{\"attributes\":{\"children\":[{\"id\":\"1396\"}],\"margin\":[0,0,0,0],\"name\":\"Column02090\"},\"id\":\"1395\",\"type\":\"Column\"},{\"attributes\":{},\"id\":\"1406\",\"type\":\"LinearScale\"},{\"attributes\":{\"children\":[{\"id\":\"1401\"}],\"margin\":[0,0,0,0],\"name\":\"Row02089\"},\"id\":\"1397\",\"type\":\"Row\"},{\"attributes\":{\"align\":null,\"below\":[{\"id\":\"1410\"}],\"center\":[{\"id\":\"1413\"},{\"id\":\"1417\"}],\"left\":[{\"id\":\"1414\"}],\"margin\":null,\"min_border_bottom\":10,\"min_border_left\":10,\"min_border_right\":10,\"min_border_top\":10,\"plot_height\":300,\"plot_width\":700,\"renderers\":[{\"id\":\"1437\"}],\"sizing_mode\":\"fixed\",\"title\":{\"id\":\"1402\"},\"toolbar\":{\"id\":\"1424\"},\"x_range\":{\"id\":\"1398\"},\"x_scale\":{\"id\":\"1406\"},\"y_range\":{\"id\":\"1399\"},\"y_scale\":{\"id\":\"1408\"}},\"id\":\"1401\",\"subtype\":\"Figure\",\"type\":\"Plot\"},{\"attributes\":{},\"id\":\"1432\",\"type\":\"Selection\"},{\"attributes\":{\"axis_label\":\"Year\",\"bounds\":\"auto\",\"formatter\":{\"id\":\"1439\"},\"major_label_orientation\":\"horizontal\",\"ticker\":{\"id\":\"1411\"}},\"id\":\"1410\",\"type\":\"LinearAxis\"},{\"attributes\":{\"end\":2016.0,\"reset_end\":2016.0,\"reset_start\":2010.0,\"start\":2010.0,\"tags\":[[[\"Year\",\"Year\",null]]]},\"id\":\"1398\",\"type\":\"Range1d\"},{\"attributes\":{},\"id\":\"1418\",\"type\":\"SaveTool\"},{\"attributes\":{\"margin\":[5,10,5,10],\"options\":[\"Alamo Square\",\"Anza Vista\",\"Bayview\",\"Buena Vista Park\",\"Central Richmond\",\"Central Sunset\",\"Corona Heights\",\"Cow Hollow\",\"Croker Amazon\",\"Diamond Heights\",\"Downtown \",\"Eureka Valley/Dolores Heights\",\"Excelsior\",\"Financial District North\",\"Financial District South\",\"Forest Knolls\",\"Glen Park\",\"Golden Gate Heights\",\"Haight Ashbury\",\"Hayes Valley\",\"Hunters Point\",\"Ingleside \",\"Inner Mission\",\"Inner Parkside\",\"Inner Richmond\",\"Inner Sunset\",\"Jordan Park/Laurel Heights\",\"Lake --The Presidio\",\"Lone Mountain\",\"Lower Pacific Heights\",\"Marina\",\"Miraloma Park\",\"Mission Bay\",\"Mission Dolores\",\"Mission Terrace\",\"Nob Hill\",\"Noe Valley\",\"Oceanview\",\"Outer Parkside\",\"Outer Richmond \",\"Outer Sunset\",\"Pacific Heights\",\"Park North\",\"Parkside\",\"Parnassus/Ashbury Heights\",\"Portola\",\"Potrero Hill\",\"Presidio Heights\",\"Russian Hill\",\"South Beach\",\"South of Market\",\"Sunnyside\",\"Telegraph Hill\",\"Twin Peaks\",\"Union Square District\",\"Van Ness/ Civic Center\",\"West Portal\",\"Western Addition\",\"Yerba Buena\",\"Alamo Square\",\"Bayview\",\"Bernal Heights \",\"Buena Vista Park\",\"Central Richmond\",\"Central Sunset\",\"Clarendon Heights\",\"Corona Heights\",\"Cow Hollow\",\"Croker Amazon\",\"Diamond Heights\",\"Downtown \",\"Duboce Triangle\",\"Eureka Valley/Dolores Heights\",\"Financial District North\",\"Financial District South\",\"Glen Park\",\"Golden Gate Heights\",\"Haight Ashbury\",\"Hayes Valley\",\"Ingleside \",\"Ingleside Heights\",\"Inner Mission\",\"Inner Richmond\",\"Inner Sunset\",\"Jordan Park/Laurel Heights\",\"Lake --The Presidio\",\"Lone Mountain\",\"Lower Pacific Heights\",\"Marina\",\"Miraloma Park\",\"Mission Bay\",\"Mission Dolores\",\"Nob Hill\",\"Noe Valley\",\"North Beach\",\"North Waterfront\",\"Outer Mission\",\"Outer Parkside\",\"Outer Richmond \",\"Outer Sunset\",\"Pacific Heights\",\"Park North\",\"Parkside\",\"Parnassus/Ashbury Heights\",\"Portola\",\"Potrero Hill\",\"Presidio Heights\",\"Russian Hill\",\"South Beach\",\"South of Market\",\"Sunnyside\",\"Telegraph Hill\",\"Twin Peaks\",\"Union Square District\",\"Van Ness/ Civic Center\",\"Western Addition\",\"Westwood Highlands\",\"Yerba Buena\",\"Alamo Square\",\"Anza Vista\",\"Bayview\",\"Bernal Heights \",\"Buena Vista Park\",\"Central Richmond\",\"Central Sunset\",\"Corona Heights\",\"Cow Hollow\",\"Croker Amazon\",\"Diamond Heights\",\"Downtown \",\"Duboce Triangle\",\"Eureka Valley/Dolores Heights\",\"Excelsior\",\"Financial District North\",\"Financial District South\",\"Forest Knolls\",\"Haight Ashbury\",\"Hayes Valley\",\"Inner Mission\",\"Inner Richmond\",\"Inner Sunset\",\"Jordan Park/Laurel Heights\",\"Lake --The Presidio\",\"Lone Mountain\",\"Lower Pacific Heights\",\"Marina\",\"Merced Heights\",\"Midtown Terrace\",\"Miraloma Park\",\"Mission Bay\",\"Mission Dolores\",\"Nob Hill\",\"Noe Valley\",\"North Beach\",\"North Waterfront\",\"Oceanview\",\"Outer Mission\",\"Outer Parkside\",\"Outer Richmond \",\"Outer Sunset\",\"Pacific Heights\",\"Park North\",\"Parkside\",\"Parnassus/Ashbury Heights\",\"Portola\",\"Potrero Hill\",\"Presidio Heights\",\"Russian Hill\",\"South of Market\",\"Telegraph Hill\",\"Twin Peaks\",\"Union Square District\",\"Van Ness/ Civic Center\",\"West Portal\",\"Western Addition\",\"Yerba Buena\",\"Alamo Square\",\"Anza Vista\",\"Bayview\",\"Bernal Heights \",\"Buena Vista Park\",\"Central Richmond\",\"Central Sunset\",\"Clarendon Heights\",\"Cow Hollow\",\"Croker Amazon\",\"Diamond Heights\",\"Downtown \",\"Eureka Valley/Dolores Heights\",\"Excelsior\",\"Financial District North\",\"Glen Park\",\"Golden Gate Heights\",\"Haight Ashbury\",\"Hayes Valley\",\"Inner Mission\",\"Inner Richmond\",\"Inner Sunset\",\"Jordan Park/Laurel Heights\",\"Lake --The Presidio\",\"Lone Mountain\",\"Lower Pacific Heights\",\"Marina\",\"Midtown Terrace\",\"Mission Bay\",\"Mission Dolores\",\"Mission Terrace\",\"Nob Hill\",\"Noe Valley\",\"North Beach\",\"North Waterfront\",\"Outer Parkside\",\"Outer Richmond \",\"Outer Sunset\",\"Pacific Heights\",\"Park North\",\"Parkside\",\"Parnassus/Ashbury Heights\",\"Portola\",\"Potrero Hill\",\"Presidio Heights\",\"Russian Hill\",\"South of Market\",\"Sunnyside\",\"Telegraph Hill\",\"Twin Peaks\",\"Union Square District\",\"Van Ness/ Civic Center\",\"Visitacion Valley\",\"West Portal\",\"Western Addition\",\"Westwood Highlands\",\"Yerba Buena\",\"Alamo Square\",\"Anza Vista\",\"Bayview\",\"Bernal Heights \",\"Central Richmond\",\"Central Sunset\",\"Corona Heights\",\"Cow Hollow\",\"Downtown \",\"Duboce Triangle\",\"Eureka Valley/Dolores Heights\",\"Excelsior\",\"Financial District North\",\"Financial District South\",\"Glen Park\",\"Golden Gate Heights\",\"Haight Ashbury\",\"Hayes Valley\",\"Ingleside \",\"Inner Mission\",\"Inner Parkside\",\"Inner Richmond\",\"Inner Sunset\",\"Jordan Park/Laurel Heights\",\"Lake --The Presidio\",\"Lone Mountain\",\"Lower Pacific Heights\",\"Marina\",\"Merced Heights\",\"Miraloma Park\",\"Mission Bay\",\"Mission Dolores\",\"Mission Terrace\",\"Nob Hill\",\"Noe Valley\",\"North Waterfront\",\"Outer Parkside\",\"Outer Richmond \",\"Outer Sunset\",\"Pacific Heights\",\"Park North\",\"Parkside\",\"Parnassus/Ashbury Heights\",\"Portola\",\"Potrero Hill\",\"Presidio Heights\",\"Russian Hill\",\"Silver Terrace\",\"South Beach\",\"South of Market\",\"Sunnyside\",\"Telegraph Hill\",\"Twin Peaks\",\"Union Square District\",\"Van Ness/ Civic Center\",\"Visitacion Valley\",\"West Portal\",\"Western Addition\",\"Westwood Park\",\"Yerba Buena\",\"Alamo Square\",\"Anza Vista\",\"Bayview Heights\",\"Bernal Heights \",\"Buena Vista Park\",\"Central Richmond\",\"Central Sunset\",\"Corona Heights\",\"Cow Hollow\",\"Croker Amazon\",\"Downtown \",\"Duboce Triangle\",\"Eureka Valley/Dolores Heights\",\"Excelsior\",\"Financial District North\",\"Financial District South\",\"Glen Park\",\"Golden Gate Heights\",\"Haight Ashbury\",\"Hayes Valley\",\"Hunters Point\",\"Ingleside \",\"Inner Mission\",\"Inner Parkside\",\"Inner Richmond\",\"Inner Sunset\",\"Jordan Park/Laurel Heights\",\"Lake --The Presidio\",\"Lone Mountain\",\"Lower Pacific Heights\",\"Marina\",\"Mission Dolores\",\"Mission Terrace\",\"Nob Hill\",\"Noe Valley\",\"North Beach\",\"North Waterfront\",\"Oceanview\",\"Outer Mission\",\"Outer Parkside\",\"Outer Richmond \",\"Outer Sunset\",\"Pacific Heights\",\"Park North\",\"Parkside\",\"Parnassus/Ashbury Heights\",\"Potrero Hill\",\"Presidio Heights\",\"Russian Hill\",\"South of Market\",\"Sunnyside\",\"Telegraph Hill\",\"Twin Peaks\",\"Union Square District\",\"Van Ness/ Civic Center\",\"Visitacion Valley\",\"Western Addition\",\"Yerba Buena\",\"Alamo Square\",\"Anza Vista\",\"Bernal Heights \",\"Buena Vista Park\",\"Central Richmond\",\"Central Sunset\",\"Cow Hollow\",\"Croker Amazon\",\"Downtown \",\"Eureka Valley/Dolores Heights\",\"Excelsior\",\"Financial District North\",\"Glen Park\",\"Haight Ashbury\",\"Hayes Valley\",\"Ingleside Heights\",\"Inner Mission\",\"Inner Parkside\",\"Inner Richmond\",\"Inner Sunset\",\"Jordan Park/Laurel Heights\",\"Lower Pacific Heights\",\"Marina\",\"Merced Heights\",\"Mission Bay\",\"Mission Terrace\",\"Nob Hill\",\"Noe Valley\",\"North Beach\",\"Outer Mission\",\"Outer Parkside\",\"Outer Richmond \",\"Outer Sunset\",\"Pacific Heights\",\"Park North\",\"Parnassus/Ashbury Heights\",\"Potrero Hill\",\"Presidio Heights\",\"Russian Hill\",\"South of Market\",\"Sunnyside\",\"Telegraph Hill\",\"Twin Peaks\",\"Van Ness/ Civic Center\",\"Visitacion Valley\",\"Westwood Park\"],\"title\":\"neighborhood\",\"value\":\"Alamo Square\"},\"id\":\"1396\",\"type\":\"Select\"},{\"attributes\":{},\"id\":\"1411\",\"type\":\"BasicTicker\"},{\"attributes\":{},\"id\":\"1408\",\"type\":\"LinearScale\"},{\"attributes\":{\"data\":{\"Average price per sq ft\":{\"__ndarray__\":\"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\",\"dtype\":\"float64\",\"order\":\"little\",\"shape\":[397]},\"Average_price_per_sq_ft\":{\"__ndarray__\":\"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\",\"dtype\":\"float64\",\"order\":\"little\",\"shape\":[397]},\"Year\":[2010,2010,2010,2010,2010,2010,2010,2010,2010,2010,2010,2010,2010,2010,2010,2010,2010,2010,2010,2010,2010,2010,2010,2010,2010,2010,2010,2010,2010,2010,2010,2010,2010,2010,2010,2010,2010,2010,2010,2010,2010,2010,2010,2010,2010,2010,2010,2010,2010,2010,2010,2010,2010,2010,2010,2010,2010,2010,2010,2011,2011,2011,2011,2011,2011,2011,2011,2011,2011,2011,2011,2011,2011,2011,2011,2011,2011,2011,2011,2011,2011,2011,2011,2011,2011,2011,2011,2011,2011,2011,2011,2011,2011,2011,2011,2011,2011,2011,2011,2011,2011,2011,2011,2011,2011,2011,2011,2011,2011,2011,2011,2011,2011,2011,2011,2011,2011,2011,2012,2012,2012,2012,2012,2012,2012,2012,2012,2012,2012,2012,2012,2012,2012,2012,2012,2012,2012,2012,2012,2012,2012,2012,2012,2012,2012,2012,2012,2012,2012,2012,2012,2012,2012,2012,2012,2012,2012,2012,2012,2012,2012,2012,2012,2012,2012,2012,2012,2012,2012,2012,2012,2012,2012,2012,2012,2012,2013,2013,2013,2013,2013,2013,2013,2013,2013,2013,2013,2013,2013,2013,2013,2013,2013,2013,2013,2013,2013,2013,2013,2013,2013,2013,2013,2013,2013,2013,2013,2013,2013,2013,2013,2013,2013,2013,2013,2013,2013,2013,2013,2013,2013,2013,2013,2013,2013,2013,2013,2013,2013,2013,2013,2013,2013,2014,2014,2014,2014,2014,2014,2014,2014,2014,2014,2014,2014,2014,2014,2014,2014,2014,2014,2014,2014,2014,2014,2014,2014,2014,2014,2014,2014,2014,2014,2014,2014,2014,2014,2014,2014,2014,2014,2014,2014,2014,2014,2014,2014,2014,2014,2014,2014,2014,2014,2014,2014,2014,2014,2014,2014,2014,2014,2014,2014,2015,2015,2015,2015,2015,2015,2015,2015,2015,2015,2015,2015,2015,2015,2015,2015,2015,2015,2015,2015,2015,2015,2015,2015,2015,2015,2015,2015,2015,2015,2015,2015,2015,2015,2015,2015,2015,2015,2015,2015,2015,2015,2015,2015,2015,2015,2015,2015,2015,2015,2015,2015,2015,2015,2015,2015,2015,2015,2016,2016,2016,2016,2016,2016,2016,2016,2016,2016,2016,2016,2016,2016,2016,2016,2016,2016,2016,2016,2016,2016,2016,2016,2016,2016,2016,2016,2016,2016,2016,2016,2016,2016,2016,2016,2016,2016,2016,2016,2016,2016,2016,2016,2016,2016]},\"selected\":{\"id\":\"1432\"},\"selection_policy\":{\"id\":\"1450\"}},\"id\":\"1431\",\"type\":\"ColumnDataSource\"},{\"attributes\":{\"children\":[{\"id\":\"1395\"},{\"id\":\"1397\"}],\"margin\":[0,0,0,0],\"name\":\"Column02008\"},\"id\":\"1394\",\"type\":\"Column\"},{\"attributes\":{\"active_drag\":\"auto\",\"active_inspect\":\"auto\",\"active_multi\":null,\"active_scroll\":\"auto\",\"active_tap\":\"auto\",\"tools\":[{\"id\":\"1400\"},{\"id\":\"1418\"},{\"id\":\"1419\"},{\"id\":\"1420\"},{\"id\":\"1421\"},{\"id\":\"1422\"}]},\"id\":\"1424\",\"type\":\"Toolbar\"}],\"root_ids\":[\"1394\",\"1483\"]},\"title\":\"Bokeh Application\",\"version\":\"2.1.1\"}};\n",
       "  var render_items = [{\"docid\":\"c0de85c4-e80e-47e8-9c14-0eab29deaf9a\",\"root_ids\":[\"1394\"],\"roots\":{\"1394\":\"051ebd07-1e57-40f3-866c-cbb56d71f7ac\"}}];\n",
       "  root.Bokeh.embed.embed_items_notebook(docs_json, render_items);\n",
       "  }\n",
       "if (root.Bokeh !== undefined) {\n",
       "    embed_document(root);\n",
       "  } else {\n",
       "    var attempts = 0;\n",
       "    var timer = setInterval(function(root) {\n",
       "      if (root.Bokeh !== undefined) {\n",
       "        clearInterval(timer);\n",
       "        embed_document(root);\n",
       "      } else if (document.readyState == \"complete\") {\n",
       "        attempts++;\n",
       "        if (attempts > 100) {\n",
       "          clearInterval(timer);\n",
       "          console.log(\"Bokeh: ERROR: Unable to run BokehJS code because BokehJS library is missing\");\n",
       "        }\n",
       "      }\n",
       "    }, 10, root)\n",
       "  }\n",
       "})(window);</script>"
      ],
      "text/plain": [
       "Column\n",
       "    [0] Column\n",
       "        [0] Select(name='neighborhood', options=['Alamo Square', ...], value='Alamo Square')\n",
       "    [1] Row\n",
       "        [0] HoloViews(Curve, name='interactive02007')"
      ]
     },
     "execution_count": 82,
     "metadata": {
      "application/vnd.holoviews_exec.v0+json": {
       "id": "1394"
      }
     },
     "output_type": "execute_result"
    }
   ],
   "source": [
    "# Use hvplot to create an interactive line chart of the average price per sq ft.\n",
    "# The plot should have a dropdown selector for the neighborhood\n",
    "\n",
    "# Define function to create plot\n",
    "def avgprice_persqft(neighborhood):\n",
    "    plot1 = pd.DataFrame(\n",
    "        {\n",
    "            \"Average price per sq ft\": mean_df['Avg_sale_price_per_sqft'],\n",
    "            \"Year\": mean_df['year'],\n",
    "        }\n",
    "    ).sort_values([\"Year\", \"Average price per sq ft\"])\n",
    "\n",
    "    return plot1.hvplot.line(\n",
    "        x='Year', \n",
    "        y='Average price per sq ft',\n",
    "        colormap=\"viridis\",\n",
    "        title=\"Average price per square foot by Neighborhood\",\n",
    "        )\n",
    "\n",
    "\n",
    "# Render plot with Panel interactive widget\n",
    "interact(avgprice_persqft, neighborhood=mean_df['neighborhood'])"
   ]
  },
  {
   "cell_type": "markdown",
   "metadata": {},
   "source": [
    "### Top 10 most expensive neighborhoods"
   ]
  },
  {
   "cell_type": "code",
   "execution_count": 83,
   "metadata": {},
   "outputs": [
    {
     "data": {
      "text/html": [
       "<div>\n",
       "<style scoped>\n",
       "    .dataframe tbody tr th:only-of-type {\n",
       "        vertical-align: middle;\n",
       "    }\n",
       "\n",
       "    .dataframe tbody tr th {\n",
       "        vertical-align: top;\n",
       "    }\n",
       "\n",
       "    .dataframe thead th {\n",
       "        text-align: right;\n",
       "    }\n",
       "</style>\n",
       "<table border=\"1\" class=\"dataframe\">\n",
       "  <thead>\n",
       "    <tr style=\"text-align: right;\">\n",
       "      <th></th>\n",
       "      <th>neighborhood</th>\n",
       "      <th>sale_price_sqr_foot</th>\n",
       "      <th>housing_units</th>\n",
       "      <th>gross_rent</th>\n",
       "    </tr>\n",
       "  </thead>\n",
       "  <tbody>\n",
       "    <tr>\n",
       "      <th>0</th>\n",
       "      <td>Union Square District</td>\n",
       "      <td>903.993258</td>\n",
       "      <td>377427.50</td>\n",
       "      <td>2555.166667</td>\n",
       "    </tr>\n",
       "    <tr>\n",
       "      <th>1</th>\n",
       "      <td>Merced Heights</td>\n",
       "      <td>788.844818</td>\n",
       "      <td>380348.00</td>\n",
       "      <td>3414.000000</td>\n",
       "    </tr>\n",
       "    <tr>\n",
       "      <th>2</th>\n",
       "      <td>Miraloma Park</td>\n",
       "      <td>779.810842</td>\n",
       "      <td>375967.25</td>\n",
       "      <td>2155.250000</td>\n",
       "    </tr>\n",
       "    <tr>\n",
       "      <th>3</th>\n",
       "      <td>Pacific Heights</td>\n",
       "      <td>689.555817</td>\n",
       "      <td>378401.00</td>\n",
       "      <td>2817.285714</td>\n",
       "    </tr>\n",
       "    <tr>\n",
       "      <th>4</th>\n",
       "      <td>Westwood Park</td>\n",
       "      <td>687.087575</td>\n",
       "      <td>382295.00</td>\n",
       "      <td>3959.000000</td>\n",
       "    </tr>\n",
       "    <tr>\n",
       "      <th>5</th>\n",
       "      <td>Telegraph Hill</td>\n",
       "      <td>676.506578</td>\n",
       "      <td>378401.00</td>\n",
       "      <td>2817.285714</td>\n",
       "    </tr>\n",
       "    <tr>\n",
       "      <th>6</th>\n",
       "      <td>Presidio Heights</td>\n",
       "      <td>675.350212</td>\n",
       "      <td>378401.00</td>\n",
       "      <td>2817.285714</td>\n",
       "    </tr>\n",
       "    <tr>\n",
       "      <th>7</th>\n",
       "      <td>Cow Hollow</td>\n",
       "      <td>665.964042</td>\n",
       "      <td>378401.00</td>\n",
       "      <td>2817.285714</td>\n",
       "    </tr>\n",
       "    <tr>\n",
       "      <th>8</th>\n",
       "      <td>Potrero Hill</td>\n",
       "      <td>662.013613</td>\n",
       "      <td>378401.00</td>\n",
       "      <td>2817.285714</td>\n",
       "    </tr>\n",
       "    <tr>\n",
       "      <th>9</th>\n",
       "      <td>South Beach</td>\n",
       "      <td>650.124479</td>\n",
       "      <td>375805.00</td>\n",
       "      <td>2099.000000</td>\n",
       "    </tr>\n",
       "  </tbody>\n",
       "</table>\n",
       "</div>"
      ],
      "text/plain": [
       "            neighborhood  sale_price_sqr_foot  housing_units   gross_rent\n",
       "0  Union Square District           903.993258      377427.50  2555.166667\n",
       "1         Merced Heights           788.844818      380348.00  3414.000000\n",
       "2          Miraloma Park           779.810842      375967.25  2155.250000\n",
       "3        Pacific Heights           689.555817      378401.00  2817.285714\n",
       "4          Westwood Park           687.087575      382295.00  3959.000000\n",
       "5         Telegraph Hill           676.506578      378401.00  2817.285714\n",
       "6       Presidio Heights           675.350212      378401.00  2817.285714\n",
       "7             Cow Hollow           665.964042      378401.00  2817.285714\n",
       "8           Potrero Hill           662.013613      378401.00  2817.285714\n",
       "9            South Beach           650.124479      375805.00  2099.000000"
      ]
     },
     "execution_count": 83,
     "metadata": {},
     "output_type": "execute_result"
    }
   ],
   "source": [
    "# Calculating top 10 priced neighborhoods\n",
    "\n",
    "top_10=sfo_data.groupby(['neighborhood']).mean().sort_values('sale_price_sqr_foot', ascending = False)\n",
    "top10 = top_10.head(10).reset_index()\n",
    "top10"
   ]
  },
  {
   "cell_type": "code",
   "execution_count": 84,
   "metadata": {},
   "outputs": [
    {
     "data": {
      "image/png": "[encoded data removed]",
      "text/plain": [
       "<Figure size 432x288 with 1 Axes>"
      ]
     },
     "metadata": {
      "needs_background": "light"
     },
     "output_type": "display_data"
    }
   ],
   "source": [
    "#Plotting top 10 priced neighborhoods\n",
    "\n",
    "top10.head(10).plot.bar(y='sale_price_sqr_foot').set_ylim([600,950]);"
   ]
  },
  {
   "cell_type": "markdown",
   "metadata": {},
   "source": [
    "###  Parallel Coordinates and Parallel Categories Analysis"
   ]
  },
  {
   "cell_type": "code",
   "execution_count": 85,
   "metadata": {},
   "outputs": [
    {
     "data": {
      "application/vnd.plotly.v1+json": {
       "config": {
        "plotlyServerURL": "https://plot.ly"
       },
       "data": [
        {
         "dimensions": [
          {
           "label": "sale_price_sqr_foot",
           "values": [
            903.9932576720645,
            788.8448175872469,
            779.810842264425,
            689.5558168113664,
            687.0875745178323,
            676.5065775293257,
            675.3502120510033,
            665.964041578323,
            662.0136128276529,
            650.1244791945729
           ]
          },
          {
           "label": "housing_units",
           "values": [
            377427.5,
            380348,
            375967.25,
            378401,
            382295,
            378401,
            378401,
            378401,
            378401,
            375805
           ]
          },
          {
           "label": "gross_rent",
           "values": [
            2555.1666666666665,
            3414,
            2155.25,
            2817.285714285714,
            3959,
            2817.285714285714,
            2817.285714285714,
            2817.285714285714,
            2817.285714285714,
            2099
           ]
          }
         ],
         "domain": {
          "x": [
           0,
           1
          ],
          "y": [
           0,
           1
          ]
         },
         "line": {
          "color": [
           903.9932576720645,
           788.8448175872469,
           779.810842264425,
           689.5558168113664,
           687.0875745178323,
           676.5065775293257,
           675.3502120510033,
           665.964041578323,
           662.0136128276529,
           650.1244791945729
          ],
          "coloraxis": "coloraxis"
         },
         "name": "",
         "type": "parcoords"
        }
       ],
       "layout": {
        "autosize": true,
        "coloraxis": {
         "colorbar": {
          "title": {
           "text": "sale_price_sqr_foot"
          }
         },
         "colorscale": [
          [
           0,
           "#0d0887"
          ],
          [
           0.1111111111111111,
           "#46039f"
          ],
          [
           0.2222222222222222,
           "#7201a8"
          ],
          [
           0.3333333333333333,
           "#9c179e"
          ],
          [
           0.4444444444444444,
           "#bd3786"
          ],
          [
           0.5555555555555556,
           "#d8576b"
          ],
          [
           0.6666666666666666,
           "#ed7953"
          ],
          [
           0.7777777777777778,
           "#fb9f3a"
          ],
          [
           0.8888888888888888,
           "#fdca26"
          ],
          [
           1,
           "#f0f921"
          ]
         ]
        },
        "legend": {
         "tracegroupgap": 0
        },
        "margin": {
         "t": 60
        },
        "template": {
         "data": {
          "bar": [
           {
            "error_x": {
             "color": "#2a3f5f"
            },
            "error_y": {
             "color": "#2a3f5f"
            },
            "marker": {
             "line": {
              "color": "#E5ECF6",
              "width": 0.5
             }
            },
            "type": "bar"
           }
          ],
          "barpolar": [
           {
            "marker": {
             "line": {
              "color": "#E5ECF6",
              "width": 0.5
             }
            },
            "type": "barpolar"
           }
          ],
          "carpet": [
           {
            "aaxis": {
             "endlinecolor": "#2a3f5f",
             "gridcolor": "white",
             "linecolor": "white",
             "minorgridcolor": "white",
             "startlinecolor": "#2a3f5f"
            },
            "baxis": {
             "endlinecolor": "#2a3f5f",
             "gridcolor": "white",
             "linecolor": "white",
             "minorgridcolor": "white",
             "startlinecolor": "#2a3f5f"
            },
            "type": "carpet"
           }
          ],
          "choropleth": [
           {
            "colorbar": {
             "outlinewidth": 0,
             "ticks": ""
            },
            "type": "choropleth"
           }
          ],
          "contour": [
           {
            "colorbar": {
             "outlinewidth": 0,
             "ticks": ""
            },
            "colorscale": [
             [
              0,
              "#0d0887"
             ],
             [
              0.1111111111111111,
              "#46039f"
             ],
             [
              0.2222222222222222,
              "#7201a8"
             ],
             [
              0.3333333333333333,
              "#9c179e"
             ],
             [
              0.4444444444444444,
              "#bd3786"
             ],
             [
              0.5555555555555556,
              "#d8576b"
             ],
             [
              0.6666666666666666,
              "#ed7953"
             ],
             [
              0.7777777777777778,
              "#fb9f3a"
             ],
             [
              0.8888888888888888,
              "#fdca26"
             ],
             [
              1,
              "#f0f921"
             ]
            ],
            "type": "contour"
           }
          ],
          "contourcarpet": [
           {
            "colorbar": {
             "outlinewidth": 0,
             "ticks": ""
            },
            "type": "contourcarpet"
           }
          ],
          "heatmap": [
           {
            "colorbar": {
             "outlinewidth": 0,
             "ticks": ""
            },
            "colorscale": [
             [
              0,
              "#0d0887"
             ],
             [
              0.1111111111111111,
              "#46039f"
             ],
             [
              0.2222222222222222,
              "#7201a8"
             ],
             [
              0.3333333333333333,
              "#9c179e"
             ],
             [
              0.4444444444444444,
              "#bd3786"
             ],
             [
              0.5555555555555556,
              "#d8576b"
             ],
             [
              0.6666666666666666,
              "#ed7953"
             ],
             [
              0.7777777777777778,
              "#fb9f3a"
             ],
             [
              0.8888888888888888,
              "#fdca26"
             ],
             [
              1,
              "#f0f921"
             ]
            ],
            "type": "heatmap"
           }
          ],
          "heatmapgl": [
           {
            "colorbar": {
             "outlinewidth": 0,
             "ticks": ""
            },
            "colorscale": [
             [
              0,
              "#0d0887"
             ],
             [
              0.1111111111111111,
              "#46039f"
             ],
             [
              0.2222222222222222,
              "#7201a8"
             ],
             [
              0.3333333333333333,
              "#9c179e"
             ],
             [
              0.4444444444444444,
              "#bd3786"
             ],
             [
              0.5555555555555556,
              "#d8576b"
             ],
             [
              0.6666666666666666,
              "#ed7953"
             ],
             [
              0.7777777777777778,
              "#fb9f3a"
             ],
             [
              0.8888888888888888,
              "#fdca26"
             ],
             [
              1,
              "#f0f921"
             ]
            ],
            "type": "heatmapgl"
           }
          ],
          "histogram": [
           {
            "marker": {
             "colorbar": {
              "outlinewidth": 0,
              "ticks": ""
             }
            },
            "type": "histogram"
           }
          ],
          "histogram2d": [
           {
            "colorbar": {
             "outlinewidth": 0,
             "ticks": ""
            },
            "colorscale": [
             [
              0,
              "#0d0887"
             ],
             [
              0.1111111111111111,
              "#46039f"
             ],
             [
              0.2222222222222222,
              "#7201a8"
             ],
             [
              0.3333333333333333,
              "#9c179e"
             ],
             [
              0.4444444444444444,
              "#bd3786"
             ],
             [
              0.5555555555555556,
              "#d8576b"
             ],
             [
              0.6666666666666666,
              "#ed7953"
             ],
             [
              0.7777777777777778,
              "#fb9f3a"
             ],
             [
              0.8888888888888888,
              "#fdca26"
             ],
             [
              1,
              "#f0f921"
             ]
            ],
            "type": "histogram2d"
           }
          ],
          "histogram2dcontour": [
           {
            "colorbar": {
             "outlinewidth": 0,
             "ticks": ""
            },
            "colorscale": [
             [
              0,
              "#0d0887"
             ],
             [
              0.1111111111111111,
              "#46039f"
             ],
             [
              0.2222222222222222,
              "#7201a8"
             ],
             [
              0.3333333333333333,
              "#9c179e"
             ],
             [
              0.4444444444444444,
              "#bd3786"
             ],
             [
              0.5555555555555556,
              "#d8576b"
             ],
             [
              0.6666666666666666,
              "#ed7953"
             ],
             [
              0.7777777777777778,
              "#fb9f3a"
             ],
             [
              0.8888888888888888,
              "#fdca26"
             ],
             [
              1,
              "#f0f921"
             ]
            ],
            "type": "histogram2dcontour"
           }
          ],
          "mesh3d": [
           {
            "colorbar": {
             "outlinewidth": 0,
             "ticks": ""
            },
            "type": "mesh3d"
           }
          ],
          "parcoords": [
           {
            "line": {
             "colorbar": {
              "outlinewidth": 0,
              "ticks": ""
             }
            },
            "type": "parcoords"
           }
          ],
          "pie": [
           {
            "automargin": true,
            "type": "pie"
           }
          ],
          "scatter": [
           {
            "marker": {
             "colorbar": {
              "outlinewidth": 0,
              "ticks": ""
             }
            },
            "type": "scatter"
           }
          ],
          "scatter3d": [
           {
            "line": {
             "colorbar": {
              "outlinewidth": 0,
              "ticks": ""
             }
            },
            "marker": {
             "colorbar": {
              "outlinewidth": 0,
              "ticks": ""
             }
            },
            "type": "scatter3d"
           }
          ],
          "scattercarpet": [
           {
            "marker": {
             "colorbar": {
              "outlinewidth": 0,
              "ticks": ""
             }
            },
            "type": "scattercarpet"
           }
          ],
          "scattergeo": [
           {
            "marker": {
             "colorbar": {
              "outlinewidth": 0,
              "ticks": ""
             }
            },
            "type": "scattergeo"
           }
          ],
          "scattergl": [
           {
            "marker": {
             "colorbar": {
              "outlinewidth": 0,
              "ticks": ""
             }
            },
            "type": "scattergl"
           }
          ],
          "scattermapbox": [
           {
            "marker": {
             "colorbar": {
              "outlinewidth": 0,
              "ticks": ""
             }
            },
            "type": "scattermapbox"
           }
          ],
          "scatterpolar": [
           {
            "marker": {
             "colorbar": {
              "outlinewidth": 0,
              "ticks": ""
             }
            },
            "type": "scatterpolar"
           }
          ],
          "scatterpolargl": [
           {
            "marker": {
             "colorbar": {
              "outlinewidth": 0,
              "ticks": ""
             }
            },
            "type": "scatterpolargl"
           }
          ],
          "scatterternary": [
           {
            "marker": {
             "colorbar": {
              "outlinewidth": 0,
              "ticks": ""
             }
            },
            "type": "scatterternary"
           }
          ],
          "surface": [
           {
            "colorbar": {
             "outlinewidth": 0,
             "ticks": ""
            },
            "colorscale": [
             [
              0,
              "#0d0887"
             ],
             [
              0.1111111111111111,
              "#46039f"
             ],
             [
              0.2222222222222222,
              "#7201a8"
             ],
             [
              0.3333333333333333,
              "#9c179e"
             ],
             [
              0.4444444444444444,
              "#bd3786"
             ],
             [
              0.5555555555555556,
              "#d8576b"
             ],
             [
              0.6666666666666666,
              "#ed7953"
             ],
             [
              0.7777777777777778,
              "#fb9f3a"
             ],
             [
              0.8888888888888888,
              "#fdca26"
             ],
             [
              1,
              "#f0f921"
             ]
            ],
            "type": "surface"
           }
          ],
          "table": [
           {
            "cells": {
             "fill": {
              "color": "#EBF0F8"
             },
             "line": {
              "color": "white"
             }
            },
            "header": {
             "fill": {
              "color": "#C8D4E3"
             },
             "line": {
              "color": "white"
             }
            },
            "type": "table"
           }
          ]
         },
         "layout": {
          "annotationdefaults": {
           "arrowcolor": "#2a3f5f",
           "arrowhead": 0,
           "arrowwidth": 1
          },
          "coloraxis": {
           "colorbar": {
            "outlinewidth": 0,
            "ticks": ""
           }
          },
          "colorscale": {
           "diverging": [
            [
             0,
             "#8e0152"
            ],
            [
             0.1,
             "#c51b7d"
            ],
            [
             0.2,
             "#de77ae"
            ],
            [
             0.3,
             "#f1b6da"
            ],
            [
             0.4,
             "#fde0ef"
            ],
            [
             0.5,
             "#f7f7f7"
            ],
            [
             0.6,
             "#e6f5d0"
            ],
            [
             0.7,
             "#b8e186"
            ],
            [
             0.8,
             "#7fbc41"
            ],
            [
             0.9,
             "#4d9221"
            ],
            [
             1,
             "#276419"
            ]
           ],
           "sequential": [
            [
             0,
             "#0d0887"
            ],
            [
             0.1111111111111111,
             "#46039f"
            ],
            [
             0.2222222222222222,
             "#7201a8"
            ],
            [
             0.3333333333333333,
             "#9c179e"
            ],
            [
             0.4444444444444444,
             "#bd3786"
            ],
            [
             0.5555555555555556,
             "#d8576b"
            ],
            [
             0.6666666666666666,
             "#ed7953"
            ],
            [
             0.7777777777777778,
             "#fb9f3a"
            ],
            [
             0.8888888888888888,
             "#fdca26"
            ],
            [
             1,
             "#f0f921"
            ]
           ],
           "sequentialminus": [
            [
             0,
             "#0d0887"
            ],
            [
             0.1111111111111111,
             "#46039f"
            ],
            [
             0.2222222222222222,
             "#7201a8"
            ],
            [
             0.3333333333333333,
             "#9c179e"
            ],
            [
             0.4444444444444444,
             "#bd3786"
            ],
            [
             0.5555555555555556,
             "#d8576b"
            ],
            [
             0.6666666666666666,
             "#ed7953"
            ],
            [
             0.7777777777777778,
             "#fb9f3a"
            ],
            [
             0.8888888888888888,
             "#fdca26"
            ],
            [
             1,
             "#f0f921"
            ]
           ]
          },
          "colorway": [
           "#636efa",
           "#EF553B",
           "#00cc96",
           "#ab63fa",
           "#FFA15A",
           "#19d3f3",
           "#FF6692",
           "#B6E880",
           "#FF97FF",
           "#FECB52"
          ],
          "font": {
           "color": "#2a3f5f"
          },
          "geo": {
           "bgcolor": "white",
           "lakecolor": "white",
           "landcolor": "#E5ECF6",
           "showlakes": true,
           "showland": true,
           "subunitcolor": "white"
          },
          "hoverlabel": {
           "align": "left"
          },
          "hovermode": "closest",
          "mapbox": {
           "style": "light"
          },
          "paper_bgcolor": "white",
          "plot_bgcolor": "#E5ECF6",
          "polar": {
           "angularaxis": {
            "gridcolor": "white",
            "linecolor": "white",
            "ticks": ""
           },
           "bgcolor": "#E5ECF6",
           "radialaxis": {
            "gridcolor": "white",
            "linecolor": "white",
            "ticks": ""
           }
          },
          "scene": {
           "xaxis": {
            "backgroundcolor": "#E5ECF6",
            "gridcolor": "white",
            "gridwidth": 2,
            "linecolor": "white",
            "showbackground": true,
            "ticks": "",
            "zerolinecolor": "white"
           },
           "yaxis": {
            "backgroundcolor": "#E5ECF6",
            "gridcolor": "white",
            "gridwidth": 2,
            "linecolor": "white",
            "showbackground": true,
            "ticks": "",
            "zerolinecolor": "white"
           },
           "zaxis": {
            "backgroundcolor": "#E5ECF6",
            "gridcolor": "white",
            "gridwidth": 2,
            "linecolor": "white",
            "showbackground": true,
            "ticks": "",
            "zerolinecolor": "white"
           }
          },
          "shapedefaults": {
           "line": {
            "color": "#2a3f5f"
           }
          },
          "ternary": {
           "aaxis": {
            "gridcolor": "white",
            "linecolor": "white",
            "ticks": ""
           },
           "baxis": {
            "gridcolor": "white",
            "linecolor": "white",
            "ticks": ""
           },
           "bgcolor": "#E5ECF6",
           "caxis": {
            "gridcolor": "white",
            "linecolor": "white",
            "ticks": ""
           }
          },
          "title": {
           "x": 0.05
          },
          "xaxis": {
           "automargin": true,
           "gridcolor": "white",
           "linecolor": "white",
           "ticks": "",
           "title": {
            "standoff": 15
           },
           "zerolinecolor": "white",
           "zerolinewidth": 2
          },
          "yaxis": {
           "automargin": true,
           "gridcolor": "white",
           "linecolor": "white",
           "ticks": "",
           "title": {
            "standoff": 15
           },
           "zerolinecolor": "white",
           "zerolinewidth": 2
          }
         }
        }
       }
      },
      "image/png": "[encoded data removed]",
      "text/html": [
       "<div>                            <div id=\"4bf5b088-3519-4575-84bf-3e1648d194a5\" class=\"plotly-graph-div\" style=\"height:525px; width:100%;\"></div>            <script type=\"text/javascript\">                require([\"plotly\"], function(Plotly) {                    window.PLOTLYENV=window.PLOTLYENV || {};                                    if (document.getElementById(\"4bf5b088-3519-4575-84bf-3e1648d194a5\")) {                    Plotly.newPlot(                        \"4bf5b088-3519-4575-84bf-3e1648d194a5\",                        [{\"dimensions\": [{\"label\": \"sale_price_sqr_foot\", \"values\": [903.9932576720645, 788.8448175872469, 779.810842264425, 689.5558168113664, 687.0875745178323, 676.5065775293257, 675.3502120510033, 665.964041578323, 662.0136128276529, 650.1244791945729]}, {\"label\": \"housing_units\", \"values\": [377427.5, 380348.0, 375967.25, 378401.0, 382295.0, 378401.0, 378401.0, 378401.0, 378401.0, 375805.0]}, {\"label\": \"gross_rent\", \"values\": [2555.1666666666665, 3414.0, 2155.25, 2817.285714285714, 3959.0, 2817.285714285714, 2817.285714285714, 2817.285714285714, 2817.285714285714, 2099.0]}], \"domain\": {\"x\": [0.0, 1.0], \"y\": [0.0, 1.0]}, \"line\": {\"color\": [903.9932576720645, 788.8448175872469, 779.810842264425, 689.5558168113664, 687.0875745178323, 676.5065775293257, 675.3502120510033, 665.964041578323, 662.0136128276529, 650.1244791945729], \"coloraxis\": \"coloraxis\"}, \"name\": \"\", \"type\": \"parcoords\"}],                        {\"coloraxis\": {\"colorbar\": {\"title\": {\"text\": \"sale_price_sqr_foot\"}}, \"colorscale\": [[0.0, \"#0d0887\"], [0.1111111111111111, \"#46039f\"], [0.2222222222222222, \"#7201a8\"], [0.3333333333333333, \"#9c179e\"], [0.4444444444444444, \"#bd3786\"], [0.5555555555555556, \"#d8576b\"], [0.6666666666666666, \"#ed7953\"], [0.7777777777777778, \"#fb9f3a\"], [0.8888888888888888, \"#fdca26\"], [1.0, \"#f0f921\"]]}, \"legend\": {\"tracegroupgap\": 0}, \"margin\": {\"t\": 60}, \"template\": {\"data\": {\"bar\": [{\"error_x\": {\"color\": \"#2a3f5f\"}, \"error_y\": {\"color\": \"#2a3f5f\"}, \"marker\": {\"line\": {\"color\": \"#E5ECF6\", \"width\": 0.5}}, \"type\": \"bar\"}], \"barpolar\": [{\"marker\": {\"line\": {\"color\": \"#E5ECF6\", \"width\": 0.5}}, \"type\": \"barpolar\"}], \"carpet\": [{\"aaxis\": {\"endlinecolor\": \"#2a3f5f\", \"gridcolor\": \"white\", \"linecolor\": \"white\", \"minorgridcolor\": \"white\", \"startlinecolor\": \"#2a3f5f\"}, \"baxis\": {\"endlinecolor\": \"#2a3f5f\", \"gridcolor\": \"white\", \"linecolor\": \"white\", \"minorgridcolor\": \"white\", \"startlinecolor\": \"#2a3f5f\"}, \"type\": \"carpet\"}], \"choropleth\": [{\"colorbar\": {\"outlinewidth\": 0, \"ticks\": \"\"}, \"type\": \"choropleth\"}], \"contour\": [{\"colorbar\": {\"outlinewidth\": 0, \"ticks\": \"\"}, \"colorscale\": [[0.0, \"#0d0887\"], [0.1111111111111111, \"#46039f\"], [0.2222222222222222, \"#7201a8\"], [0.3333333333333333, \"#9c179e\"], [0.4444444444444444, \"#bd3786\"], [0.5555555555555556, \"#d8576b\"], [0.6666666666666666, \"#ed7953\"], [0.7777777777777778, \"#fb9f3a\"], [0.8888888888888888, \"#fdca26\"], [1.0, \"#f0f921\"]], \"type\": \"contour\"}], \"contourcarpet\": [{\"colorbar\": {\"outlinewidth\": 0, \"ticks\": \"\"}, \"type\": \"contourcarpet\"}], \"heatmap\": [{\"colorbar\": {\"outlinewidth\": 0, \"ticks\": \"\"}, \"colorscale\": [[0.0, \"#0d0887\"], [0.1111111111111111, \"#46039f\"], [0.2222222222222222, \"#7201a8\"], [0.3333333333333333, \"#9c179e\"], [0.4444444444444444, \"#bd3786\"], [0.5555555555555556, \"#d8576b\"], [0.6666666666666666, \"#ed7953\"], [0.7777777777777778, \"#fb9f3a\"], [0.8888888888888888, \"#fdca26\"], [1.0, \"#f0f921\"]], \"type\": \"heatmap\"}], \"heatmapgl\": [{\"colorbar\": {\"outlinewidth\": 0, \"ticks\": \"\"}, \"colorscale\": [[0.0, \"#0d0887\"], [0.1111111111111111, \"#46039f\"], [0.2222222222222222, \"#7201a8\"], [0.3333333333333333, \"#9c179e\"], [0.4444444444444444, \"#bd3786\"], [0.5555555555555556, \"#d8576b\"], [0.6666666666666666, \"#ed7953\"], [0.7777777777777778, \"#fb9f3a\"], [0.8888888888888888, \"#fdca26\"], [1.0, \"#f0f921\"]], \"type\": \"heatmapgl\"}], \"histogram\": [{\"marker\": {\"colorbar\": {\"outlinewidth\": 0, \"ticks\": \"\"}}, \"type\": \"histogram\"}], \"histogram2d\": [{\"colorbar\": {\"outlinewidth\": 0, \"ticks\": \"\"}, \"colorscale\": [[0.0, \"#0d0887\"], [0.1111111111111111, \"#46039f\"], [0.2222222222222222, \"#7201a8\"], [0.3333333333333333, \"#9c179e\"], [0.4444444444444444, \"#bd3786\"], [0.5555555555555556, \"#d8576b\"], [0.6666666666666666, \"#ed7953\"], [0.7777777777777778, \"#fb9f3a\"], [0.8888888888888888, \"#fdca26\"], [1.0, \"#f0f921\"]], \"type\": \"histogram2d\"}], \"histogram2dcontour\": [{\"colorbar\": {\"outlinewidth\": 0, \"ticks\": \"\"}, \"colorscale\": [[0.0, \"#0d0887\"], [0.1111111111111111, \"#46039f\"], [0.2222222222222222, \"#7201a8\"], [0.3333333333333333, \"#9c179e\"], [0.4444444444444444, \"#bd3786\"], [0.5555555555555556, \"#d8576b\"], [0.6666666666666666, \"#ed7953\"], [0.7777777777777778, \"#fb9f3a\"], [0.8888888888888888, \"#fdca26\"], [1.0, \"#f0f921\"]], \"type\": \"histogram2dcontour\"}], \"mesh3d\": [{\"colorbar\": {\"outlinewidth\": 0, \"ticks\": \"\"}, \"type\": \"mesh3d\"}], \"parcoords\": [{\"line\": {\"colorbar\": {\"outlinewidth\": 0, \"ticks\": \"\"}}, \"type\": \"parcoords\"}], \"pie\": [{\"automargin\": true, \"type\": \"pie\"}], \"scatter\": [{\"marker\": {\"colorbar\": {\"outlinewidth\": 0, \"ticks\": \"\"}}, \"type\": \"scatter\"}], \"scatter3d\": [{\"line\": {\"colorbar\": {\"outlinewidth\": 0, \"ticks\": \"\"}}, \"marker\": {\"colorbar\": {\"outlinewidth\": 0, \"ticks\": \"\"}}, \"type\": \"scatter3d\"}], \"scattercarpet\": [{\"marker\": {\"colorbar\": {\"outlinewidth\": 0, \"ticks\": \"\"}}, \"type\": \"scattercarpet\"}], \"scattergeo\": [{\"marker\": {\"colorbar\": {\"outlinewidth\": 0, \"ticks\": \"\"}}, \"type\": \"scattergeo\"}], \"scattergl\": [{\"marker\": {\"colorbar\": {\"outlinewidth\": 0, \"ticks\": \"\"}}, \"type\": \"scattergl\"}], \"scattermapbox\": [{\"marker\": {\"colorbar\": {\"outlinewidth\": 0, \"ticks\": \"\"}}, \"type\": \"scattermapbox\"}], \"scatterpolar\": [{\"marker\": {\"colorbar\": {\"outlinewidth\": 0, \"ticks\": \"\"}}, \"type\": \"scatterpolar\"}], \"scatterpolargl\": [{\"marker\": {\"colorbar\": {\"outlinewidth\": 0, \"ticks\": \"\"}}, \"type\": \"scatterpolargl\"}], \"scatterternary\": [{\"marker\": {\"colorbar\": {\"outlinewidth\": 0, \"ticks\": \"\"}}, \"type\": \"scatterternary\"}], \"surface\": [{\"colorbar\": {\"outlinewidth\": 0, \"ticks\": \"\"}, \"colorscale\": [[0.0, \"#0d0887\"], [0.1111111111111111, \"#46039f\"], [0.2222222222222222, \"#7201a8\"], [0.3333333333333333, \"#9c179e\"], [0.4444444444444444, \"#bd3786\"], [0.5555555555555556, \"#d8576b\"], [0.6666666666666666, \"#ed7953\"], [0.7777777777777778, \"#fb9f3a\"], [0.8888888888888888, \"#fdca26\"], [1.0, \"#f0f921\"]], \"type\": \"surface\"}], \"table\": [{\"cells\": {\"fill\": {\"color\": \"#EBF0F8\"}, \"line\": {\"color\": \"white\"}}, \"header\": {\"fill\": {\"color\": \"#C8D4E3\"}, \"line\": {\"color\": \"white\"}}, \"type\": \"table\"}]}, \"layout\": {\"annotationdefaults\": {\"arrowcolor\": \"#2a3f5f\", \"arrowhead\": 0, \"arrowwidth\": 1}, \"coloraxis\": {\"colorbar\": {\"outlinewidth\": 0, \"ticks\": \"\"}}, \"colorscale\": {\"diverging\": [[0, \"#8e0152\"], [0.1, \"#c51b7d\"], [0.2, \"#de77ae\"], [0.3, \"#f1b6da\"], [0.4, \"#fde0ef\"], [0.5, \"#f7f7f7\"], [0.6, \"#e6f5d0\"], [0.7, \"#b8e186\"], [0.8, \"#7fbc41\"], [0.9, \"#4d9221\"], [1, \"#276419\"]], \"sequential\": [[0.0, \"#0d0887\"], [0.1111111111111111, \"#46039f\"], [0.2222222222222222, \"#7201a8\"], [0.3333333333333333, \"#9c179e\"], [0.4444444444444444, \"#bd3786\"], [0.5555555555555556, \"#d8576b\"], [0.6666666666666666, \"#ed7953\"], [0.7777777777777778, \"#fb9f3a\"], [0.8888888888888888, \"#fdca26\"], [1.0, \"#f0f921\"]], \"sequentialminus\": [[0.0, \"#0d0887\"], [0.1111111111111111, \"#46039f\"], [0.2222222222222222, \"#7201a8\"], [0.3333333333333333, \"#9c179e\"], [0.4444444444444444, \"#bd3786\"], [0.5555555555555556, \"#d8576b\"], [0.6666666666666666, \"#ed7953\"], [0.7777777777777778, \"#fb9f3a\"], [0.8888888888888888, \"#fdca26\"], [1.0, \"#f0f921\"]]}, \"colorway\": [\"#636efa\", \"#EF553B\", \"#00cc96\", \"#ab63fa\", \"#FFA15A\", \"#19d3f3\", \"#FF6692\", \"#B6E880\", \"#FF97FF\", \"#FECB52\"], \"font\": {\"color\": \"#2a3f5f\"}, \"geo\": {\"bgcolor\": \"white\", \"lakecolor\": \"white\", \"landcolor\": \"#E5ECF6\", \"showlakes\": true, \"showland\": true, \"subunitcolor\": \"white\"}, \"hoverlabel\": {\"align\": \"left\"}, \"hovermode\": \"closest\", \"mapbox\": {\"style\": \"light\"}, \"paper_bgcolor\": \"white\", \"plot_bgcolor\": \"#E5ECF6\", \"polar\": {\"angularaxis\": {\"gridcolor\": \"white\", \"linecolor\": \"white\", \"ticks\": \"\"}, \"bgcolor\": \"#E5ECF6\", \"radialaxis\": {\"gridcolor\": \"white\", \"linecolor\": \"white\", \"ticks\": \"\"}}, \"scene\": {\"xaxis\": {\"backgroundcolor\": \"#E5ECF6\", \"gridcolor\": \"white\", \"gridwidth\": 2, \"linecolor\": \"white\", \"showbackground\": true, \"ticks\": \"\", \"zerolinecolor\": \"white\"}, \"yaxis\": {\"backgroundcolor\": \"#E5ECF6\", \"gridcolor\": \"white\", \"gridwidth\": 2, \"linecolor\": \"white\", \"showbackground\": true, \"ticks\": \"\", \"zerolinecolor\": \"white\"}, \"zaxis\": {\"backgroundcolor\": \"#E5ECF6\", \"gridcolor\": \"white\", \"gridwidth\": 2, \"linecolor\": \"white\", \"showbackground\": true, \"ticks\": \"\", \"zerolinecolor\": \"white\"}}, \"shapedefaults\": {\"line\": {\"color\": \"#2a3f5f\"}}, \"ternary\": {\"aaxis\": {\"gridcolor\": \"white\", \"linecolor\": \"white\", \"ticks\": \"\"}, \"baxis\": {\"gridcolor\": \"white\", \"linecolor\": \"white\", \"ticks\": \"\"}, \"bgcolor\": \"#E5ECF6\", \"caxis\": {\"gridcolor\": \"white\", \"linecolor\": \"white\", \"ticks\": \"\"}}, \"title\": {\"x\": 0.05}, \"xaxis\": {\"automargin\": true, \"gridcolor\": \"white\", \"linecolor\": \"white\", \"ticks\": \"\", \"title\": {\"standoff\": 15}, \"zerolinecolor\": \"white\", \"zerolinewidth\": 2}, \"yaxis\": {\"automargin\": true, \"gridcolor\": \"white\", \"linecolor\": \"white\", \"ticks\": \"\", \"title\": {\"standoff\": 15}, \"zerolinecolor\": \"white\", \"zerolinewidth\": 2}}}},                        {\"responsive\": true}                    ).then(function(){\n",
       "                            \n",
       "var gd = document.getElementById('4bf5b088-3519-4575-84bf-3e1648d194a5');\n",
       "var x = new MutationObserver(function (mutations, observer) {{\n",
       "        var display = window.getComputedStyle(gd).display;\n",
       "        if (!display || display === 'none') {{\n",
       "            console.log([gd, 'removed!']);\n",
       "            Plotly.purge(gd);\n",
       "            observer.disconnect();\n",
       "        }}\n",
       "}});\n",
       "\n",
       "// Listen for the removal of the full notebook cells\n",
       "var notebookContainer = gd.closest('#notebook-container');\n",
       "if (notebookContainer) {{\n",
       "    x.observe(notebookContainer, {childList: true});\n",
       "}}\n",
       "\n",
       "// Listen for the clearing of the current output cell\n",
       "var outputEl = gd.closest('.output');\n",
       "if (outputEl) {{\n",
       "    x.observe(outputEl, {childList: true});\n",
       "}}\n",
       "\n",
       "                        })                };                });            </script>        </div>"
      ]
     },
     "metadata": {},
     "output_type": "display_data"
    }
   ],
   "source": [
    " # Parallel Coordinates Plot\n",
    "\n",
    "px.parallel_coordinates(top10, color = 'sale_price_sqr_foot')"
   ]
  },
  {
   "cell_type": "code",
   "execution_count": 86,
   "metadata": {},
   "outputs": [
    {
     "data": {
      "application/vnd.plotly.v1+json": {
       "config": {
        "plotlyServerURL": "https://plot.ly"
       },
       "data": [
        {
         "dimensions": [
          {
           "label": "neighborhood",
           "values": [
            "Union Square District",
            "Merced Heights",
            "Miraloma Park",
            "Pacific Heights",
            "Westwood Park",
            "Telegraph Hill",
            "Presidio Heights",
            "Cow Hollow",
            "Potrero Hill",
            "South Beach"
           ]
          },
          {
           "label": "sale_price_sqr_foot",
           "values": [
            903.9932576720645,
            788.8448175872469,
            779.810842264425,
            689.5558168113664,
            687.0875745178323,
            676.5065775293257,
            675.3502120510033,
            665.964041578323,
            662.0136128276529,
            650.1244791945729
           ]
          },
          {
           "label": "housing_units",
           "values": [
            377427.5,
            380348,
            375967.25,
            378401,
            382295,
            378401,
            378401,
            378401,
            378401,
            375805
           ]
          },
          {
           "label": "gross_rent",
           "values": [
            2555.1666666666665,
            3414,
            2155.25,
            2817.285714285714,
            3959,
            2817.285714285714,
            2817.285714285714,
            2817.285714285714,
            2817.285714285714,
            2099
           ]
          }
         ],
         "domain": {
          "x": [
           0,
           1
          ],
          "y": [
           0,
           1
          ]
         },
         "line": {
          "color": [
           903.9932576720645,
           788.8448175872469,
           779.810842264425,
           689.5558168113664,
           687.0875745178323,
           676.5065775293257,
           675.3502120510033,
           665.964041578323,
           662.0136128276529,
           650.1244791945729
          ],
          "coloraxis": "coloraxis"
         },
         "name": "",
         "type": "parcats"
        }
       ],
       "layout": {
        "autosize": true,
        "coloraxis": {
         "colorbar": {
          "title": {
           "text": "sale_price_sqr_foot"
          }
         },
         "colorscale": [
          [
           0,
           "#000004"
          ],
          [
           0.1111111111111111,
           "#1b0c41"
          ],
          [
           0.2222222222222222,
           "#4a0c6b"
          ],
          [
           0.3333333333333333,
           "#781c6d"
          ],
          [
           0.4444444444444444,
           "#a52c60"
          ],
          [
           0.5555555555555556,
           "#cf4446"
          ],
          [
           0.6666666666666666,
           "#ed6925"
          ],
          [
           0.7777777777777778,
           "#fb9b06"
          ],
          [
           0.8888888888888888,
           "#f7d13d"
          ],
          [
           1,
           "#fcffa4"
          ]
         ]
        },
        "legend": {
         "tracegroupgap": 0
        },
        "margin": {
         "t": 60
        },
        "template": {
         "data": {
          "bar": [
           {
            "error_x": {
             "color": "#2a3f5f"
            },
            "error_y": {
             "color": "#2a3f5f"
            },
            "marker": {
             "line": {
              "color": "#E5ECF6",
              "width": 0.5
             }
            },
            "type": "bar"
           }
          ],
          "barpolar": [
           {
            "marker": {
             "line": {
              "color": "#E5ECF6",
              "width": 0.5
             }
            },
            "type": "barpolar"
           }
          ],
          "carpet": [
           {
            "aaxis": {
             "endlinecolor": "#2a3f5f",
             "gridcolor": "white",
             "linecolor": "white",
             "minorgridcolor": "white",
             "startlinecolor": "#2a3f5f"
            },
            "baxis": {
             "endlinecolor": "#2a3f5f",
             "gridcolor": "white",
             "linecolor": "white",
             "minorgridcolor": "white",
             "startlinecolor": "#2a3f5f"
            },
            "type": "carpet"
           }
          ],
          "choropleth": [
           {
            "colorbar": {
             "outlinewidth": 0,
             "ticks": ""
            },
            "type": "choropleth"
           }
          ],
          "contour": [
           {
            "colorbar": {
             "outlinewidth": 0,
             "ticks": ""
            },
            "colorscale": [
             [
              0,
              "#0d0887"
             ],
             [
              0.1111111111111111,
              "#46039f"
             ],
             [
              0.2222222222222222,
              "#7201a8"
             ],
             [
              0.3333333333333333,
              "#9c179e"
             ],
             [
              0.4444444444444444,
              "#bd3786"
             ],
             [
              0.5555555555555556,
              "#d8576b"
             ],
             [
              0.6666666666666666,
              "#ed7953"
             ],
             [
              0.7777777777777778,
              "#fb9f3a"
             ],
             [
              0.8888888888888888,
              "#fdca26"
             ],
             [
              1,
              "#f0f921"
             ]
            ],
            "type": "contour"
           }
          ],
          "contourcarpet": [
           {
            "colorbar": {
             "outlinewidth": 0,
             "ticks": ""
            },
            "type": "contourcarpet"
           }
          ],
          "heatmap": [
           {
            "colorbar": {
             "outlinewidth": 0,
             "ticks": ""
            },
            "colorscale": [
             [
              0,
              "#0d0887"
             ],
             [
              0.1111111111111111,
              "#46039f"
             ],
             [
              0.2222222222222222,
              "#7201a8"
             ],
             [
              0.3333333333333333,
              "#9c179e"
             ],
             [
              0.4444444444444444,
              "#bd3786"
             ],
             [
              0.5555555555555556,
              "#d8576b"
             ],
             [
              0.6666666666666666,
              "#ed7953"
             ],
             [
              0.7777777777777778,
              "#fb9f3a"
             ],
             [
              0.8888888888888888,
              "#fdca26"
             ],
             [
              1,
              "#f0f921"
             ]
            ],
            "type": "heatmap"
           }
          ],
          "heatmapgl": [
           {
            "colorbar": {
             "outlinewidth": 0,
             "ticks": ""
            },
            "colorscale": [
             [
              0,
              "#0d0887"
             ],
             [
              0.1111111111111111,
              "#46039f"
             ],
             [
              0.2222222222222222,
              "#7201a8"
             ],
             [
              0.3333333333333333,
              "#9c179e"
             ],
             [
              0.4444444444444444,
              "#bd3786"
             ],
             [
              0.5555555555555556,
              "#d8576b"
             ],
             [
              0.6666666666666666,
              "#ed7953"
             ],
             [
              0.7777777777777778,
              "#fb9f3a"
             ],
             [
              0.8888888888888888,
              "#fdca26"
             ],
             [
              1,
              "#f0f921"
             ]
            ],
            "type": "heatmapgl"
           }
          ],
          "histogram": [
           {
            "marker": {
             "colorbar": {
              "outlinewidth": 0,
              "ticks": ""
             }
            },
            "type": "histogram"
           }
          ],
          "histogram2d": [
           {
            "colorbar": {
             "outlinewidth": 0,
             "ticks": ""
            },
            "colorscale": [
             [
              0,
              "#0d0887"
             ],
             [
              0.1111111111111111,
              "#46039f"
             ],
             [
              0.2222222222222222,
              "#7201a8"
             ],
             [
              0.3333333333333333,
              "#9c179e"
             ],
             [
              0.4444444444444444,
              "#bd3786"
             ],
             [
              0.5555555555555556,
              "#d8576b"
             ],
             [
              0.6666666666666666,
              "#ed7953"
             ],
             [
              0.7777777777777778,
              "#fb9f3a"
             ],
             [
              0.8888888888888888,
              "#fdca26"
             ],
             [
              1,
              "#f0f921"
             ]
            ],
            "type": "histogram2d"
           }
          ],
          "histogram2dcontour": [
           {
            "colorbar": {
             "outlinewidth": 0,
             "ticks": ""
            },
            "colorscale": [
             [
              0,
              "#0d0887"
             ],
             [
              0.1111111111111111,
              "#46039f"
             ],
             [
              0.2222222222222222,
              "#7201a8"
             ],
             [
              0.3333333333333333,
              "#9c179e"
             ],
             [
              0.4444444444444444,
              "#bd3786"
             ],
             [
              0.5555555555555556,
              "#d8576b"
             ],
             [
              0.6666666666666666,
              "#ed7953"
             ],
             [
              0.7777777777777778,
              "#fb9f3a"
             ],
             [
              0.8888888888888888,
              "#fdca26"
             ],
             [
              1,
              "#f0f921"
             ]
            ],
            "type": "histogram2dcontour"
           }
          ],
          "mesh3d": [
           {
            "colorbar": {
             "outlinewidth": 0,
             "ticks": ""
            },
            "type": "mesh3d"
           }
          ],
          "parcoords": [
           {
            "line": {
             "colorbar": {
              "outlinewidth": 0,
              "ticks": ""
             }
            },
            "type": "parcoords"
           }
          ],
          "pie": [
           {
            "automargin": true,
            "type": "pie"
           }
          ],
          "scatter": [
           {
            "marker": {
             "colorbar": {
              "outlinewidth": 0,
              "ticks": ""
             }
            },
            "type": "scatter"
           }
          ],
          "scatter3d": [
           {
            "line": {
             "colorbar": {
              "outlinewidth": 0,
              "ticks": ""
             }
            },
            "marker": {
             "colorbar": {
              "outlinewidth": 0,
              "ticks": ""
             }
            },
            "type": "scatter3d"
           }
          ],
          "scattercarpet": [
           {
            "marker": {
             "colorbar": {
              "outlinewidth": 0,
              "ticks": ""
             }
            },
            "type": "scattercarpet"
           }
          ],
          "scattergeo": [
           {
            "marker": {
             "colorbar": {
              "outlinewidth": 0,
              "ticks": ""
             }
            },
            "type": "scattergeo"
           }
          ],
          "scattergl": [
           {
            "marker": {
             "colorbar": {
              "outlinewidth": 0,
              "ticks": ""
             }
            },
            "type": "scattergl"
           }
          ],
          "scattermapbox": [
           {
            "marker": {
             "colorbar": {
              "outlinewidth": 0,
              "ticks": ""
             }
            },
            "type": "scattermapbox"
           }
          ],
          "scatterpolar": [
           {
            "marker": {
             "colorbar": {
              "outlinewidth": 0,
              "ticks": ""
             }
            },
            "type": "scatterpolar"
           }
          ],
          "scatterpolargl": [
           {
            "marker": {
             "colorbar": {
              "outlinewidth": 0,
              "ticks": ""
             }
            },
            "type": "scatterpolargl"
           }
          ],
          "scatterternary": [
           {
            "marker": {
             "colorbar": {
              "outlinewidth": 0,
              "ticks": ""
             }
            },
            "type": "scatterternary"
           }
          ],
          "surface": [
           {
            "colorbar": {
             "outlinewidth": 0,
             "ticks": ""
            },
            "colorscale": [
             [
              0,
              "#0d0887"
             ],
             [
              0.1111111111111111,
              "#46039f"
             ],
             [
              0.2222222222222222,
              "#7201a8"
             ],
             [
              0.3333333333333333,
              "#9c179e"
             ],
             [
              0.4444444444444444,
              "#bd3786"
             ],
             [
              0.5555555555555556,
              "#d8576b"
             ],
             [
              0.6666666666666666,
              "#ed7953"
             ],
             [
              0.7777777777777778,
              "#fb9f3a"
             ],
             [
              0.8888888888888888,
              "#fdca26"
             ],
             [
              1,
              "#f0f921"
             ]
            ],
            "type": "surface"
           }
          ],
          "table": [
           {
            "cells": {
             "fill": {
              "color": "#EBF0F8"
             },
             "line": {
              "color": "white"
             }
            },
            "header": {
             "fill": {
              "color": "#C8D4E3"
             },
             "line": {
              "color": "white"
             }
            },
            "type": "table"
           }
          ]
         },
         "layout": {
          "annotationdefaults": {
           "arrowcolor": "#2a3f5f",
           "arrowhead": 0,
           "arrowwidth": 1
          },
          "coloraxis": {
           "colorbar": {
            "outlinewidth": 0,
            "ticks": ""
           }
          },
          "colorscale": {
           "diverging": [
            [
             0,
             "#8e0152"
            ],
            [
             0.1,
             "#c51b7d"
            ],
            [
             0.2,
             "#de77ae"
            ],
            [
             0.3,
             "#f1b6da"
            ],
            [
             0.4,
             "#fde0ef"
            ],
            [
             0.5,
             "#f7f7f7"
            ],
            [
             0.6,
             "#e6f5d0"
            ],
            [
             0.7,
             "#b8e186"
            ],
            [
             0.8,
             "#7fbc41"
            ],
            [
             0.9,
             "#4d9221"
            ],
            [
             1,
             "#276419"
            ]
           ],
           "sequential": [
            [
             0,
             "#0d0887"
            ],
            [
             0.1111111111111111,
             "#46039f"
            ],
            [
             0.2222222222222222,
             "#7201a8"
            ],
            [
             0.3333333333333333,
             "#9c179e"
            ],
            [
             0.4444444444444444,
             "#bd3786"
            ],
            [
             0.5555555555555556,
             "#d8576b"
            ],
            [
             0.6666666666666666,
             "#ed7953"
            ],
            [
             0.7777777777777778,
             "#fb9f3a"
            ],
            [
             0.8888888888888888,
             "#fdca26"
            ],
            [
             1,
             "#f0f921"
            ]
           ],
           "sequentialminus": [
            [
             0,
             "#0d0887"
            ],
            [
             0.1111111111111111,
             "#46039f"
            ],
            [
             0.2222222222222222,
             "#7201a8"
            ],
            [
             0.3333333333333333,
             "#9c179e"
            ],
            [
             0.4444444444444444,
             "#bd3786"
            ],
            [
             0.5555555555555556,
             "#d8576b"
            ],
            [
             0.6666666666666666,
             "#ed7953"
            ],
            [
             0.7777777777777778,
             "#fb9f3a"
            ],
            [
             0.8888888888888888,
             "#fdca26"
            ],
            [
             1,
             "#f0f921"
            ]
           ]
          },
          "colorway": [
           "#636efa",
           "#EF553B",
           "#00cc96",
           "#ab63fa",
           "#FFA15A",
           "#19d3f3",
           "#FF6692",
           "#B6E880",
           "#FF97FF",
           "#FECB52"
          ],
          "font": {
           "color": "#2a3f5f"
          },
          "geo": {
           "bgcolor": "white",
           "lakecolor": "white",
           "landcolor": "#E5ECF6",
           "showlakes": true,
           "showland": true,
           "subunitcolor": "white"
          },
          "hoverlabel": {
           "align": "left"
          },
          "hovermode": "closest",
          "mapbox": {
           "style": "light"
          },
          "paper_bgcolor": "white",
          "plot_bgcolor": "#E5ECF6",
          "polar": {
           "angularaxis": {
            "gridcolor": "white",
            "linecolor": "white",
            "ticks": ""
           },
           "bgcolor": "#E5ECF6",
           "radialaxis": {
            "gridcolor": "white",
            "linecolor": "white",
            "ticks": ""
           }
          },
          "scene": {
           "xaxis": {
            "backgroundcolor": "#E5ECF6",
            "gridcolor": "white",
            "gridwidth": 2,
            "linecolor": "white",
            "showbackground": true,
            "ticks": "",
            "zerolinecolor": "white"
           },
           "yaxis": {
            "backgroundcolor": "#E5ECF6",
            "gridcolor": "white",
            "gridwidth": 2,
            "linecolor": "white",
            "showbackground": true,
            "ticks": "",
            "zerolinecolor": "white"
           },
           "zaxis": {
            "backgroundcolor": "#E5ECF6",
            "gridcolor": "white",
            "gridwidth": 2,
            "linecolor": "white",
            "showbackground": true,
            "ticks": "",
            "zerolinecolor": "white"
           }
          },
          "shapedefaults": {
           "line": {
            "color": "#2a3f5f"
           }
          },
          "ternary": {
           "aaxis": {
            "gridcolor": "white",
            "linecolor": "white",
            "ticks": ""
           },
           "baxis": {
            "gridcolor": "white",
            "linecolor": "white",
            "ticks": ""
           },
           "bgcolor": "#E5ECF6",
           "caxis": {
            "gridcolor": "white",
            "linecolor": "white",
            "ticks": ""
           }
          },
          "title": {
           "x": 0.05
          },
          "xaxis": {
           "automargin": true,
           "gridcolor": "white",
           "linecolor": "white",
           "ticks": "",
           "title": {
            "standoff": 15
           },
           "zerolinecolor": "white",
           "zerolinewidth": 2
          },
          "yaxis": {
           "automargin": true,
           "gridcolor": "white",
           "linecolor": "white",
           "ticks": "",
           "title": {
            "standoff": 15
           },
           "zerolinecolor": "white",
           "zerolinewidth": 2
          }
         }
        }
       }
      },
      "image/png": "[encoded data removed]",
      "text/html": [
       "<div>                            <div id=\"71ead03e-4fcc-48b1-9115-e3781c47b133\" class=\"plotly-graph-div\" style=\"height:525px; width:100%;\"></div>            <script type=\"text/javascript\">                require([\"plotly\"], function(Plotly) {                    window.PLOTLYENV=window.PLOTLYENV || {};                                    if (document.getElementById(\"71ead03e-4fcc-48b1-9115-e3781c47b133\")) {                    Plotly.newPlot(                        \"71ead03e-4fcc-48b1-9115-e3781c47b133\",                        [{\"dimensions\": [{\"label\": \"neighborhood\", \"values\": [\"Union Square District\", \"Merced Heights\", \"Miraloma Park\", \"Pacific Heights\", \"Westwood Park\", \"Telegraph Hill\", \"Presidio Heights\", \"Cow Hollow\", \"Potrero Hill\", \"South Beach\"]}, {\"label\": \"sale_price_sqr_foot\", \"values\": [903.9932576720645, 788.8448175872469, 779.810842264425, 689.5558168113664, 687.0875745178323, 676.5065775293257, 675.3502120510033, 665.964041578323, 662.0136128276529, 650.1244791945729]}, {\"label\": \"housing_units\", \"values\": [377427.5, 380348.0, 375967.25, 378401.0, 382295.0, 378401.0, 378401.0, 378401.0, 378401.0, 375805.0]}, {\"label\": \"gross_rent\", \"values\": [2555.1666666666665, 3414.0, 2155.25, 2817.285714285714, 3959.0, 2817.285714285714, 2817.285714285714, 2817.285714285714, 2817.285714285714, 2099.0]}], \"domain\": {\"x\": [0.0, 1.0], \"y\": [0.0, 1.0]}, \"line\": {\"color\": [903.9932576720645, 788.8448175872469, 779.810842264425, 689.5558168113664, 687.0875745178323, 676.5065775293257, 675.3502120510033, 665.964041578323, 662.0136128276529, 650.1244791945729], \"coloraxis\": \"coloraxis\"}, \"name\": \"\", \"type\": \"parcats\"}],                        {\"coloraxis\": {\"colorbar\": {\"title\": {\"text\": \"sale_price_sqr_foot\"}}, \"colorscale\": [[0.0, \"#000004\"], [0.1111111111111111, \"#1b0c41\"], [0.2222222222222222, \"#4a0c6b\"], [0.3333333333333333, \"#781c6d\"], [0.4444444444444444, \"#a52c60\"], [0.5555555555555556, \"#cf4446\"], [0.6666666666666666, \"#ed6925\"], [0.7777777777777778, \"#fb9b06\"], [0.8888888888888888, \"#f7d13d\"], [1.0, \"#fcffa4\"]]}, \"legend\": {\"tracegroupgap\": 0}, \"margin\": {\"t\": 60}, \"template\": {\"data\": {\"bar\": [{\"error_x\": {\"color\": \"#2a3f5f\"}, \"error_y\": {\"color\": \"#2a3f5f\"}, \"marker\": {\"line\": {\"color\": \"#E5ECF6\", \"width\": 0.5}}, \"type\": \"bar\"}], \"barpolar\": [{\"marker\": {\"line\": {\"color\": \"#E5ECF6\", \"width\": 0.5}}, \"type\": \"barpolar\"}], \"carpet\": [{\"aaxis\": {\"endlinecolor\": \"#2a3f5f\", \"gridcolor\": \"white\", \"linecolor\": \"white\", \"minorgridcolor\": \"white\", \"startlinecolor\": \"#2a3f5f\"}, \"baxis\": {\"endlinecolor\": \"#2a3f5f\", \"gridcolor\": \"white\", \"linecolor\": \"white\", \"minorgridcolor\": \"white\", \"startlinecolor\": \"#2a3f5f\"}, \"type\": \"carpet\"}], \"choropleth\": [{\"colorbar\": {\"outlinewidth\": 0, \"ticks\": \"\"}, \"type\": \"choropleth\"}], \"contour\": [{\"colorbar\": {\"outlinewidth\": 0, \"ticks\": \"\"}, \"colorscale\": [[0.0, \"#0d0887\"], [0.1111111111111111, \"#46039f\"], [0.2222222222222222, \"#7201a8\"], [0.3333333333333333, \"#9c179e\"], [0.4444444444444444, \"#bd3786\"], [0.5555555555555556, \"#d8576b\"], [0.6666666666666666, \"#ed7953\"], [0.7777777777777778, \"#fb9f3a\"], [0.8888888888888888, \"#fdca26\"], [1.0, \"#f0f921\"]], \"type\": \"contour\"}], \"contourcarpet\": [{\"colorbar\": {\"outlinewidth\": 0, \"ticks\": \"\"}, \"type\": \"contourcarpet\"}], \"heatmap\": [{\"colorbar\": {\"outlinewidth\": 0, \"ticks\": \"\"}, \"colorscale\": [[0.0, \"#0d0887\"], [0.1111111111111111, \"#46039f\"], [0.2222222222222222, \"#7201a8\"], [0.3333333333333333, \"#9c179e\"], [0.4444444444444444, \"#bd3786\"], [0.5555555555555556, \"#d8576b\"], [0.6666666666666666, \"#ed7953\"], [0.7777777777777778, \"#fb9f3a\"], [0.8888888888888888, \"#fdca26\"], [1.0, \"#f0f921\"]], \"type\": \"heatmap\"}], \"heatmapgl\": [{\"colorbar\": {\"outlinewidth\": 0, \"ticks\": \"\"}, \"colorscale\": [[0.0, \"#0d0887\"], [0.1111111111111111, \"#46039f\"], [0.2222222222222222, \"#7201a8\"], [0.3333333333333333, \"#9c179e\"], [0.4444444444444444, \"#bd3786\"], [0.5555555555555556, \"#d8576b\"], [0.6666666666666666, \"#ed7953\"], [0.7777777777777778, \"#fb9f3a\"], [0.8888888888888888, \"#fdca26\"], [1.0, \"#f0f921\"]], \"type\": \"heatmapgl\"}], \"histogram\": [{\"marker\": {\"colorbar\": {\"outlinewidth\": 0, \"ticks\": \"\"}}, \"type\": \"histogram\"}], \"histogram2d\": [{\"colorbar\": {\"outlinewidth\": 0, \"ticks\": \"\"}, \"colorscale\": [[0.0, \"#0d0887\"], [0.1111111111111111, \"#46039f\"], [0.2222222222222222, \"#7201a8\"], [0.3333333333333333, \"#9c179e\"], [0.4444444444444444, \"#bd3786\"], [0.5555555555555556, \"#d8576b\"], [0.6666666666666666, \"#ed7953\"], [0.7777777777777778, \"#fb9f3a\"], [0.8888888888888888, \"#fdca26\"], [1.0, \"#f0f921\"]], \"type\": \"histogram2d\"}], \"histogram2dcontour\": [{\"colorbar\": {\"outlinewidth\": 0, \"ticks\": \"\"}, \"colorscale\": [[0.0, \"#0d0887\"], [0.1111111111111111, \"#46039f\"], [0.2222222222222222, \"#7201a8\"], [0.3333333333333333, \"#9c179e\"], [0.4444444444444444, \"#bd3786\"], [0.5555555555555556, \"#d8576b\"], [0.6666666666666666, \"#ed7953\"], [0.7777777777777778, \"#fb9f3a\"], [0.8888888888888888, \"#fdca26\"], [1.0, \"#f0f921\"]], \"type\": \"histogram2dcontour\"}], \"mesh3d\": [{\"colorbar\": {\"outlinewidth\": 0, \"ticks\": \"\"}, \"type\": \"mesh3d\"}], \"parcoords\": [{\"line\": {\"colorbar\": {\"outlinewidth\": 0, \"ticks\": \"\"}}, \"type\": \"parcoords\"}], \"pie\": [{\"automargin\": true, \"type\": \"pie\"}], \"scatter\": [{\"marker\": {\"colorbar\": {\"outlinewidth\": 0, \"ticks\": \"\"}}, \"type\": \"scatter\"}], \"scatter3d\": [{\"line\": {\"colorbar\": {\"outlinewidth\": 0, \"ticks\": \"\"}}, \"marker\": {\"colorbar\": {\"outlinewidth\": 0, \"ticks\": \"\"}}, \"type\": \"scatter3d\"}], \"scattercarpet\": [{\"marker\": {\"colorbar\": {\"outlinewidth\": 0, \"ticks\": \"\"}}, \"type\": \"scattercarpet\"}], \"scattergeo\": [{\"marker\": {\"colorbar\": {\"outlinewidth\": 0, \"ticks\": \"\"}}, \"type\": \"scattergeo\"}], \"scattergl\": [{\"marker\": {\"colorbar\": {\"outlinewidth\": 0, \"ticks\": \"\"}}, \"type\": \"scattergl\"}], \"scattermapbox\": [{\"marker\": {\"colorbar\": {\"outlinewidth\": 0, \"ticks\": \"\"}}, \"type\": \"scattermapbox\"}], \"scatterpolar\": [{\"marker\": {\"colorbar\": {\"outlinewidth\": 0, \"ticks\": \"\"}}, \"type\": \"scatterpolar\"}], \"scatterpolargl\": [{\"marker\": {\"colorbar\": {\"outlinewidth\": 0, \"ticks\": \"\"}}, \"type\": \"scatterpolargl\"}], \"scatterternary\": [{\"marker\": {\"colorbar\": {\"outlinewidth\": 0, \"ticks\": \"\"}}, \"type\": \"scatterternary\"}], \"surface\": [{\"colorbar\": {\"outlinewidth\": 0, \"ticks\": \"\"}, \"colorscale\": [[0.0, \"#0d0887\"], [0.1111111111111111, \"#46039f\"], [0.2222222222222222, \"#7201a8\"], [0.3333333333333333, \"#9c179e\"], [0.4444444444444444, \"#bd3786\"], [0.5555555555555556, \"#d8576b\"], [0.6666666666666666, \"#ed7953\"], [0.7777777777777778, \"#fb9f3a\"], [0.8888888888888888, \"#fdca26\"], [1.0, \"#f0f921\"]], \"type\": \"surface\"}], \"table\": [{\"cells\": {\"fill\": {\"color\": \"#EBF0F8\"}, \"line\": {\"color\": \"white\"}}, \"header\": {\"fill\": {\"color\": \"#C8D4E3\"}, \"line\": {\"color\": \"white\"}}, \"type\": \"table\"}]}, \"layout\": {\"annotationdefaults\": {\"arrowcolor\": \"#2a3f5f\", \"arrowhead\": 0, \"arrowwidth\": 1}, \"coloraxis\": {\"colorbar\": {\"outlinewidth\": 0, \"ticks\": \"\"}}, \"colorscale\": {\"diverging\": [[0, \"#8e0152\"], [0.1, \"#c51b7d\"], [0.2, \"#de77ae\"], [0.3, \"#f1b6da\"], [0.4, \"#fde0ef\"], [0.5, \"#f7f7f7\"], [0.6, \"#e6f5d0\"], [0.7, \"#b8e186\"], [0.8, \"#7fbc41\"], [0.9, \"#4d9221\"], [1, \"#276419\"]], \"sequential\": [[0.0, \"#0d0887\"], [0.1111111111111111, \"#46039f\"], [0.2222222222222222, \"#7201a8\"], [0.3333333333333333, \"#9c179e\"], [0.4444444444444444, \"#bd3786\"], [0.5555555555555556, \"#d8576b\"], [0.6666666666666666, \"#ed7953\"], [0.7777777777777778, \"#fb9f3a\"], [0.8888888888888888, \"#fdca26\"], [1.0, \"#f0f921\"]], \"sequentialminus\": [[0.0, \"#0d0887\"], [0.1111111111111111, \"#46039f\"], [0.2222222222222222, \"#7201a8\"], [0.3333333333333333, \"#9c179e\"], [0.4444444444444444, \"#bd3786\"], [0.5555555555555556, \"#d8576b\"], [0.6666666666666666, \"#ed7953\"], [0.7777777777777778, \"#fb9f3a\"], [0.8888888888888888, \"#fdca26\"], [1.0, \"#f0f921\"]]}, \"colorway\": [\"#636efa\", \"#EF553B\", \"#00cc96\", \"#ab63fa\", \"#FFA15A\", \"#19d3f3\", \"#FF6692\", \"#B6E880\", \"#FF97FF\", \"#FECB52\"], \"font\": {\"color\": \"#2a3f5f\"}, \"geo\": {\"bgcolor\": \"white\", \"lakecolor\": \"white\", \"landcolor\": \"#E5ECF6\", \"showlakes\": true, \"showland\": true, \"subunitcolor\": \"white\"}, \"hoverlabel\": {\"align\": \"left\"}, \"hovermode\": \"closest\", \"mapbox\": {\"style\": \"light\"}, \"paper_bgcolor\": \"white\", \"plot_bgcolor\": \"#E5ECF6\", \"polar\": {\"angularaxis\": {\"gridcolor\": \"white\", \"linecolor\": \"white\", \"ticks\": \"\"}, \"bgcolor\": \"#E5ECF6\", \"radialaxis\": {\"gridcolor\": \"white\", \"linecolor\": \"white\", \"ticks\": \"\"}}, \"scene\": {\"xaxis\": {\"backgroundcolor\": \"#E5ECF6\", \"gridcolor\": \"white\", \"gridwidth\": 2, \"linecolor\": \"white\", \"showbackground\": true, \"ticks\": \"\", \"zerolinecolor\": \"white\"}, \"yaxis\": {\"backgroundcolor\": \"#E5ECF6\", \"gridcolor\": \"white\", \"gridwidth\": 2, \"linecolor\": \"white\", \"showbackground\": true, \"ticks\": \"\", \"zerolinecolor\": \"white\"}, \"zaxis\": {\"backgroundcolor\": \"#E5ECF6\", \"gridcolor\": \"white\", \"gridwidth\": 2, \"linecolor\": \"white\", \"showbackground\": true, \"ticks\": \"\", \"zerolinecolor\": \"white\"}}, \"shapedefaults\": {\"line\": {\"color\": \"#2a3f5f\"}}, \"ternary\": {\"aaxis\": {\"gridcolor\": \"white\", \"linecolor\": \"white\", \"ticks\": \"\"}, \"baxis\": {\"gridcolor\": \"white\", \"linecolor\": \"white\", \"ticks\": \"\"}, \"bgcolor\": \"#E5ECF6\", \"caxis\": {\"gridcolor\": \"white\", \"linecolor\": \"white\", \"ticks\": \"\"}}, \"title\": {\"x\": 0.05}, \"xaxis\": {\"automargin\": true, \"gridcolor\": \"white\", \"linecolor\": \"white\", \"ticks\": \"\", \"title\": {\"standoff\": 15}, \"zerolinecolor\": \"white\", \"zerolinewidth\": 2}, \"yaxis\": {\"automargin\": true, \"gridcolor\": \"white\", \"linecolor\": \"white\", \"ticks\": \"\", \"title\": {\"standoff\": 15}, \"zerolinecolor\": \"white\", \"zerolinewidth\": 2}}}},                        {\"responsive\": true}                    ).then(function(){\n",
       "                            \n",
       "var gd = document.getElementById('71ead03e-4fcc-48b1-9115-e3781c47b133');\n",
       "var x = new MutationObserver(function (mutations, observer) {{\n",
       "        var display = window.getComputedStyle(gd).display;\n",
       "        if (!display || display === 'none') {{\n",
       "            console.log([gd, 'removed!']);\n",
       "            Plotly.purge(gd);\n",
       "            observer.disconnect();\n",
       "        }}\n",
       "}});\n",
       "\n",
       "// Listen for the removal of the full notebook cells\n",
       "var notebookContainer = gd.closest('#notebook-container');\n",
       "if (notebookContainer) {{\n",
       "    x.observe(notebookContainer, {childList: true});\n",
       "}}\n",
       "\n",
       "// Listen for the clearing of the current output cell\n",
       "var outputEl = gd.closest('.output');\n",
       "if (outputEl) {{\n",
       "    x.observe(outputEl, {childList: true});\n",
       "}}\n",
       "\n",
       "                        })                };                });            </script>        </div>"
      ]
     },
     "metadata": {},
     "output_type": "display_data"
    }
   ],
   "source": [
    " # Plot data using parallel_categories\n",
    "px.parallel_categories(\n",
    "    top10,\n",
    "    dimensions=[\"neighborhood\", \"sale_price_sqr_foot\", \"housing_units\", \"gross_rent\"],\n",
    "    color=\"sale_price_sqr_foot\",\n",
    "    color_continuous_scale=px.colors.sequential.Inferno,\n",
    ")"
   ]
  },
  {
   "cell_type": "markdown",
   "metadata": {},
   "source": [
    "### Neighborhood map"
   ]
  },
  {
   "cell_type": "code",
   "execution_count": 87,
   "metadata": {},
   "outputs": [
    {
     "data": {
      "text/html": [
       "<div>\n",
       "<style scoped>\n",
       "    .dataframe tbody tr th:only-of-type {\n",
       "        vertical-align: middle;\n",
       "    }\n",
       "\n",
       "    .dataframe tbody tr th {\n",
       "        vertical-align: top;\n",
       "    }\n",
       "\n",
       "    .dataframe thead th {\n",
       "        text-align: right;\n",
       "    }\n",
       "</style>\n",
       "<table border=\"1\" class=\"dataframe\">\n",
       "  <thead>\n",
       "    <tr style=\"text-align: right;\">\n",
       "      <th></th>\n",
       "      <th>Neighborhood</th>\n",
       "      <th>Lat</th>\n",
       "      <th>Lon</th>\n",
       "    </tr>\n",
       "  </thead>\n",
       "  <tbody>\n",
       "    <tr>\n",
       "      <th>0</th>\n",
       "      <td>Alamo Square</td>\n",
       "      <td>37.791012</td>\n",
       "      <td>-122.402100</td>\n",
       "    </tr>\n",
       "    <tr>\n",
       "      <th>1</th>\n",
       "      <td>Anza Vista</td>\n",
       "      <td>37.779598</td>\n",
       "      <td>-122.443451</td>\n",
       "    </tr>\n",
       "    <tr>\n",
       "      <th>2</th>\n",
       "      <td>Bayview</td>\n",
       "      <td>37.734670</td>\n",
       "      <td>-122.401060</td>\n",
       "    </tr>\n",
       "    <tr>\n",
       "      <th>3</th>\n",
       "      <td>Bayview Heights</td>\n",
       "      <td>37.728740</td>\n",
       "      <td>-122.410980</td>\n",
       "    </tr>\n",
       "    <tr>\n",
       "      <th>4</th>\n",
       "      <td>Bernal Heights</td>\n",
       "      <td>37.728630</td>\n",
       "      <td>-122.443050</td>\n",
       "    </tr>\n",
       "  </tbody>\n",
       "</table>\n",
       "</div>"
      ],
      "text/plain": [
       "      Neighborhood        Lat         Lon\n",
       "0     Alamo Square  37.791012 -122.402100\n",
       "1       Anza Vista  37.779598 -122.443451\n",
       "2          Bayview  37.734670 -122.401060\n",
       "3  Bayview Heights  37.728740 -122.410980\n",
       "4   Bernal Heights  37.728630 -122.443050"
      ]
     },
     "execution_count": 87,
     "metadata": {},
     "output_type": "execute_result"
    }
   ],
   "source": [
    " # Load neighborhoods coordinates data\n",
    "file_path = Path(\"Data/neighborhoods_coordinates.csv\")\n",
    "df_neighborhood_locations = pd.read_csv(file_path)\n",
    "df_neighborhood_locations.head()"
   ]
  },
  {
   "cell_type": "code",
   "execution_count": 88,
   "metadata": {},
   "outputs": [
    {
     "data": {
      "text/html": [
       "<div>\n",
       "<style scoped>\n",
       "    .dataframe tbody tr th:only-of-type {\n",
       "        vertical-align: middle;\n",
       "    }\n",
       "\n",
       "    .dataframe tbody tr th {\n",
       "        vertical-align: top;\n",
       "    }\n",
       "\n",
       "    .dataframe thead th {\n",
       "        text-align: right;\n",
       "    }\n",
       "</style>\n",
       "<table border=\"1\" class=\"dataframe\">\n",
       "  <thead>\n",
       "    <tr style=\"text-align: right;\">\n",
       "      <th></th>\n",
       "      <th>year</th>\n",
       "      <th>Avg_sale_price_per_sqft</th>\n",
       "      <th>Avg_housing_units</th>\n",
       "      <th>Avg_gross_rent</th>\n",
       "      <th>Neighborhood</th>\n",
       "      <th>Lat</th>\n",
       "      <th>Lon</th>\n",
       "    </tr>\n",
       "  </thead>\n",
       "  <tbody>\n",
       "    <tr>\n",
       "      <th>0</th>\n",
       "      <td>2010</td>\n",
       "      <td>291.182945</td>\n",
       "      <td>372560</td>\n",
       "      <td>1239</td>\n",
       "      <td>Alamo Square</td>\n",
       "      <td>37.791012</td>\n",
       "      <td>-122.402100</td>\n",
       "    </tr>\n",
       "    <tr>\n",
       "      <th>1</th>\n",
       "      <td>2010</td>\n",
       "      <td>267.932583</td>\n",
       "      <td>372560</td>\n",
       "      <td>1239</td>\n",
       "      <td>Anza Vista</td>\n",
       "      <td>37.779598</td>\n",
       "      <td>-122.443451</td>\n",
       "    </tr>\n",
       "    <tr>\n",
       "      <th>2</th>\n",
       "      <td>2010</td>\n",
       "      <td>170.098665</td>\n",
       "      <td>372560</td>\n",
       "      <td>1239</td>\n",
       "      <td>Bayview</td>\n",
       "      <td>37.734670</td>\n",
       "      <td>-122.401060</td>\n",
       "    </tr>\n",
       "    <tr>\n",
       "      <th>3</th>\n",
       "      <td>2010</td>\n",
       "      <td>347.394919</td>\n",
       "      <td>372560</td>\n",
       "      <td>1239</td>\n",
       "      <td>Bayview Heights</td>\n",
       "      <td>37.728740</td>\n",
       "      <td>-122.410980</td>\n",
       "    </tr>\n",
       "    <tr>\n",
       "      <th>4</th>\n",
       "      <td>2010</td>\n",
       "      <td>319.027623</td>\n",
       "      <td>372560</td>\n",
       "      <td>1239</td>\n",
       "      <td>Bernal Heights</td>\n",
       "      <td>37.728630</td>\n",
       "      <td>-122.443050</td>\n",
       "    </tr>\n",
       "    <tr>\n",
       "      <th>5</th>\n",
       "      <td>2010</td>\n",
       "      <td>418.172493</td>\n",
       "      <td>372560</td>\n",
       "      <td>1239</td>\n",
       "      <td>Buena Vista Park</td>\n",
       "      <td>37.768160</td>\n",
       "      <td>-122.439330</td>\n",
       "    </tr>\n",
       "    <tr>\n",
       "      <th>6</th>\n",
       "      <td>2010</td>\n",
       "      <td>369.359338</td>\n",
       "      <td>372560</td>\n",
       "      <td>1239</td>\n",
       "      <td>Central Richmond</td>\n",
       "      <td>37.777890</td>\n",
       "      <td>-122.445170</td>\n",
       "    </tr>\n",
       "    <tr>\n",
       "      <th>7</th>\n",
       "      <td>2010</td>\n",
       "      <td>569.379968</td>\n",
       "      <td>372560</td>\n",
       "      <td>1239</td>\n",
       "      <td>Central Sunset</td>\n",
       "      <td>37.749610</td>\n",
       "      <td>-122.489990</td>\n",
       "    </tr>\n",
       "    <tr>\n",
       "      <th>8</th>\n",
       "      <td>2010</td>\n",
       "      <td>165.645730</td>\n",
       "      <td>372560</td>\n",
       "      <td>1239</td>\n",
       "      <td>Clarendon Heights</td>\n",
       "      <td>37.753310</td>\n",
       "      <td>-122.447030</td>\n",
       "    </tr>\n",
       "    <tr>\n",
       "      <th>9</th>\n",
       "      <td>2010</td>\n",
       "      <td>456.930822</td>\n",
       "      <td>372560</td>\n",
       "      <td>1239</td>\n",
       "      <td>Corona Heights</td>\n",
       "      <td>37.785530</td>\n",
       "      <td>-122.456000</td>\n",
       "    </tr>\n",
       "    <tr>\n",
       "      <th>10</th>\n",
       "      <td>2010</td>\n",
       "      <td>241.804552</td>\n",
       "      <td>372560</td>\n",
       "      <td>1239</td>\n",
       "      <td>Cow Hollow</td>\n",
       "      <td>37.792980</td>\n",
       "      <td>-122.435790</td>\n",
       "    </tr>\n",
       "    <tr>\n",
       "      <th>11</th>\n",
       "      <td>2010</td>\n",
       "      <td>403.118313</td>\n",
       "      <td>372560</td>\n",
       "      <td>1239</td>\n",
       "      <td>Croker Amazon</td>\n",
       "      <td>37.722800</td>\n",
       "      <td>-122.438690</td>\n",
       "    </tr>\n",
       "    <tr>\n",
       "      <th>12</th>\n",
       "      <td>2010</td>\n",
       "      <td>364.928336</td>\n",
       "      <td>372560</td>\n",
       "      <td>1239</td>\n",
       "      <td>Diamond Heights</td>\n",
       "      <td>37.728630</td>\n",
       "      <td>-122.443050</td>\n",
       "    </tr>\n",
       "    <tr>\n",
       "      <th>13</th>\n",
       "      <td>2010</td>\n",
       "      <td>401.749967</td>\n",
       "      <td>372560</td>\n",
       "      <td>1239</td>\n",
       "      <td>Downtown</td>\n",
       "      <td>37.791010</td>\n",
       "      <td>-122.402100</td>\n",
       "    </tr>\n",
       "    <tr>\n",
       "      <th>14</th>\n",
       "      <td>2010</td>\n",
       "      <td>162.821210</td>\n",
       "      <td>372560</td>\n",
       "      <td>1239</td>\n",
       "      <td>Duboce Triangle</td>\n",
       "      <td>37.769640</td>\n",
       "      <td>-122.426110</td>\n",
       "    </tr>\n",
       "    <tr>\n",
       "      <th>15</th>\n",
       "      <td>2010</td>\n",
       "      <td>209.049327</td>\n",
       "      <td>372560</td>\n",
       "      <td>1239</td>\n",
       "      <td>Eureka Valley/Dolores Heights</td>\n",
       "      <td>37.755540</td>\n",
       "      <td>-122.437790</td>\n",
       "    </tr>\n",
       "    <tr>\n",
       "      <th>16</th>\n",
       "      <td>2010</td>\n",
       "      <td>715.586438</td>\n",
       "      <td>372560</td>\n",
       "      <td>1239</td>\n",
       "      <td>Excelsior</td>\n",
       "      <td>37.728740</td>\n",
       "      <td>-122.410980</td>\n",
       "    </tr>\n",
       "    <tr>\n",
       "      <th>17</th>\n",
       "      <td>2010</td>\n",
       "      <td>551.801119</td>\n",
       "      <td>372560</td>\n",
       "      <td>1239</td>\n",
       "      <td>Financial District North</td>\n",
       "      <td>37.791010</td>\n",
       "      <td>-122.402100</td>\n",
       "    </tr>\n",
       "    <tr>\n",
       "      <th>18</th>\n",
       "      <td>2010</td>\n",
       "      <td>254.473779</td>\n",
       "      <td>372560</td>\n",
       "      <td>1239</td>\n",
       "      <td>Financial District South</td>\n",
       "      <td>37.791010</td>\n",
       "      <td>-122.402100</td>\n",
       "    </tr>\n",
       "    <tr>\n",
       "      <th>19</th>\n",
       "      <td>2010</td>\n",
       "      <td>272.284980</td>\n",
       "      <td>372560</td>\n",
       "      <td>1239</td>\n",
       "      <td>Forest Knolls</td>\n",
       "      <td>37.757060</td>\n",
       "      <td>-122.455090</td>\n",
       "    </tr>\n",
       "    <tr>\n",
       "      <th>20</th>\n",
       "      <td>2010</td>\n",
       "      <td>170.624920</td>\n",
       "      <td>372560</td>\n",
       "      <td>1239</td>\n",
       "      <td>Glen Park</td>\n",
       "      <td>37.728630</td>\n",
       "      <td>-122.443050</td>\n",
       "    </tr>\n",
       "    <tr>\n",
       "      <th>21</th>\n",
       "      <td>2010</td>\n",
       "      <td>275.056686</td>\n",
       "      <td>372560</td>\n",
       "      <td>1239</td>\n",
       "      <td>Golden Gate Heights</td>\n",
       "      <td>37.757912</td>\n",
       "      <td>-122.464020</td>\n",
       "    </tr>\n",
       "    <tr>\n",
       "      <th>22</th>\n",
       "      <td>2010</td>\n",
       "      <td>238.350020</td>\n",
       "      <td>372560</td>\n",
       "      <td>1239</td>\n",
       "      <td>Haight Ashbury</td>\n",
       "      <td>37.765250</td>\n",
       "      <td>-122.435960</td>\n",
       "    </tr>\n",
       "    <tr>\n",
       "      <th>23</th>\n",
       "      <td>2010</td>\n",
       "      <td>199.702004</td>\n",
       "      <td>372560</td>\n",
       "      <td>1239</td>\n",
       "      <td>Hayes Valley</td>\n",
       "      <td>37.765250</td>\n",
       "      <td>-122.435960</td>\n",
       "    </tr>\n",
       "    <tr>\n",
       "      <th>24</th>\n",
       "      <td>2010</td>\n",
       "      <td>285.822358</td>\n",
       "      <td>372560</td>\n",
       "      <td>1239</td>\n",
       "      <td>Hunters Point</td>\n",
       "      <td>37.725510</td>\n",
       "      <td>-122.371780</td>\n",
       "    </tr>\n",
       "    <tr>\n",
       "      <th>25</th>\n",
       "      <td>2010</td>\n",
       "      <td>275.769730</td>\n",
       "      <td>372560</td>\n",
       "      <td>1239</td>\n",
       "      <td>Ingleside</td>\n",
       "      <td>37.721161</td>\n",
       "      <td>-122.487068</td>\n",
       "    </tr>\n",
       "    <tr>\n",
       "      <th>26</th>\n",
       "      <td>2010</td>\n",
       "      <td>419.887812</td>\n",
       "      <td>372560</td>\n",
       "      <td>1239</td>\n",
       "      <td>Ingleside Heights</td>\n",
       "      <td>37.721160</td>\n",
       "      <td>-122.487070</td>\n",
       "    </tr>\n",
       "    <tr>\n",
       "      <th>27</th>\n",
       "      <td>2010</td>\n",
       "      <td>320.796910</td>\n",
       "      <td>372560</td>\n",
       "      <td>1239</td>\n",
       "      <td>Inner Mission</td>\n",
       "      <td>37.754160</td>\n",
       "      <td>-122.419470</td>\n",
       "    </tr>\n",
       "    <tr>\n",
       "      <th>28</th>\n",
       "      <td>2010</td>\n",
       "      <td>398.458876</td>\n",
       "      <td>372560</td>\n",
       "      <td>1239</td>\n",
       "      <td>Inner Parkside</td>\n",
       "      <td>37.749610</td>\n",
       "      <td>-122.489990</td>\n",
       "    </tr>\n",
       "    <tr>\n",
       "      <th>29</th>\n",
       "      <td>2010</td>\n",
       "      <td>374.057636</td>\n",
       "      <td>372560</td>\n",
       "      <td>1239</td>\n",
       "      <td>Inner Richmond</td>\n",
       "      <td>37.769112</td>\n",
       "      <td>-122.483566</td>\n",
       "    </tr>\n",
       "    <tr>\n",
       "      <th>...</th>\n",
       "      <td>...</td>\n",
       "      <td>...</td>\n",
       "      <td>...</td>\n",
       "      <td>...</td>\n",
       "      <td>...</td>\n",
       "      <td>...</td>\n",
       "      <td>...</td>\n",
       "    </tr>\n",
       "    <tr>\n",
       "      <th>43</th>\n",
       "      <td>2010</td>\n",
       "      <td>274.166742</td>\n",
       "      <td>372560</td>\n",
       "      <td>1239</td>\n",
       "      <td>Noe Valley</td>\n",
       "      <td>37.753310</td>\n",
       "      <td>-122.447030</td>\n",
       "    </tr>\n",
       "    <tr>\n",
       "      <th>44</th>\n",
       "      <td>2010</td>\n",
       "      <td>434.255004</td>\n",
       "      <td>372560</td>\n",
       "      <td>1239</td>\n",
       "      <td>North Beach</td>\n",
       "      <td>37.800550</td>\n",
       "      <td>-122.404330</td>\n",
       "    </tr>\n",
       "    <tr>\n",
       "      <th>45</th>\n",
       "      <td>2010</td>\n",
       "      <td>302.156113</td>\n",
       "      <td>372560</td>\n",
       "      <td>1239</td>\n",
       "      <td>North Waterfront</td>\n",
       "      <td>37.800550</td>\n",
       "      <td>-122.404330</td>\n",
       "    </tr>\n",
       "    <tr>\n",
       "      <th>46</th>\n",
       "      <td>2010</td>\n",
       "      <td>491.450004</td>\n",
       "      <td>372560</td>\n",
       "      <td>1239</td>\n",
       "      <td>Oceanview</td>\n",
       "      <td>37.719930</td>\n",
       "      <td>-122.465950</td>\n",
       "    </tr>\n",
       "    <tr>\n",
       "      <th>47</th>\n",
       "      <td>2010</td>\n",
       "      <td>549.417931</td>\n",
       "      <td>372560</td>\n",
       "      <td>1239</td>\n",
       "      <td>Outer Mission</td>\n",
       "      <td>37.722800</td>\n",
       "      <td>-122.438690</td>\n",
       "    </tr>\n",
       "    <tr>\n",
       "      <th>48</th>\n",
       "      <td>2010</td>\n",
       "      <td>362.348224</td>\n",
       "      <td>372560</td>\n",
       "      <td>1239</td>\n",
       "      <td>Outer Parkside</td>\n",
       "      <td>37.751700</td>\n",
       "      <td>-122.446000</td>\n",
       "    </tr>\n",
       "    <tr>\n",
       "      <th>49</th>\n",
       "      <td>2010</td>\n",
       "      <td>1037.099789</td>\n",
       "      <td>372560</td>\n",
       "      <td>1239</td>\n",
       "      <td>Outer Richmond</td>\n",
       "      <td>37.769110</td>\n",
       "      <td>-122.483570</td>\n",
       "    </tr>\n",
       "    <tr>\n",
       "      <th>50</th>\n",
       "      <td>2010</td>\n",
       "      <td>401.295976</td>\n",
       "      <td>372560</td>\n",
       "      <td>1239</td>\n",
       "      <td>Outer Sunset</td>\n",
       "      <td>37.749610</td>\n",
       "      <td>-122.489990</td>\n",
       "    </tr>\n",
       "    <tr>\n",
       "      <th>51</th>\n",
       "      <td>2010</td>\n",
       "      <td>542.531682</td>\n",
       "      <td>372560</td>\n",
       "      <td>1239</td>\n",
       "      <td>Pacific Heights</td>\n",
       "      <td>37.792980</td>\n",
       "      <td>-122.435790</td>\n",
       "    </tr>\n",
       "    <tr>\n",
       "      <th>52</th>\n",
       "      <td>2010</td>\n",
       "      <td>524.793509</td>\n",
       "      <td>372560</td>\n",
       "      <td>1239</td>\n",
       "      <td>Park North</td>\n",
       "      <td>37.728380</td>\n",
       "      <td>-122.478510</td>\n",
       "    </tr>\n",
       "    <tr>\n",
       "      <th>53</th>\n",
       "      <td>2010</td>\n",
       "      <td>331.555996</td>\n",
       "      <td>372560</td>\n",
       "      <td>1239</td>\n",
       "      <td>Parkside</td>\n",
       "      <td>37.749610</td>\n",
       "      <td>-122.489990</td>\n",
       "    </tr>\n",
       "    <tr>\n",
       "      <th>54</th>\n",
       "      <td>2010</td>\n",
       "      <td>569.193448</td>\n",
       "      <td>372560</td>\n",
       "      <td>1239</td>\n",
       "      <td>Parnassus/Ashbury Heights</td>\n",
       "      <td>37.763550</td>\n",
       "      <td>-122.457650</td>\n",
       "    </tr>\n",
       "    <tr>\n",
       "      <th>55</th>\n",
       "      <td>2010</td>\n",
       "      <td>108.012927</td>\n",
       "      <td>372560</td>\n",
       "      <td>1239</td>\n",
       "      <td>Portola</td>\n",
       "      <td>37.734670</td>\n",
       "      <td>-122.401060</td>\n",
       "    </tr>\n",
       "    <tr>\n",
       "      <th>56</th>\n",
       "      <td>2010</td>\n",
       "      <td>392.300764</td>\n",
       "      <td>372560</td>\n",
       "      <td>1239</td>\n",
       "      <td>Potrero Hill</td>\n",
       "      <td>37.731960</td>\n",
       "      <td>-122.383240</td>\n",
       "    </tr>\n",
       "    <tr>\n",
       "      <th>57</th>\n",
       "      <td>2010</td>\n",
       "      <td>215.569134</td>\n",
       "      <td>372560</td>\n",
       "      <td>1239</td>\n",
       "      <td>Presidio Heights</td>\n",
       "      <td>37.785530</td>\n",
       "      <td>-122.456000</td>\n",
       "    </tr>\n",
       "    <tr>\n",
       "      <th>58</th>\n",
       "      <td>2010</td>\n",
       "      <td>333.126774</td>\n",
       "      <td>372560</td>\n",
       "      <td>1239</td>\n",
       "      <td>Russian Hill</td>\n",
       "      <td>37.792980</td>\n",
       "      <td>-122.435790</td>\n",
       "    </tr>\n",
       "    <tr>\n",
       "      <th>59</th>\n",
       "      <td>2011</td>\n",
       "      <td>272.527310</td>\n",
       "      <td>374507</td>\n",
       "      <td>1530</td>\n",
       "      <td>Silver Terrace</td>\n",
       "      <td>37.734670</td>\n",
       "      <td>-122.401060</td>\n",
       "    </tr>\n",
       "    <tr>\n",
       "      <th>60</th>\n",
       "      <td>2011</td>\n",
       "      <td>172.540562</td>\n",
       "      <td>374507</td>\n",
       "      <td>1530</td>\n",
       "      <td>South Beach</td>\n",
       "      <td>37.783230</td>\n",
       "      <td>-122.400650</td>\n",
       "    </tr>\n",
       "    <tr>\n",
       "      <th>61</th>\n",
       "      <td>2011</td>\n",
       "      <td>471.921732</td>\n",
       "      <td>374507</td>\n",
       "      <td>1530</td>\n",
       "      <td>South of Market</td>\n",
       "      <td>37.791010</td>\n",
       "      <td>-122.402100</td>\n",
       "    </tr>\n",
       "    <tr>\n",
       "      <th>62</th>\n",
       "      <td>2011</td>\n",
       "      <td>171.772347</td>\n",
       "      <td>374507</td>\n",
       "      <td>1530</td>\n",
       "      <td>Sunnyside</td>\n",
       "      <td>37.734150</td>\n",
       "      <td>-122.457000</td>\n",
       "    </tr>\n",
       "    <tr>\n",
       "      <th>63</th>\n",
       "      <td>2011</td>\n",
       "      <td>261.663800</td>\n",
       "      <td>374507</td>\n",
       "      <td>1530</td>\n",
       "      <td>Telegraph Hill</td>\n",
       "      <td>37.800550</td>\n",
       "      <td>-122.404330</td>\n",
       "    </tr>\n",
       "    <tr>\n",
       "      <th>64</th>\n",
       "      <td>2011</td>\n",
       "      <td>391.426450</td>\n",
       "      <td>374507</td>\n",
       "      <td>1530</td>\n",
       "      <td>Twin Peaks</td>\n",
       "      <td>37.753311</td>\n",
       "      <td>-122.447029</td>\n",
       "    </tr>\n",
       "    <tr>\n",
       "      <th>65</th>\n",
       "      <td>2011</td>\n",
       "      <td>520.718168</td>\n",
       "      <td>374507</td>\n",
       "      <td>1530</td>\n",
       "      <td>Union Square District</td>\n",
       "      <td>37.791010</td>\n",
       "      <td>-122.402100</td>\n",
       "    </tr>\n",
       "    <tr>\n",
       "      <th>66</th>\n",
       "      <td>2011</td>\n",
       "      <td>222.567848</td>\n",
       "      <td>374507</td>\n",
       "      <td>1530</td>\n",
       "      <td>Van Ness/ Civic Center</td>\n",
       "      <td>37.779510</td>\n",
       "      <td>-122.420220</td>\n",
       "    </tr>\n",
       "    <tr>\n",
       "      <th>67</th>\n",
       "      <td>2011</td>\n",
       "      <td>390.595653</td>\n",
       "      <td>374507</td>\n",
       "      <td>1530</td>\n",
       "      <td>Visitacion Valley</td>\n",
       "      <td>37.728740</td>\n",
       "      <td>-122.410980</td>\n",
       "    </tr>\n",
       "    <tr>\n",
       "      <th>68</th>\n",
       "      <td>2011</td>\n",
       "      <td>145.853380</td>\n",
       "      <td>374507</td>\n",
       "      <td>1530</td>\n",
       "      <td>West Portal</td>\n",
       "      <td>37.740260</td>\n",
       "      <td>-122.463880</td>\n",
       "    </tr>\n",
       "    <tr>\n",
       "      <th>69</th>\n",
       "      <td>2011</td>\n",
       "      <td>382.352261</td>\n",
       "      <td>374507</td>\n",
       "      <td>1530</td>\n",
       "      <td>Western Addition</td>\n",
       "      <td>37.792980</td>\n",
       "      <td>-122.435790</td>\n",
       "    </tr>\n",
       "    <tr>\n",
       "      <th>70</th>\n",
       "      <td>2011</td>\n",
       "      <td>234.281624</td>\n",
       "      <td>374507</td>\n",
       "      <td>1530</td>\n",
       "      <td>Westwood Highlands</td>\n",
       "      <td>37.734700</td>\n",
       "      <td>-122.456854</td>\n",
       "    </tr>\n",
       "    <tr>\n",
       "      <th>71</th>\n",
       "      <td>2011</td>\n",
       "      <td>295.779378</td>\n",
       "      <td>374507</td>\n",
       "      <td>1530</td>\n",
       "      <td>Westwood Park</td>\n",
       "      <td>37.734150</td>\n",
       "      <td>-122.457000</td>\n",
       "    </tr>\n",
       "    <tr>\n",
       "      <th>72</th>\n",
       "      <td>2011</td>\n",
       "      <td>413.162804</td>\n",
       "      <td>374507</td>\n",
       "      <td>1530</td>\n",
       "      <td>Yerba Buena</td>\n",
       "      <td>37.792980</td>\n",
       "      <td>-122.396360</td>\n",
       "    </tr>\n",
       "  </tbody>\n",
       "</table>\n",
       "<p>73 rows × 7 columns</p>\n",
       "</div>"
      ],
      "text/plain": [
       "    year  Avg_sale_price_per_sqft  Avg_housing_units  Avg_gross_rent  \\\n",
       "0   2010               291.182945             372560            1239   \n",
       "1   2010               267.932583             372560            1239   \n",
       "2   2010               170.098665             372560            1239   \n",
       "3   2010               347.394919             372560            1239   \n",
       "4   2010               319.027623             372560            1239   \n",
       "5   2010               418.172493             372560            1239   \n",
       "6   2010               369.359338             372560            1239   \n",
       "7   2010               569.379968             372560            1239   \n",
       "8   2010               165.645730             372560            1239   \n",
       "9   2010               456.930822             372560            1239   \n",
       "10  2010               241.804552             372560            1239   \n",
       "11  2010               403.118313             372560            1239   \n",
       "12  2010               364.928336             372560            1239   \n",
       "13  2010               401.749967             372560            1239   \n",
       "14  2010               162.821210             372560            1239   \n",
       "15  2010               209.049327             372560            1239   \n",
       "16  2010               715.586438             372560            1239   \n",
       "17  2010               551.801119             372560            1239   \n",
       "18  2010               254.473779             372560            1239   \n",
       "19  2010               272.284980             372560            1239   \n",
       "20  2010               170.624920             372560            1239   \n",
       "21  2010               275.056686             372560            1239   \n",
       "22  2010               238.350020             372560            1239   \n",
       "23  2010               199.702004             372560            1239   \n",
       "24  2010               285.822358             372560            1239   \n",
       "25  2010               275.769730             372560            1239   \n",
       "26  2010               419.887812             372560            1239   \n",
       "27  2010               320.796910             372560            1239   \n",
       "28  2010               398.458876             372560            1239   \n",
       "29  2010               374.057636             372560            1239   \n",
       "..   ...                      ...                ...             ...   \n",
       "43  2010               274.166742             372560            1239   \n",
       "44  2010               434.255004             372560            1239   \n",
       "45  2010               302.156113             372560            1239   \n",
       "46  2010               491.450004             372560            1239   \n",
       "47  2010               549.417931             372560            1239   \n",
       "48  2010               362.348224             372560            1239   \n",
       "49  2010              1037.099789             372560            1239   \n",
       "50  2010               401.295976             372560            1239   \n",
       "51  2010               542.531682             372560            1239   \n",
       "52  2010               524.793509             372560            1239   \n",
       "53  2010               331.555996             372560            1239   \n",
       "54  2010               569.193448             372560            1239   \n",
       "55  2010               108.012927             372560            1239   \n",
       "56  2010               392.300764             372560            1239   \n",
       "57  2010               215.569134             372560            1239   \n",
       "58  2010               333.126774             372560            1239   \n",
       "59  2011               272.527310             374507            1530   \n",
       "60  2011               172.540562             374507            1530   \n",
       "61  2011               471.921732             374507            1530   \n",
       "62  2011               171.772347             374507            1530   \n",
       "63  2011               261.663800             374507            1530   \n",
       "64  2011               391.426450             374507            1530   \n",
       "65  2011               520.718168             374507            1530   \n",
       "66  2011               222.567848             374507            1530   \n",
       "67  2011               390.595653             374507            1530   \n",
       "68  2011               145.853380             374507            1530   \n",
       "69  2011               382.352261             374507            1530   \n",
       "70  2011               234.281624             374507            1530   \n",
       "71  2011               295.779378             374507            1530   \n",
       "72  2011               413.162804             374507            1530   \n",
       "\n",
       "                     Neighborhood        Lat         Lon  \n",
       "0                    Alamo Square  37.791012 -122.402100  \n",
       "1                      Anza Vista  37.779598 -122.443451  \n",
       "2                         Bayview  37.734670 -122.401060  \n",
       "3                 Bayview Heights  37.728740 -122.410980  \n",
       "4                  Bernal Heights  37.728630 -122.443050  \n",
       "5                Buena Vista Park  37.768160 -122.439330  \n",
       "6                Central Richmond  37.777890 -122.445170  \n",
       "7                  Central Sunset  37.749610 -122.489990  \n",
       "8               Clarendon Heights  37.753310 -122.447030  \n",
       "9                  Corona Heights  37.785530 -122.456000  \n",
       "10                     Cow Hollow  37.792980 -122.435790  \n",
       "11                  Croker Amazon  37.722800 -122.438690  \n",
       "12                Diamond Heights  37.728630 -122.443050  \n",
       "13                       Downtown  37.791010 -122.402100  \n",
       "14                Duboce Triangle  37.769640 -122.426110  \n",
       "15  Eureka Valley/Dolores Heights  37.755540 -122.437790  \n",
       "16                      Excelsior  37.728740 -122.410980  \n",
       "17       Financial District North  37.791010 -122.402100  \n",
       "18       Financial District South  37.791010 -122.402100  \n",
       "19                  Forest Knolls  37.757060 -122.455090  \n",
       "20                      Glen Park  37.728630 -122.443050  \n",
       "21            Golden Gate Heights  37.757912 -122.464020  \n",
       "22                 Haight Ashbury  37.765250 -122.435960  \n",
       "23                   Hayes Valley  37.765250 -122.435960  \n",
       "24                  Hunters Point  37.725510 -122.371780  \n",
       "25                      Ingleside  37.721161 -122.487068  \n",
       "26              Ingleside Heights  37.721160 -122.487070  \n",
       "27                  Inner Mission  37.754160 -122.419470  \n",
       "28                 Inner Parkside  37.749610 -122.489990  \n",
       "29                 Inner Richmond  37.769112 -122.483566  \n",
       "..                            ...        ...         ...  \n",
       "43                     Noe Valley  37.753310 -122.447030  \n",
       "44                    North Beach  37.800550 -122.404330  \n",
       "45               North Waterfront  37.800550 -122.404330  \n",
       "46                      Oceanview  37.719930 -122.465950  \n",
       "47                  Outer Mission  37.722800 -122.438690  \n",
       "48                 Outer Parkside  37.751700 -122.446000  \n",
       "49                 Outer Richmond  37.769110 -122.483570  \n",
       "50                   Outer Sunset  37.749610 -122.489990  \n",
       "51                Pacific Heights  37.792980 -122.435790  \n",
       "52                     Park North  37.728380 -122.478510  \n",
       "53                       Parkside  37.749610 -122.489990  \n",
       "54      Parnassus/Ashbury Heights  37.763550 -122.457650  \n",
       "55                        Portola  37.734670 -122.401060  \n",
       "56                   Potrero Hill  37.731960 -122.383240  \n",
       "57               Presidio Heights  37.785530 -122.456000  \n",
       "58                   Russian Hill  37.792980 -122.435790  \n",
       "59                 Silver Terrace  37.734670 -122.401060  \n",
       "60                    South Beach  37.783230 -122.400650  \n",
       "61                South of Market  37.791010 -122.402100  \n",
       "62                      Sunnyside  37.734150 -122.457000  \n",
       "63                 Telegraph Hill  37.800550 -122.404330  \n",
       "64                     Twin Peaks  37.753311 -122.447029  \n",
       "65          Union Square District  37.791010 -122.402100  \n",
       "66         Van Ness/ Civic Center  37.779510 -122.420220  \n",
       "67              Visitacion Valley  37.728740 -122.410980  \n",
       "68                    West Portal  37.740260 -122.463880  \n",
       "69               Western Addition  37.792980 -122.435790  \n",
       "70             Westwood Highlands  37.734700 -122.456854  \n",
       "71                  Westwood Park  37.734150 -122.457000  \n",
       "72                    Yerba Buena  37.792980 -122.396360  \n",
       "\n",
       "[73 rows x 7 columns]"
      ]
     },
     "execution_count": 88,
     "metadata": {},
     "output_type": "execute_result"
    }
   ],
   "source": [
    "# Concat dataframes\n",
    "price_by_neighborhood = pd.concat([mean_df,df_neighborhood_locations],join = \"inner\", axis = 'columns').reset_index()\n",
    "price_by_neighborhood.drop(columns=['neighborhood','index'])"
   ]
  },
  {
   "cell_type": "markdown",
   "metadata": {},
   "source": [
    "### Mapbox Visualization"
   ]
  },
  {
   "cell_type": "code",
   "execution_count": 89,
   "metadata": {},
   "outputs": [
    {
     "data": {
      "application/vnd.plotly.v1+json": {
       "config": {
        "plotlyServerURL": "https://plot.ly"
       },
       "data": [
        {
         "hovertemplate": "neighborhood=Alamo Square<br>Avg_sale_price_per_sqft=%{marker.size}<br>Lat=%{lat}<br>Lon=%{lon}<extra></extra>",
         "lat": [
          37.791012,
          37.73467
         ],
         "legendgroup": "Alamo Square",
         "lon": [
          -122.4021,
          -122.40106000000002
         ],
         "marker": {
          "color": "#636efa",
          "size": [
           291.18294547229095,
           272.5273101795261
          ],
          "sizemode": "area",
          "sizeref": 4.609332394052398
         },
         "mode": "markers",
         "name": "Alamo Square",
         "showlegend": true,
         "subplot": "mapbox",
         "type": "scattermapbox"
        },
        {
         "hovertemplate": "neighborhood=Anza Vista<br>Avg_sale_price_per_sqft=%{marker.size}<br>Lat=%{lat}<br>Lon=%{lon}<extra></extra>",
         "lat": [
          37.779598
         ],
         "legendgroup": "Anza Vista",
         "lon": [
          -122.443451
         ],
         "marker": {
          "color": "#EF553B",
          "size": [
           267.9325826799483
          ],
          "sizemode": "area",
          "sizeref": 4.609332394052398
         },
         "mode": "markers",
         "name": "Anza Vista",
         "showlegend": true,
         "subplot": "mapbox",
         "type": "scattermapbox"
        },
        {
         "hovertemplate": "neighborhood=Bayview<br>Avg_sale_price_per_sqft=%{marker.size}<br>Lat=%{lat}<br>Lon=%{lon}<extra></extra>",
         "lat": [
          37.73467,
          37.783229999999996
         ],
         "legendgroup": "Bayview",
         "lon": [
          -122.40106000000002,
          -122.40065
         ],
         "marker": {
          "color": "#00cc96",
          "size": [
           170.09866536400102,
           172.54056243085552
          ],
          "sizemode": "area",
          "sizeref": 4.609332394052398
         },
         "mode": "markers",
         "name": "Bayview",
         "showlegend": true,
         "subplot": "mapbox",
         "type": "scattermapbox"
        },
        {
         "hovertemplate": "neighborhood=Buena Vista Park<br>Avg_sale_price_per_sqft=%{marker.size}<br>Lat=%{lat}<br>Lon=%{lon}<extra></extra>",
         "lat": [
          37.72874,
          37.73415
         ],
         "legendgroup": "Buena Vista Park",
         "lon": [
          -122.41098000000001,
          -122.45700000000001
         ],
         "marker": {
          "color": "#ab63fa",
          "size": [
           347.3949194037114,
           171.7723466866044
          ],
          "sizemode": "area",
          "sizeref": 4.609332394052398
         },
         "mode": "markers",
         "name": "Buena Vista Park",
         "showlegend": true,
         "subplot": "mapbox",
         "type": "scattermapbox"
        },
        {
         "hovertemplate": "neighborhood=Central Richmond<br>Avg_sale_price_per_sqft=%{marker.size}<br>Lat=%{lat}<br>Lon=%{lon}<extra></extra>",
         "lat": [
          37.728629999999995,
          37.80055
         ],
         "legendgroup": "Central Richmond",
         "lon": [
          -122.44305,
          -122.40433
         ],
         "marker": {
          "color": "#FFA15A",
          "size": [
           319.0276225530687,
           261.6638003416518
          ],
          "sizemode": "area",
          "sizeref": 4.609332394052398
         },
         "mode": "markers",
         "name": "Central Richmond",
         "showlegend": true,
         "subplot": "mapbox",
         "type": "scattermapbox"
        },
        {
         "hovertemplate": "neighborhood=Central Sunset<br>Avg_sale_price_per_sqft=%{marker.size}<br>Lat=%{lat}<br>Lon=%{lon}<extra></extra>",
         "lat": [
          37.768159999999995,
          37.753311
         ],
         "legendgroup": "Central Sunset",
         "lon": [
          -122.43933,
          -122.447029
         ],
         "marker": {
          "color": "#19d3f3",
          "size": [
           418.1724927089675,
           391.42644972996203
          ],
          "sizemode": "area",
          "sizeref": 4.609332394052398
         },
         "mode": "markers",
         "name": "Central Sunset",
         "showlegend": true,
         "subplot": "mapbox",
         "type": "scattermapbox"
        },
        {
         "hovertemplate": "neighborhood=Corona Heights<br>Avg_sale_price_per_sqft=%{marker.size}<br>Lat=%{lat}<br>Lon=%{lon}<extra></extra>",
         "lat": [
          37.77789,
          37.779509999999995
         ],
         "legendgroup": "Corona Heights",
         "lon": [
          -122.44516999999999,
          -122.42022
         ],
         "marker": {
          "color": "#FF6692",
          "size": [
           369.35933800413665,
           222.567848047696
          ],
          "sizemode": "area",
          "sizeref": 4.609332394052398
         },
         "mode": "markers",
         "name": "Corona Heights",
         "showlegend": true,
         "subplot": "mapbox",
         "type": "scattermapbox"
        },
        {
         "hovertemplate": "neighborhood=Cow Hollow<br>Avg_sale_price_per_sqft=%{marker.size}<br>Lat=%{lat}<br>Lon=%{lon}<extra></extra>",
         "lat": [
          37.74961,
          37.72874
         ],
         "legendgroup": "Cow Hollow",
         "lon": [
          -122.48998999999999,
          -122.41098000000001
         ],
         "marker": {
          "color": "#B6E880",
          "size": [
           569.3799679261333,
           390.5956530284181
          ],
          "sizemode": "area",
          "sizeref": 4.609332394052398
         },
         "mode": "markers",
         "name": "Cow Hollow",
         "showlegend": true,
         "subplot": "mapbox",
         "type": "scattermapbox"
        },
        {
         "hovertemplate": "neighborhood=Croker Amazon<br>Avg_sale_price_per_sqft=%{marker.size}<br>Lat=%{lat}<br>Lon=%{lon}<extra></extra>",
         "lat": [
          37.75331,
          37.74026
         ],
         "legendgroup": "Croker Amazon",
         "lon": [
          -122.44703,
          -122.46388
         ],
         "marker": {
          "color": "#FF97FF",
          "size": [
           165.6457300650791,
           145.85338027594094
          ],
          "sizemode": "area",
          "sizeref": 4.609332394052398
         },
         "mode": "markers",
         "name": "Croker Amazon",
         "showlegend": true,
         "subplot": "mapbox",
         "type": "scattermapbox"
        },
        {
         "hovertemplate": "neighborhood=Diamond Heights<br>Avg_sale_price_per_sqft=%{marker.size}<br>Lat=%{lat}<br>Lon=%{lon}<extra></extra>",
         "lat": [
          37.78553,
          37.79298
         ],
         "legendgroup": "Diamond Heights",
         "lon": [
          -122.456,
          -122.43579
         ],
         "marker": {
          "color": "#FECB52",
          "size": [
           456.9308221979013,
           382.3522610640586
          ],
          "sizemode": "area",
          "sizeref": 4.609332394052398
         },
         "mode": "markers",
         "name": "Diamond Heights",
         "showlegend": true,
         "subplot": "mapbox",
         "type": "scattermapbox"
        },
        {
         "hovertemplate": "neighborhood=Downtown <br>Avg_sale_price_per_sqft=%{marker.size}<br>Lat=%{lat}<br>Lon=%{lon}<extra></extra>",
         "lat": [
          37.79298,
          37.7347
         ],
         "legendgroup": "Downtown ",
         "lon": [
          -122.43579,
          -122.456854
         ],
         "marker": {
          "color": "#636efa",
          "size": [
           241.80455206485138,
           234.28162351035442
          ],
          "sizemode": "area",
          "sizeref": 4.609332394052398
         },
         "mode": "markers",
         "name": "Downtown ",
         "showlegend": true,
         "subplot": "mapbox",
         "type": "scattermapbox"
        },
        {
         "hovertemplate": "neighborhood=Eureka Valley/Dolores Heights<br>Avg_sale_price_per_sqft=%{marker.size}<br>Lat=%{lat}<br>Lon=%{lon}<extra></extra>",
         "lat": [
          37.7228,
          37.79298
         ],
         "legendgroup": "Eureka Valley/Dolores Heights",
         "lon": [
          -122.43869,
          -122.39636000000002
         ],
         "marker": {
          "color": "#EF553B",
          "size": [
           403.1183126490986,
           413.16280403427527
          ],
          "sizemode": "area",
          "sizeref": 4.609332394052398
         },
         "mode": "markers",
         "name": "Eureka Valley/Dolores Heights",
         "showlegend": true,
         "subplot": "mapbox",
         "type": "scattermapbox"
        },
        {
         "hovertemplate": "neighborhood=Excelsior<br>Avg_sale_price_per_sqft=%{marker.size}<br>Lat=%{lat}<br>Lon=%{lon}<extra></extra>",
         "lat": [
          37.728629999999995
         ],
         "legendgroup": "Excelsior",
         "lon": [
          -122.44305
         ],
         "marker": {
          "color": "#00cc96",
          "size": [
           364.92833570851764
          ],
          "sizemode": "area",
          "sizeref": 4.609332394052398
         },
         "mode": "markers",
         "name": "Excelsior",
         "showlegend": true,
         "subplot": "mapbox",
         "type": "scattermapbox"
        },
        {
         "hovertemplate": "neighborhood=Financial District North<br>Avg_sale_price_per_sqft=%{marker.size}<br>Lat=%{lat}<br>Lon=%{lon}<extra></extra>",
         "lat": [
          37.79101
         ],
         "legendgroup": "Financial District North",
         "lon": [
          -122.4021
         ],
         "marker": {
          "color": "#ab63fa",
          "size": [
           401.7499665916537
          ],
          "sizemode": "area",
          "sizeref": 4.609332394052398
         },
         "mode": "markers",
         "name": "Financial District North",
         "showlegend": true,
         "subplot": "mapbox",
         "type": "scattermapbox"
        },
        {
         "hovertemplate": "neighborhood=Financial District South<br>Avg_sale_price_per_sqft=%{marker.size}<br>Lat=%{lat}<br>Lon=%{lon}<extra></extra>",
         "lat": [
          37.76964
         ],
         "legendgroup": "Financial District South",
         "lon": [
          -122.42611000000001
         ],
         "marker": {
          "color": "#FFA15A",
          "size": [
           162.82121004772353
          ],
          "sizemode": "area",
          "sizeref": 4.609332394052398
         },
         "mode": "markers",
         "name": "Financial District South",
         "showlegend": true,
         "subplot": "mapbox",
         "type": "scattermapbox"
        },
        {
         "hovertemplate": "neighborhood=Forest Knolls<br>Avg_sale_price_per_sqft=%{marker.size}<br>Lat=%{lat}<br>Lon=%{lon}<extra></extra>",
         "lat": [
          37.75554
         ],
         "legendgroup": "Forest Knolls",
         "lon": [
          -122.43778999999999
         ],
         "marker": {
          "color": "#19d3f3",
          "size": [
           209.0493266346945
          ],
          "sizemode": "area",
          "sizeref": 4.609332394052398
         },
         "mode": "markers",
         "name": "Forest Knolls",
         "showlegend": true,
         "subplot": "mapbox",
         "type": "scattermapbox"
        },
        {
         "hovertemplate": "neighborhood=Glen Park<br>Avg_sale_price_per_sqft=%{marker.size}<br>Lat=%{lat}<br>Lon=%{lon}<extra></extra>",
         "lat": [
          37.72874
         ],
         "legendgroup": "Glen Park",
         "lon": [
          -122.41098000000001
         ],
         "marker": {
          "color": "#FF6692",
          "size": [
           715.5864380979738
          ],
          "sizemode": "area",
          "sizeref": 4.609332394052398
         },
         "mode": "markers",
         "name": "Glen Park",
         "showlegend": true,
         "subplot": "mapbox",
         "type": "scattermapbox"
        },
        {
         "hovertemplate": "neighborhood=Golden Gate Heights<br>Avg_sale_price_per_sqft=%{marker.size}<br>Lat=%{lat}<br>Lon=%{lon}<extra></extra>",
         "lat": [
          37.79101
         ],
         "legendgroup": "Golden Gate Heights",
         "lon": [
          -122.4021
         ],
         "marker": {
          "color": "#B6E880",
          "size": [
           551.8011188234774
          ],
          "sizemode": "area",
          "sizeref": 4.609332394052398
         },
         "mode": "markers",
         "name": "Golden Gate Heights",
         "showlegend": true,
         "subplot": "mapbox",
         "type": "scattermapbox"
        },
        {
         "hovertemplate": "neighborhood=Haight Ashbury<br>Avg_sale_price_per_sqft=%{marker.size}<br>Lat=%{lat}<br>Lon=%{lon}<extra></extra>",
         "lat": [
          37.79101
         ],
         "legendgroup": "Haight Ashbury",
         "lon": [
          -122.4021
         ],
         "marker": {
          "color": "#FF97FF",
          "size": [
           254.47377914469143
          ],
          "sizemode": "area",
          "sizeref": 4.609332394052398
         },
         "mode": "markers",
         "name": "Haight Ashbury",
         "showlegend": true,
         "subplot": "mapbox",
         "type": "scattermapbox"
        },
        {
         "hovertemplate": "neighborhood=Hayes Valley<br>Avg_sale_price_per_sqft=%{marker.size}<br>Lat=%{lat}<br>Lon=%{lon}<extra></extra>",
         "lat": [
          37.757059999999996
         ],
         "legendgroup": "Hayes Valley",
         "lon": [
          -122.45508999999998
         ],
         "marker": {
          "color": "#FECB52",
          "size": [
           272.28497956385485
          ],
          "sizemode": "area",
          "sizeref": 4.609332394052398
         },
         "mode": "markers",
         "name": "Hayes Valley",
         "showlegend": true,
         "subplot": "mapbox",
         "type": "scattermapbox"
        },
        {
         "hovertemplate": "neighborhood=Hunters Point<br>Avg_sale_price_per_sqft=%{marker.size}<br>Lat=%{lat}<br>Lon=%{lon}<extra></extra>",
         "lat": [
          37.728629999999995
         ],
         "legendgroup": "Hunters Point",
         "lon": [
          -122.44305
         ],
         "marker": {
          "color": "#636efa",
          "size": [
           170.62491987132685
          ],
          "sizemode": "area",
          "sizeref": 4.609332394052398
         },
         "mode": "markers",
         "name": "Hunters Point",
         "showlegend": true,
         "subplot": "mapbox",
         "type": "scattermapbox"
        },
        {
         "hovertemplate": "neighborhood=Ingleside <br>Avg_sale_price_per_sqft=%{marker.size}<br>Lat=%{lat}<br>Lon=%{lon}<extra></extra>",
         "lat": [
          37.757912
         ],
         "legendgroup": "Ingleside ",
         "lon": [
          -122.46401999999999
         ],
         "marker": {
          "color": "#EF553B",
          "size": [
           275.05668560990915
          ],
          "sizemode": "area",
          "sizeref": 4.609332394052398
         },
         "mode": "markers",
         "name": "Ingleside ",
         "showlegend": true,
         "subplot": "mapbox",
         "type": "scattermapbox"
        },
        {
         "hovertemplate": "neighborhood=Inner Mission<br>Avg_sale_price_per_sqft=%{marker.size}<br>Lat=%{lat}<br>Lon=%{lon}<extra></extra>",
         "lat": [
          37.76525
         ],
         "legendgroup": "Inner Mission",
         "lon": [
          -122.43596000000001
         ],
         "marker": {
          "color": "#00cc96",
          "size": [
           238.35002040677708
          ],
          "sizemode": "area",
          "sizeref": 4.609332394052398
         },
         "mode": "markers",
         "name": "Inner Mission",
         "showlegend": true,
         "subplot": "mapbox",
         "type": "scattermapbox"
        },
        {
         "hovertemplate": "neighborhood=Inner Parkside<br>Avg_sale_price_per_sqft=%{marker.size}<br>Lat=%{lat}<br>Lon=%{lon}<extra></extra>",
         "lat": [
          37.76525
         ],
         "legendgroup": "Inner Parkside",
         "lon": [
          -122.43596000000001
         ],
         "marker": {
          "color": "#ab63fa",
          "size": [
           199.70200378219917
          ],
          "sizemode": "area",
          "sizeref": 4.609332394052398
         },
         "mode": "markers",
         "name": "Inner Parkside",
         "showlegend": true,
         "subplot": "mapbox",
         "type": "scattermapbox"
        },
        {
         "hovertemplate": "neighborhood=Inner Richmond<br>Avg_sale_price_per_sqft=%{marker.size}<br>Lat=%{lat}<br>Lon=%{lon}<extra></extra>",
         "lat": [
          37.72551
         ],
         "legendgroup": "Inner Richmond",
         "lon": [
          -122.37178
         ],
         "marker": {
          "color": "#FFA15A",
          "size": [
           285.82235848868265
          ],
          "sizemode": "area",
          "sizeref": 4.609332394052398
         },
         "mode": "markers",
         "name": "Inner Richmond",
         "showlegend": true,
         "subplot": "mapbox",
         "type": "scattermapbox"
        },
        {
         "hovertemplate": "neighborhood=Inner Sunset<br>Avg_sale_price_per_sqft=%{marker.size}<br>Lat=%{lat}<br>Lon=%{lon}<extra></extra>",
         "lat": [
          37.721160999999995
         ],
         "legendgroup": "Inner Sunset",
         "lon": [
          -122.487068
         ],
         "marker": {
          "color": "#19d3f3",
          "size": [
           275.76972957461044
          ],
          "sizemode": "area",
          "sizeref": 4.609332394052398
         },
         "mode": "markers",
         "name": "Inner Sunset",
         "showlegend": true,
         "subplot": "mapbox",
         "type": "scattermapbox"
        },
        {
         "hovertemplate": "neighborhood=Jordan Park/Laurel Heights<br>Avg_sale_price_per_sqft=%{marker.size}<br>Lat=%{lat}<br>Lon=%{lon}<extra></extra>",
         "lat": [
          37.72116
         ],
         "legendgroup": "Jordan Park/Laurel Heights",
         "lon": [
          -122.48706999999999
         ],
         "marker": {
          "color": "#FF6692",
          "size": [
           419.88781187646566
          ],
          "sizemode": "area",
          "sizeref": 4.609332394052398
         },
         "mode": "markers",
         "name": "Jordan Park/Laurel Heights",
         "showlegend": true,
         "subplot": "mapbox",
         "type": "scattermapbox"
        },
        {
         "hovertemplate": "neighborhood=Lake --The Presidio<br>Avg_sale_price_per_sqft=%{marker.size}<br>Lat=%{lat}<br>Lon=%{lon}<extra></extra>",
         "lat": [
          37.75416
         ],
         "legendgroup": "Lake --The Presidio",
         "lon": [
          -122.41946999999999
         ],
         "marker": {
          "color": "#B6E880",
          "size": [
           320.79691049204627
          ],
          "sizemode": "area",
          "sizeref": 4.609332394052398
         },
         "mode": "markers",
         "name": "Lake --The Presidio",
         "showlegend": true,
         "subplot": "mapbox",
         "type": "scattermapbox"
        },
        {
         "hovertemplate": "neighborhood=Lone Mountain<br>Avg_sale_price_per_sqft=%{marker.size}<br>Lat=%{lat}<br>Lon=%{lon}<extra></extra>",
         "lat": [
          37.74961
         ],
         "legendgroup": "Lone Mountain",
         "lon": [
          -122.48998999999999
         ],
         "marker": {
          "color": "#FF97FF",
          "size": [
           398.4588759923028
          ],
          "sizemode": "area",
          "sizeref": 4.609332394052398
         },
         "mode": "markers",
         "name": "Lone Mountain",
         "showlegend": true,
         "subplot": "mapbox",
         "type": "scattermapbox"
        },
        {
         "hovertemplate": "neighborhood=Lower Pacific Heights<br>Avg_sale_price_per_sqft=%{marker.size}<br>Lat=%{lat}<br>Lon=%{lon}<extra></extra>",
         "lat": [
          37.769112
         ],
         "legendgroup": "Lower Pacific Heights",
         "lon": [
          -122.483566
         ],
         "marker": {
          "color": "#FECB52",
          "size": [
           374.05763601016855
          ],
          "sizemode": "area",
          "sizeref": 4.609332394052398
         },
         "mode": "markers",
         "name": "Lower Pacific Heights",
         "showlegend": true,
         "subplot": "mapbox",
         "type": "scattermapbox"
        },
        {
         "hovertemplate": "neighborhood=Marina<br>Avg_sale_price_per_sqft=%{marker.size}<br>Lat=%{lat}<br>Lon=%{lon}<extra></extra>",
         "lat": [
          37.74961
         ],
         "legendgroup": "Marina",
         "lon": [
          -122.48997
         ],
         "marker": {
          "color": "#636efa",
          "size": [
           387.392839476922
          ],
          "sizemode": "area",
          "sizeref": 4.609332394052398
         },
         "mode": "markers",
         "name": "Marina",
         "showlegend": true,
         "subplot": "mapbox",
         "type": "scattermapbox"
        },
        {
         "hovertemplate": "neighborhood=Miraloma Park<br>Avg_sale_price_per_sqft=%{marker.size}<br>Lat=%{lat}<br>Lon=%{lon}<extra></extra>",
         "lat": [
          37.78553
         ],
         "legendgroup": "Miraloma Park",
         "lon": [
          -122.456
         ],
         "marker": {
          "color": "#EF553B",
          "size": [
           680.6087291389301
          ],
          "sizemode": "area",
          "sizeref": 4.609332394052398
         },
         "mode": "markers",
         "name": "Miraloma Park",
         "showlegend": true,
         "subplot": "mapbox",
         "type": "scattermapbox"
        },
        {
         "hovertemplate": "neighborhood=Mission Bay<br>Avg_sale_price_per_sqft=%{marker.size}<br>Lat=%{lat}<br>Lon=%{lon}<extra></extra>",
         "lat": [
          37.801520000000004
         ],
         "legendgroup": "Mission Bay",
         "lon": [
          -122.45456999999999
         ],
         "marker": {
          "color": "#00cc96",
          "size": [
           489.80537777998506
          ],
          "sizemode": "area",
          "sizeref": 4.609332394052398
         },
         "mode": "markers",
         "name": "Mission Bay",
         "showlegend": true,
         "subplot": "mapbox",
         "type": "scattermapbox"
        },
        {
         "hovertemplate": "neighborhood=Mission Dolores<br>Avg_sale_price_per_sqft=%{marker.size}<br>Lat=%{lat}<br>Lon=%{lon}<extra></extra>",
         "lat": [
          37.7789
         ],
         "legendgroup": "Mission Dolores",
         "lon": [
          -122.45496000000001
         ],
         "marker": {
          "color": "#ab63fa",
          "size": [
           257.98799863500693
          ],
          "sizemode": "area",
          "sizeref": 4.609332394052398
         },
         "mode": "markers",
         "name": "Mission Dolores",
         "showlegend": true,
         "subplot": "mapbox",
         "type": "scattermapbox"
        },
        {
         "hovertemplate": "neighborhood=Mission Terrace<br>Avg_sale_price_per_sqft=%{marker.size}<br>Lat=%{lat}<br>Lon=%{lon}<extra></extra>",
         "lat": [
          37.79298
         ],
         "legendgroup": "Mission Terrace",
         "lon": [
          -122.43579
         ],
         "marker": {
          "color": "#FFA15A",
          "size": [
           262.87602564056425
          ],
          "sizemode": "area",
          "sizeref": 4.609332394052398
         },
         "mode": "markers",
         "name": "Mission Terrace",
         "showlegend": true,
         "subplot": "mapbox",
         "type": "scattermapbox"
        },
        {
         "hovertemplate": "neighborhood=Nob Hill<br>Avg_sale_price_per_sqft=%{marker.size}<br>Lat=%{lat}<br>Lon=%{lon}<extra></extra>",
         "lat": [
          37.79972
         ],
         "legendgroup": "Nob Hill",
         "lon": [
          -122.46688999999999
         ],
         "marker": {
          "color": "#19d3f3",
          "size": [
           307.67747674427835
          ],
          "sizemode": "area",
          "sizeref": 4.609332394052398
         },
         "mode": "markers",
         "name": "Nob Hill",
         "showlegend": true,
         "subplot": "mapbox",
         "type": "scattermapbox"
        },
        {
         "hovertemplate": "neighborhood=Noe Valley<br>Avg_sale_price_per_sqft=%{marker.size}<br>Lat=%{lat}<br>Lon=%{lon}<extra></extra>",
         "lat": [
          37.71993
         ],
         "legendgroup": "Noe Valley",
         "lon": [
          -122.46595
         ],
         "marker": {
          "color": "#FF6692",
          "size": [
           381.13844514705266
          ],
          "sizemode": "area",
          "sizeref": 4.609332394052398
         },
         "mode": "markers",
         "name": "Noe Valley",
         "showlegend": true,
         "subplot": "mapbox",
         "type": "scattermapbox"
        },
        {
         "hovertemplate": "neighborhood=Oceanview<br>Avg_sale_price_per_sqft=%{marker.size}<br>Lat=%{lat}<br>Lon=%{lon}<extra></extra>",
         "lat": [
          37.75331
         ],
         "legendgroup": "Oceanview",
         "lon": [
          -122.44703
         ],
         "marker": {
          "color": "#B6E880",
          "size": [
           282.11967050133603
          ],
          "sizemode": "area",
          "sizeref": 4.609332394052398
         },
         "mode": "markers",
         "name": "Oceanview",
         "showlegend": true,
         "subplot": "mapbox",
         "type": "scattermapbox"
        },
        {
         "hovertemplate": "neighborhood=Outer Parkside<br>Avg_sale_price_per_sqft=%{marker.size}<br>Lat=%{lat}<br>Lon=%{lon}<extra></extra>",
         "lat": [
          37.73415
         ],
         "legendgroup": "Outer Parkside",
         "lon": [
          -122.45700000000001
         ],
         "marker": {
          "color": "#FF97FF",
          "size": [
           432.19529211245555
          ],
          "sizemode": "area",
          "sizeref": 4.609332394052398
         },
         "mode": "markers",
         "name": "Outer Parkside",
         "showlegend": true,
         "subplot": "mapbox",
         "type": "scattermapbox"
        },
        {
         "hovertemplate": "neighborhood=Outer Richmond <br>Avg_sale_price_per_sqft=%{marker.size}<br>Lat=%{lat}<br>Lon=%{lon}<extra></extra>",
         "lat": [
          37.783229999999996
         ],
         "legendgroup": "Outer Richmond ",
         "lon": [
          -122.40065
         ],
         "marker": {
          "color": "#FECB52",
          "size": [
           338.12619999607017
          ],
          "sizemode": "area",
          "sizeref": 4.609332394052398
         },
         "mode": "markers",
         "name": "Outer Richmond ",
         "showlegend": true,
         "subplot": "mapbox",
         "type": "scattermapbox"
        },
        {
         "hovertemplate": "neighborhood=Outer Sunset<br>Avg_sale_price_per_sqft=%{marker.size}<br>Lat=%{lat}<br>Lon=%{lon}<extra></extra>",
         "lat": [
          37.75184
         ],
         "legendgroup": "Outer Sunset",
         "lon": [
          -122.42522
         ],
         "marker": {
          "color": "#636efa",
          "size": [
           368.31155203937294
          ],
          "sizemode": "area",
          "sizeref": 4.609332394052398
         },
         "mode": "markers",
         "name": "Outer Sunset",
         "showlegend": true,
         "subplot": "mapbox",
         "type": "scattermapbox"
        },
        {
         "hovertemplate": "neighborhood=Pacific Heights<br>Avg_sale_price_per_sqft=%{marker.size}<br>Lat=%{lat}<br>Lon=%{lon}<extra></extra>",
         "lat": [
          37.728629999999995
         ],
         "legendgroup": "Pacific Heights",
         "lon": [
          -122.44305
         ],
         "marker": {
          "color": "#EF553B",
          "size": [
           496.51601414694983
          ],
          "sizemode": "area",
          "sizeref": 4.609332394052398
         },
         "mode": "markers",
         "name": "Pacific Heights",
         "showlegend": true,
         "subplot": "mapbox",
         "type": "scattermapbox"
        },
        {
         "hovertemplate": "neighborhood=Park North<br>Avg_sale_price_per_sqft=%{marker.size}<br>Lat=%{lat}<br>Lon=%{lon}<extra></extra>",
         "lat": [
          37.79298
         ],
         "legendgroup": "Park North",
         "lon": [
          -122.43579
         ],
         "marker": {
          "color": "#00cc96",
          "size": [
           326.01715041025074
          ],
          "sizemode": "area",
          "sizeref": 4.609332394052398
         },
         "mode": "markers",
         "name": "Park North",
         "showlegend": true,
         "subplot": "mapbox",
         "type": "scattermapbox"
        },
        {
         "hovertemplate": "neighborhood=Parkside<br>Avg_sale_price_per_sqft=%{marker.size}<br>Lat=%{lat}<br>Lon=%{lon}<extra></extra>",
         "lat": [
          37.75331
         ],
         "legendgroup": "Parkside",
         "lon": [
          -122.44703
         ],
         "marker": {
          "color": "#ab63fa",
          "size": [
           274.16674158669116
          ],
          "sizemode": "area",
          "sizeref": 4.609332394052398
         },
         "mode": "markers",
         "name": "Parkside",
         "showlegend": true,
         "subplot": "mapbox",
         "type": "scattermapbox"
        },
        {
         "hovertemplate": "neighborhood=Parnassus/Ashbury Heights<br>Avg_sale_price_per_sqft=%{marker.size}<br>Lat=%{lat}<br>Lon=%{lon}<extra></extra>",
         "lat": [
          37.80055
         ],
         "legendgroup": "Parnassus/Ashbury Heights",
         "lon": [
          -122.40433
         ],
         "marker": {
          "color": "#FFA15A",
          "size": [
           434.25500394602585
          ],
          "sizemode": "area",
          "sizeref": 4.609332394052398
         },
         "mode": "markers",
         "name": "Parnassus/Ashbury Heights",
         "showlegend": true,
         "subplot": "mapbox",
         "type": "scattermapbox"
        },
        {
         "hovertemplate": "neighborhood=Portola<br>Avg_sale_price_per_sqft=%{marker.size}<br>Lat=%{lat}<br>Lon=%{lon}<extra></extra>",
         "lat": [
          37.80055
         ],
         "legendgroup": "Portola",
         "lon": [
          -122.40433
         ],
         "marker": {
          "color": "#19d3f3",
          "size": [
           302.15611319728896
          ],
          "sizemode": "area",
          "sizeref": 4.609332394052398
         },
         "mode": "markers",
         "name": "Portola",
         "showlegend": true,
         "subplot": "mapbox",
         "type": "scattermapbox"
        },
        {
         "hovertemplate": "neighborhood=Potrero Hill<br>Avg_sale_price_per_sqft=%{marker.size}<br>Lat=%{lat}<br>Lon=%{lon}<extra></extra>",
         "lat": [
          37.71993
         ],
         "legendgroup": "Potrero Hill",
         "lon": [
          -122.46595
         ],
         "marker": {
          "color": "#FF6692",
          "size": [
           491.45000385678617
          ],
          "sizemode": "area",
          "sizeref": 4.609332394052398
         },
         "mode": "markers",
         "name": "Potrero Hill",
         "showlegend": true,
         "subplot": "mapbox",
         "type": "scattermapbox"
        },
        {
         "hovertemplate": "neighborhood=Presidio Heights<br>Avg_sale_price_per_sqft=%{marker.size}<br>Lat=%{lat}<br>Lon=%{lon}<extra></extra>",
         "lat": [
          37.7228
         ],
         "legendgroup": "Presidio Heights",
         "lon": [
          -122.43869
         ],
         "marker": {
          "color": "#B6E880",
          "size": [
           549.4179312485746
          ],
          "sizemode": "area",
          "sizeref": 4.609332394052398
         },
         "mode": "markers",
         "name": "Presidio Heights",
         "showlegend": true,
         "subplot": "mapbox",
         "type": "scattermapbox"
        },
        {
         "hovertemplate": "neighborhood=Russian Hill<br>Avg_sale_price_per_sqft=%{marker.size}<br>Lat=%{lat}<br>Lon=%{lon}<extra></extra>",
         "lat": [
          37.7517
         ],
         "legendgroup": "Russian Hill",
         "lon": [
          -122.446
         ],
         "marker": {
          "color": "#FF97FF",
          "size": [
           362.34822391312133
          ],
          "sizemode": "area",
          "sizeref": 4.609332394052398
         },
         "mode": "markers",
         "name": "Russian Hill",
         "showlegend": true,
         "subplot": "mapbox",
         "type": "scattermapbox"
        },
        {
         "hovertemplate": "neighborhood=South Beach<br>Avg_sale_price_per_sqft=%{marker.size}<br>Lat=%{lat}<br>Lon=%{lon}<extra></extra>",
         "lat": [
          37.76911
         ],
         "legendgroup": "South Beach",
         "lon": [
          -122.48357
         ],
         "marker": {
          "color": "#FECB52",
          "size": [
           1037.0997886617895
          ],
          "sizemode": "area",
          "sizeref": 4.609332394052398
         },
         "mode": "markers",
         "name": "South Beach",
         "showlegend": true,
         "subplot": "mapbox",
         "type": "scattermapbox"
        },
        {
         "hovertemplate": "neighborhood=South of Market<br>Avg_sale_price_per_sqft=%{marker.size}<br>Lat=%{lat}<br>Lon=%{lon}<extra></extra>",
         "lat": [
          37.74961
         ],
         "legendgroup": "South of Market",
         "lon": [
          -122.48998999999999
         ],
         "marker": {
          "color": "#636efa",
          "size": [
           401.2959764896399
          ],
          "sizemode": "area",
          "sizeref": 4.609332394052398
         },
         "mode": "markers",
         "name": "South of Market",
         "showlegend": true,
         "subplot": "mapbox",
         "type": "scattermapbox"
        },
        {
         "hovertemplate": "neighborhood=Sunnyside<br>Avg_sale_price_per_sqft=%{marker.size}<br>Lat=%{lat}<br>Lon=%{lon}<extra></extra>",
         "lat": [
          37.79298
         ],
         "legendgroup": "Sunnyside",
         "lon": [
          -122.43579
         ],
         "marker": {
          "color": "#EF553B",
          "size": [
           542.5316819894505
          ],
          "sizemode": "area",
          "sizeref": 4.609332394052398
         },
         "mode": "markers",
         "name": "Sunnyside",
         "showlegend": true,
         "subplot": "mapbox",
         "type": "scattermapbox"
        },
        {
         "hovertemplate": "neighborhood=Telegraph Hill<br>Avg_sale_price_per_sqft=%{marker.size}<br>Lat=%{lat}<br>Lon=%{lon}<extra></extra>",
         "lat": [
          37.72838
         ],
         "legendgroup": "Telegraph Hill",
         "lon": [
          -122.47851000000001
         ],
         "marker": {
          "color": "#00cc96",
          "size": [
           524.7935090952678
          ],
          "sizemode": "area",
          "sizeref": 4.609332394052398
         },
         "mode": "markers",
         "name": "Telegraph Hill",
         "showlegend": true,
         "subplot": "mapbox",
         "type": "scattermapbox"
        },
        {
         "hovertemplate": "neighborhood=Twin Peaks<br>Avg_sale_price_per_sqft=%{marker.size}<br>Lat=%{lat}<br>Lon=%{lon}<extra></extra>",
         "lat": [
          37.74961
         ],
         "legendgroup": "Twin Peaks",
         "lon": [
          -122.48998999999999
         ],
         "marker": {
          "color": "#ab63fa",
          "size": [
           331.55599614560697
          ],
          "sizemode": "area",
          "sizeref": 4.609332394052398
         },
         "mode": "markers",
         "name": "Twin Peaks",
         "showlegend": true,
         "subplot": "mapbox",
         "type": "scattermapbox"
        },
        {
         "hovertemplate": "neighborhood=Union Square District<br>Avg_sale_price_per_sqft=%{marker.size}<br>Lat=%{lat}<br>Lon=%{lon}<extra></extra>",
         "lat": [
          37.76355
         ],
         "legendgroup": "Union Square District",
         "lon": [
          -122.45765
         ],
         "marker": {
          "color": "#FFA15A",
          "size": [
           569.1934475267735
          ],
          "sizemode": "area",
          "sizeref": 4.609332394052398
         },
         "mode": "markers",
         "name": "Union Square District",
         "showlegend": true,
         "subplot": "mapbox",
         "type": "scattermapbox"
        },
        {
         "hovertemplate": "neighborhood=Van Ness/ Civic Center<br>Avg_sale_price_per_sqft=%{marker.size}<br>Lat=%{lat}<br>Lon=%{lon}<extra></extra>",
         "lat": [
          37.73467
         ],
         "legendgroup": "Van Ness/ Civic Center",
         "lon": [
          -122.40106000000002
         ],
         "marker": {
          "color": "#19d3f3",
          "size": [
           108.0129268765048
          ],
          "sizemode": "area",
          "sizeref": 4.609332394052398
         },
         "mode": "markers",
         "name": "Van Ness/ Civic Center",
         "showlegend": true,
         "subplot": "mapbox",
         "type": "scattermapbox"
        },
        {
         "hovertemplate": "neighborhood=West Portal<br>Avg_sale_price_per_sqft=%{marker.size}<br>Lat=%{lat}<br>Lon=%{lon}<extra></extra>",
         "lat": [
          37.73196
         ],
         "legendgroup": "West Portal",
         "lon": [
          -122.38323999999999
         ],
         "marker": {
          "color": "#FF6692",
          "size": [
           392.30076417058257
          ],
          "sizemode": "area",
          "sizeref": 4.609332394052398
         },
         "mode": "markers",
         "name": "West Portal",
         "showlegend": true,
         "subplot": "mapbox",
         "type": "scattermapbox"
        },
        {
         "hovertemplate": "neighborhood=Western Addition<br>Avg_sale_price_per_sqft=%{marker.size}<br>Lat=%{lat}<br>Lon=%{lon}<extra></extra>",
         "lat": [
          37.78553
         ],
         "legendgroup": "Western Addition",
         "lon": [
          -122.456
         ],
         "marker": {
          "color": "#B6E880",
          "size": [
           215.56913431487555
          ],
          "sizemode": "area",
          "sizeref": 4.609332394052398
         },
         "mode": "markers",
         "name": "Western Addition",
         "showlegend": true,
         "subplot": "mapbox",
         "type": "scattermapbox"
        },
        {
         "hovertemplate": "neighborhood=Yerba Buena<br>Avg_sale_price_per_sqft=%{marker.size}<br>Lat=%{lat}<br>Lon=%{lon}<extra></extra>",
         "lat": [
          37.79298
         ],
         "legendgroup": "Yerba Buena",
         "lon": [
          -122.43579
         ],
         "marker": {
          "color": "#FF97FF",
          "size": [
           333.12677384193887
          ],
          "sizemode": "area",
          "sizeref": 4.609332394052398
         },
         "mode": "markers",
         "name": "Yerba Buena",
         "showlegend": true,
         "subplot": "mapbox",
         "type": "scattermapbox"
        },
        {
         "hovertemplate": "neighborhood=Bernal Heights <br>Avg_sale_price_per_sqft=%{marker.size}<br>Lat=%{lat}<br>Lon=%{lon}<extra></extra>",
         "lat": [
          37.79101
         ],
         "legendgroup": "Bernal Heights ",
         "lon": [
          -122.4021
         ],
         "marker": {
          "color": "#FECB52",
          "size": [
           471.9217320911283
          ],
          "sizemode": "area",
          "sizeref": 4.609332394052398
         },
         "mode": "markers",
         "name": "Bernal Heights ",
         "showlegend": true,
         "subplot": "mapbox",
         "type": "scattermapbox"
        },
        {
         "hovertemplate": "neighborhood=Clarendon Heights<br>Avg_sale_price_per_sqft=%{marker.size}<br>Lat=%{lat}<br>Lon=%{lon}<extra></extra>",
         "lat": [
          37.79101
         ],
         "legendgroup": "Clarendon Heights",
         "lon": [
          -122.4021
         ],
         "marker": {
          "color": "#636efa",
          "size": [
           520.7181675305429
          ],
          "sizemode": "area",
          "sizeref": 4.609332394052398
         },
         "mode": "markers",
         "name": "Clarendon Heights",
         "showlegend": true,
         "subplot": "mapbox",
         "type": "scattermapbox"
        },
        {
         "hovertemplate": "neighborhood=Duboce Triangle<br>Avg_sale_price_per_sqft=%{marker.size}<br>Lat=%{lat}<br>Lon=%{lon}<extra></extra>",
         "lat": [
          37.73415
         ],
         "legendgroup": "Duboce Triangle",
         "lon": [
          -122.45700000000001
         ],
         "marker": {
          "color": "#EF553B",
          "size": [
           295.77937822922695
          ],
          "sizemode": "area",
          "sizeref": 4.609332394052398
         },
         "mode": "markers",
         "name": "Duboce Triangle",
         "showlegend": true,
         "subplot": "mapbox",
         "type": "scattermapbox"
        }
       ],
       "layout": {
        "autosize": true,
        "legend": {
         "itemsizing": "constant",
         "title": {
          "text": "neighborhood"
         },
         "tracegroupgap": 0
        },
        "mapbox": {
         "accesstoken": "pk.eyJ1Ijoic3JhdmFuaTYxIiwiYSI6ImNrZjY3OG9mNTAydGEycnQyZDN4NG13ejcifQ.eod_NNbDPqH_1yEenqXjlQ",
         "center": {
          "lat": 37.76019350684932,
          "lon": -122.43912380821916
         },
         "domain": {
          "x": [
           0,
           1
          ],
          "y": [
           0,
           1
          ]
         },
         "zoom": 10
        },
        "margin": {
         "t": 60
        },
        "template": {
         "data": {
          "bar": [
           {
            "error_x": {
             "color": "#2a3f5f"
            },
            "error_y": {
             "color": "#2a3f5f"
            },
            "marker": {
             "line": {
              "color": "#E5ECF6",
              "width": 0.5
             }
            },
            "type": "bar"
           }
          ],
          "barpolar": [
           {
            "marker": {
             "line": {
              "color": "#E5ECF6",
              "width": 0.5
             }
            },
            "type": "barpolar"
           }
          ],
          "carpet": [
           {
            "aaxis": {
             "endlinecolor": "#2a3f5f",
             "gridcolor": "white",
             "linecolor": "white",
             "minorgridcolor": "white",
             "startlinecolor": "#2a3f5f"
            },
            "baxis": {
             "endlinecolor": "#2a3f5f",
             "gridcolor": "white",
             "linecolor": "white",
             "minorgridcolor": "white",
             "startlinecolor": "#2a3f5f"
            },
            "type": "carpet"
           }
          ],
          "choropleth": [
           {
            "colorbar": {
             "outlinewidth": 0,
             "ticks": ""
            },
            "type": "choropleth"
           }
          ],
          "contour": [
           {
            "colorbar": {
             "outlinewidth": 0,
             "ticks": ""
            },
            "colorscale": [
             [
              0,
              "#0d0887"
             ],
             [
              0.1111111111111111,
              "#46039f"
             ],
             [
              0.2222222222222222,
              "#7201a8"
             ],
             [
              0.3333333333333333,
              "#9c179e"
             ],
             [
              0.4444444444444444,
              "#bd3786"
             ],
             [
              0.5555555555555556,
              "#d8576b"
             ],
             [
              0.6666666666666666,
              "#ed7953"
             ],
             [
              0.7777777777777778,
              "#fb9f3a"
             ],
             [
              0.8888888888888888,
              "#fdca26"
             ],
             [
              1,
              "#f0f921"
             ]
            ],
            "type": "contour"
           }
          ],
          "contourcarpet": [
           {
            "colorbar": {
             "outlinewidth": 0,
             "ticks": ""
            },
            "type": "contourcarpet"
           }
          ],
          "heatmap": [
           {
            "colorbar": {
             "outlinewidth": 0,
             "ticks": ""
            },
            "colorscale": [
             [
              0,
              "#0d0887"
             ],
             [
              0.1111111111111111,
              "#46039f"
             ],
             [
              0.2222222222222222,
              "#7201a8"
             ],
             [
              0.3333333333333333,
              "#9c179e"
             ],
             [
              0.4444444444444444,
              "#bd3786"
             ],
             [
              0.5555555555555556,
              "#d8576b"
             ],
             [
              0.6666666666666666,
              "#ed7953"
             ],
             [
              0.7777777777777778,
              "#fb9f3a"
             ],
             [
              0.8888888888888888,
              "#fdca26"
             ],
             [
              1,
              "#f0f921"
             ]
            ],
            "type": "heatmap"
           }
          ],
          "heatmapgl": [
           {
            "colorbar": {
             "outlinewidth": 0,
             "ticks": ""
            },
            "colorscale": [
             [
              0,
              "#0d0887"
             ],
             [
              0.1111111111111111,
              "#46039f"
             ],
             [
              0.2222222222222222,
              "#7201a8"
             ],
             [
              0.3333333333333333,
              "#9c179e"
             ],
             [
              0.4444444444444444,
              "#bd3786"
             ],
             [
              0.5555555555555556,
              "#d8576b"
             ],
             [
              0.6666666666666666,
              "#ed7953"
             ],
             [
              0.7777777777777778,
              "#fb9f3a"
             ],
             [
              0.8888888888888888,
              "#fdca26"
             ],
             [
              1,
              "#f0f921"
             ]
            ],
            "type": "heatmapgl"
           }
          ],
          "histogram": [
           {
            "marker": {
             "colorbar": {
              "outlinewidth": 0,
              "ticks": ""
             }
            },
            "type": "histogram"
           }
          ],
          "histogram2d": [
           {
            "colorbar": {
             "outlinewidth": 0,
             "ticks": ""
            },
            "colorscale": [
             [
              0,
              "#0d0887"
             ],
             [
              0.1111111111111111,
              "#46039f"
             ],
             [
              0.2222222222222222,
              "#7201a8"
             ],
             [
              0.3333333333333333,
              "#9c179e"
             ],
             [
              0.4444444444444444,
              "#bd3786"
             ],
             [
              0.5555555555555556,
              "#d8576b"
             ],
             [
              0.6666666666666666,
              "#ed7953"
             ],
             [
              0.7777777777777778,
              "#fb9f3a"
             ],
             [
              0.8888888888888888,
              "#fdca26"
             ],
             [
              1,
              "#f0f921"
             ]
            ],
            "type": "histogram2d"
           }
          ],
          "histogram2dcontour": [
           {
            "colorbar": {
             "outlinewidth": 0,
             "ticks": ""
            },
            "colorscale": [
             [
              0,
              "#0d0887"
             ],
             [
              0.1111111111111111,
              "#46039f"
             ],
             [
              0.2222222222222222,
              "#7201a8"
             ],
             [
              0.3333333333333333,
              "#9c179e"
             ],
             [
              0.4444444444444444,
              "#bd3786"
             ],
             [
              0.5555555555555556,
              "#d8576b"
             ],
             [
              0.6666666666666666,
              "#ed7953"
             ],
             [
              0.7777777777777778,
              "#fb9f3a"
             ],
             [
              0.8888888888888888,
              "#fdca26"
             ],
             [
              1,
              "#f0f921"
             ]
            ],
            "type": "histogram2dcontour"
           }
          ],
          "mesh3d": [
           {
            "colorbar": {
             "outlinewidth": 0,
             "ticks": ""
            },
            "type": "mesh3d"
           }
          ],
          "parcoords": [
           {
            "line": {
             "colorbar": {
              "outlinewidth": 0,
              "ticks": ""
             }
            },
            "type": "parcoords"
           }
          ],
          "pie": [
           {
            "automargin": true,
            "type": "pie"
           }
          ],
          "scatter": [
           {
            "marker": {
             "colorbar": {
              "outlinewidth": 0,
              "ticks": ""
             }
            },
            "type": "scatter"
           }
          ],
          "scatter3d": [
           {
            "line": {
             "colorbar": {
              "outlinewidth": 0,
              "ticks": ""
             }
            },
            "marker": {
             "colorbar": {
              "outlinewidth": 0,
              "ticks": ""
             }
            },
            "type": "scatter3d"
           }
          ],
          "scattercarpet": [
           {
            "marker": {
             "colorbar": {
              "outlinewidth": 0,
              "ticks": ""
             }
            },
            "type": "scattercarpet"
           }
          ],
          "scattergeo": [
           {
            "marker": {
             "colorbar": {
              "outlinewidth": 0,
              "ticks": ""
             }
            },
            "type": "scattergeo"
           }
          ],
          "scattergl": [
           {
            "marker": {
             "colorbar": {
              "outlinewidth": 0,
              "ticks": ""
             }
            },
            "type": "scattergl"
           }
          ],
          "scattermapbox": [
           {
            "marker": {
             "colorbar": {
              "outlinewidth": 0,
              "ticks": ""
             }
            },
            "type": "scattermapbox"
           }
          ],
          "scatterpolar": [
           {
            "marker": {
             "colorbar": {
              "outlinewidth": 0,
              "ticks": ""
             }
            },
            "type": "scatterpolar"
           }
          ],
          "scatterpolargl": [
           {
            "marker": {
             "colorbar": {
              "outlinewidth": 0,
              "ticks": ""
             }
            },
            "type": "scatterpolargl"
           }
          ],
          "scatterternary": [
           {
            "marker": {
             "colorbar": {
              "outlinewidth": 0,
              "ticks": ""
             }
            },
            "type": "scatterternary"
           }
          ],
          "surface": [
           {
            "colorbar": {
             "outlinewidth": 0,
             "ticks": ""
            },
            "colorscale": [
             [
              0,
              "#0d0887"
             ],
             [
              0.1111111111111111,
              "#46039f"
             ],
             [
              0.2222222222222222,
              "#7201a8"
             ],
             [
              0.3333333333333333,
              "#9c179e"
             ],
             [
              0.4444444444444444,
              "#bd3786"
             ],
             [
              0.5555555555555556,
              "#d8576b"
             ],
             [
              0.6666666666666666,
              "#ed7953"
             ],
             [
              0.7777777777777778,
              "#fb9f3a"
             ],
             [
              0.8888888888888888,
              "#fdca26"
             ],
             [
              1,
              "#f0f921"
             ]
            ],
            "type": "surface"
           }
          ],
          "table": [
           {
            "cells": {
             "fill": {
              "color": "#EBF0F8"
             },
             "line": {
              "color": "white"
             }
            },
            "header": {
             "fill": {
              "color": "#C8D4E3"
             },
             "line": {
              "color": "white"
             }
            },
            "type": "table"
           }
          ]
         },
         "layout": {
          "annotationdefaults": {
           "arrowcolor": "#2a3f5f",
           "arrowhead": 0,
           "arrowwidth": 1
          },
          "coloraxis": {
           "colorbar": {
            "outlinewidth": 0,
            "ticks": ""
           }
          },
          "colorscale": {
           "diverging": [
            [
             0,
             "#8e0152"
            ],
            [
             0.1,
             "#c51b7d"
            ],
            [
             0.2,
             "#de77ae"
            ],
            [
             0.3,
             "#f1b6da"
            ],
            [
             0.4,
             "#fde0ef"
            ],
            [
             0.5,
             "#f7f7f7"
            ],
            [
             0.6,
             "#e6f5d0"
            ],
            [
             0.7,
             "#b8e186"
            ],
            [
             0.8,
             "#7fbc41"
            ],
            [
             0.9,
             "#4d9221"
            ],
            [
             1,
             "#276419"
            ]
           ],
           "sequential": [
            [
             0,
             "#0d0887"
            ],
            [
             0.1111111111111111,
             "#46039f"
            ],
            [
             0.2222222222222222,
             "#7201a8"
            ],
            [
             0.3333333333333333,
             "#9c179e"
            ],
            [
             0.4444444444444444,
             "#bd3786"
            ],
            [
             0.5555555555555556,
             "#d8576b"
            ],
            [
             0.6666666666666666,
             "#ed7953"
            ],
            [
             0.7777777777777778,
             "#fb9f3a"
            ],
            [
             0.8888888888888888,
             "#fdca26"
            ],
            [
             1,
             "#f0f921"
            ]
           ],
           "sequentialminus": [
            [
             0,
             "#0d0887"
            ],
            [
             0.1111111111111111,
             "#46039f"
            ],
            [
             0.2222222222222222,
             "#7201a8"
            ],
            [
             0.3333333333333333,
             "#9c179e"
            ],
            [
             0.4444444444444444,
             "#bd3786"
            ],
            [
             0.5555555555555556,
             "#d8576b"
            ],
            [
             0.6666666666666666,
             "#ed7953"
            ],
            [
             0.7777777777777778,
             "#fb9f3a"
            ],
            [
             0.8888888888888888,
             "#fdca26"
            ],
            [
             1,
             "#f0f921"
            ]
           ]
          },
          "colorway": [
           "#636efa",
           "#EF553B",
           "#00cc96",
           "#ab63fa",
           "#FFA15A",
           "#19d3f3",
           "#FF6692",
           "#B6E880",
           "#FF97FF",
           "#FECB52"
          ],
          "font": {
           "color": "#2a3f5f"
          },
          "geo": {
           "bgcolor": "white",
           "lakecolor": "white",
           "landcolor": "#E5ECF6",
           "showlakes": true,
           "showland": true,
           "subunitcolor": "white"
          },
          "hoverlabel": {
           "align": "left"
          },
          "hovermode": "closest",
          "mapbox": {
           "style": "light"
          },
          "paper_bgcolor": "white",
          "plot_bgcolor": "#E5ECF6",
          "polar": {
           "angularaxis": {
            "gridcolor": "white",
            "linecolor": "white",
            "ticks": ""
           },
           "bgcolor": "#E5ECF6",
           "radialaxis": {
            "gridcolor": "white",
            "linecolor": "white",
            "ticks": ""
           }
          },
          "scene": {
           "xaxis": {
            "backgroundcolor": "#E5ECF6",
            "gridcolor": "white",
            "gridwidth": 2,
            "linecolor": "white",
            "showbackground": true,
            "ticks": "",
            "zerolinecolor": "white"
           },
           "yaxis": {
            "backgroundcolor": "#E5ECF6",
            "gridcolor": "white",
            "gridwidth": 2,
            "linecolor": "white",
            "showbackground": true,
            "ticks": "",
            "zerolinecolor": "white"
           },
           "zaxis": {
            "backgroundcolor": "#E5ECF6",
            "gridcolor": "white",
            "gridwidth": 2,
            "linecolor": "white",
            "showbackground": true,
            "ticks": "",
            "zerolinecolor": "white"
           }
          },
          "shapedefaults": {
           "line": {
            "color": "#2a3f5f"
           }
          },
          "ternary": {
           "aaxis": {
            "gridcolor": "white",
            "linecolor": "white",
            "ticks": ""
           },
           "baxis": {
            "gridcolor": "white",
            "linecolor": "white",
            "ticks": ""
           },
           "bgcolor": "#E5ECF6",
           "caxis": {
            "gridcolor": "white",
            "linecolor": "white",
            "ticks": ""
           }
          },
          "title": {
           "x": 0.05
          },
          "xaxis": {
           "automargin": true,
           "gridcolor": "white",
           "linecolor": "white",
           "ticks": "",
           "title": {
            "standoff": 15
           },
           "zerolinecolor": "white",
           "zerolinewidth": 2
          },
          "yaxis": {
           "automargin": true,
           "gridcolor": "white",
           "linecolor": "white",
           "ticks": "",
           "title": {
            "standoff": 15
           },
           "zerolinecolor": "white",
           "zerolinewidth": 2
          }
         }
        }
       }
      },
      "image/png": "[encoded data removed]",
      "text/html": [
       "<div>                            <div id=\"9936cf65-1542-4841-9360-032f98cd241e\" class=\"plotly-graph-div\" style=\"height:525px; width:100%;\"></div>            <script type=\"text/javascript\">                require([\"plotly\"], function(Plotly) {                    window.PLOTLYENV=window.PLOTLYENV || {};                                    if (document.getElementById(\"9936cf65-1542-4841-9360-032f98cd241e\")) {                    Plotly.newPlot(                        \"9936cf65-1542-4841-9360-032f98cd241e\",                        [{\"hovertemplate\": \"neighborhood=Alamo Square<br>Avg_sale_price_per_sqft=%{marker.size}<br>Lat=%{lat}<br>Lon=%{lon}<extra></extra>\", \"lat\": [37.791012, 37.73467], \"legendgroup\": \"Alamo Square\", \"lon\": [-122.4021, -122.40106000000002], \"marker\": {\"color\": \"#636efa\", \"size\": [291.18294547229095, 272.5273101795261], \"sizemode\": \"area\", \"sizeref\": 4.609332394052398}, \"mode\": \"markers\", \"name\": \"Alamo Square\", \"showlegend\": true, \"subplot\": \"mapbox\", \"type\": \"scattermapbox\"}, {\"hovertemplate\": \"neighborhood=Anza Vista<br>Avg_sale_price_per_sqft=%{marker.size}<br>Lat=%{lat}<br>Lon=%{lon}<extra></extra>\", \"lat\": [37.779598], \"legendgroup\": \"Anza Vista\", \"lon\": [-122.443451], \"marker\": {\"color\": \"#EF553B\", \"size\": [267.9325826799483], \"sizemode\": \"area\", \"sizeref\": 4.609332394052398}, \"mode\": \"markers\", \"name\": \"Anza Vista\", \"showlegend\": true, \"subplot\": \"mapbox\", \"type\": \"scattermapbox\"}, {\"hovertemplate\": \"neighborhood=Bayview<br>Avg_sale_price_per_sqft=%{marker.size}<br>Lat=%{lat}<br>Lon=%{lon}<extra></extra>\", \"lat\": [37.73467, 37.783229999999996], \"legendgroup\": \"Bayview\", \"lon\": [-122.40106000000002, -122.40065], \"marker\": {\"color\": \"#00cc96\", \"size\": [170.09866536400102, 172.54056243085552], \"sizemode\": \"area\", \"sizeref\": 4.609332394052398}, \"mode\": \"markers\", \"name\": \"Bayview\", \"showlegend\": true, \"subplot\": \"mapbox\", \"type\": \"scattermapbox\"}, {\"hovertemplate\": \"neighborhood=Buena Vista Park<br>Avg_sale_price_per_sqft=%{marker.size}<br>Lat=%{lat}<br>Lon=%{lon}<extra></extra>\", \"lat\": [37.72874, 37.73415], \"legendgroup\": \"Buena Vista Park\", \"lon\": [-122.41098000000001, -122.45700000000001], \"marker\": {\"color\": \"#ab63fa\", \"size\": [347.3949194037114, 171.7723466866044], \"sizemode\": \"area\", \"sizeref\": 4.609332394052398}, \"mode\": \"markers\", \"name\": \"Buena Vista Park\", \"showlegend\": true, \"subplot\": \"mapbox\", \"type\": \"scattermapbox\"}, {\"hovertemplate\": \"neighborhood=Central Richmond<br>Avg_sale_price_per_sqft=%{marker.size}<br>Lat=%{lat}<br>Lon=%{lon}<extra></extra>\", \"lat\": [37.728629999999995, 37.80055], \"legendgroup\": \"Central Richmond\", \"lon\": [-122.44305, -122.40433], \"marker\": {\"color\": \"#FFA15A\", \"size\": [319.0276225530687, 261.6638003416518], \"sizemode\": \"area\", \"sizeref\": 4.609332394052398}, \"mode\": \"markers\", \"name\": \"Central Richmond\", \"showlegend\": true, \"subplot\": \"mapbox\", \"type\": \"scattermapbox\"}, {\"hovertemplate\": \"neighborhood=Central Sunset<br>Avg_sale_price_per_sqft=%{marker.size}<br>Lat=%{lat}<br>Lon=%{lon}<extra></extra>\", \"lat\": [37.768159999999995, 37.753311], \"legendgroup\": \"Central Sunset\", \"lon\": [-122.43933, -122.447029], \"marker\": {\"color\": \"#19d3f3\", \"size\": [418.1724927089675, 391.42644972996203], \"sizemode\": \"area\", \"sizeref\": 4.609332394052398}, \"mode\": \"markers\", \"name\": \"Central Sunset\", \"showlegend\": true, \"subplot\": \"mapbox\", \"type\": \"scattermapbox\"}, {\"hovertemplate\": \"neighborhood=Corona Heights<br>Avg_sale_price_per_sqft=%{marker.size}<br>Lat=%{lat}<br>Lon=%{lon}<extra></extra>\", \"lat\": [37.77789, 37.779509999999995], \"legendgroup\": \"Corona Heights\", \"lon\": [-122.44516999999999, -122.42022], \"marker\": {\"color\": \"#FF6692\", \"size\": [369.35933800413665, 222.567848047696], \"sizemode\": \"area\", \"sizeref\": 4.609332394052398}, \"mode\": \"markers\", \"name\": \"Corona Heights\", \"showlegend\": true, \"subplot\": \"mapbox\", \"type\": \"scattermapbox\"}, {\"hovertemplate\": \"neighborhood=Cow Hollow<br>Avg_sale_price_per_sqft=%{marker.size}<br>Lat=%{lat}<br>Lon=%{lon}<extra></extra>\", \"lat\": [37.74961, 37.72874], \"legendgroup\": \"Cow Hollow\", \"lon\": [-122.48998999999999, -122.41098000000001], \"marker\": {\"color\": \"#B6E880\", \"size\": [569.3799679261333, 390.5956530284181], \"sizemode\": \"area\", \"sizeref\": 4.609332394052398}, \"mode\": \"markers\", \"name\": \"Cow Hollow\", \"showlegend\": true, \"subplot\": \"mapbox\", \"type\": \"scattermapbox\"}, {\"hovertemplate\": \"neighborhood=Croker Amazon<br>Avg_sale_price_per_sqft=%{marker.size}<br>Lat=%{lat}<br>Lon=%{lon}<extra></extra>\", \"lat\": [37.75331, 37.74026], \"legendgroup\": \"Croker Amazon\", \"lon\": [-122.44703, -122.46388], \"marker\": {\"color\": \"#FF97FF\", \"size\": [165.6457300650791, 145.85338027594094], \"sizemode\": \"area\", \"sizeref\": 4.609332394052398}, \"mode\": \"markers\", \"name\": \"Croker Amazon\", \"showlegend\": true, \"subplot\": \"mapbox\", \"type\": \"scattermapbox\"}, {\"hovertemplate\": \"neighborhood=Diamond Heights<br>Avg_sale_price_per_sqft=%{marker.size}<br>Lat=%{lat}<br>Lon=%{lon}<extra></extra>\", \"lat\": [37.78553, 37.79298], \"legendgroup\": \"Diamond Heights\", \"lon\": [-122.456, -122.43579], \"marker\": {\"color\": \"#FECB52\", \"size\": [456.9308221979013, 382.3522610640586], \"sizemode\": \"area\", \"sizeref\": 4.609332394052398}, \"mode\": \"markers\", \"name\": \"Diamond Heights\", \"showlegend\": true, \"subplot\": \"mapbox\", \"type\": \"scattermapbox\"}, {\"hovertemplate\": \"neighborhood=Downtown <br>Avg_sale_price_per_sqft=%{marker.size}<br>Lat=%{lat}<br>Lon=%{lon}<extra></extra>\", \"lat\": [37.79298, 37.7347], \"legendgroup\": \"Downtown \", \"lon\": [-122.43579, -122.456854], \"marker\": {\"color\": \"#636efa\", \"size\": [241.80455206485138, 234.28162351035442], \"sizemode\": \"area\", \"sizeref\": 4.609332394052398}, \"mode\": \"markers\", \"name\": \"Downtown \", \"showlegend\": true, \"subplot\": \"mapbox\", \"type\": \"scattermapbox\"}, {\"hovertemplate\": \"neighborhood=Eureka Valley/Dolores Heights<br>Avg_sale_price_per_sqft=%{marker.size}<br>Lat=%{lat}<br>Lon=%{lon}<extra></extra>\", \"lat\": [37.7228, 37.79298], \"legendgroup\": \"Eureka Valley/Dolores Heights\", \"lon\": [-122.43869, -122.39636000000002], \"marker\": {\"color\": \"#EF553B\", \"size\": [403.1183126490986, 413.16280403427527], \"sizemode\": \"area\", \"sizeref\": 4.609332394052398}, \"mode\": \"markers\", \"name\": \"Eureka Valley/Dolores Heights\", \"showlegend\": true, \"subplot\": \"mapbox\", \"type\": \"scattermapbox\"}, {\"hovertemplate\": \"neighborhood=Excelsior<br>Avg_sale_price_per_sqft=%{marker.size}<br>Lat=%{lat}<br>Lon=%{lon}<extra></extra>\", \"lat\": [37.728629999999995], \"legendgroup\": \"Excelsior\", \"lon\": [-122.44305], \"marker\": {\"color\": \"#00cc96\", \"size\": [364.92833570851764], \"sizemode\": \"area\", \"sizeref\": 4.609332394052398}, \"mode\": \"markers\", \"name\": \"Excelsior\", \"showlegend\": true, \"subplot\": \"mapbox\", \"type\": \"scattermapbox\"}, {\"hovertemplate\": \"neighborhood=Financial District North<br>Avg_sale_price_per_sqft=%{marker.size}<br>Lat=%{lat}<br>Lon=%{lon}<extra></extra>\", \"lat\": [37.79101], \"legendgroup\": \"Financial District North\", \"lon\": [-122.4021], \"marker\": {\"color\": \"#ab63fa\", \"size\": [401.7499665916537], \"sizemode\": \"area\", \"sizeref\": 4.609332394052398}, \"mode\": \"markers\", \"name\": \"Financial District North\", \"showlegend\": true, \"subplot\": \"mapbox\", \"type\": \"scattermapbox\"}, {\"hovertemplate\": \"neighborhood=Financial District South<br>Avg_sale_price_per_sqft=%{marker.size}<br>Lat=%{lat}<br>Lon=%{lon}<extra></extra>\", \"lat\": [37.76964], \"legendgroup\": \"Financial District South\", \"lon\": [-122.42611000000001], \"marker\": {\"color\": \"#FFA15A\", \"size\": [162.82121004772353], \"sizemode\": \"area\", \"sizeref\": 4.609332394052398}, \"mode\": \"markers\", \"name\": \"Financial District South\", \"showlegend\": true, \"subplot\": \"mapbox\", \"type\": \"scattermapbox\"}, {\"hovertemplate\": \"neighborhood=Forest Knolls<br>Avg_sale_price_per_sqft=%{marker.size}<br>Lat=%{lat}<br>Lon=%{lon}<extra></extra>\", \"lat\": [37.75554], \"legendgroup\": \"Forest Knolls\", \"lon\": [-122.43778999999999], \"marker\": {\"color\": \"#19d3f3\", \"size\": [209.0493266346945], \"sizemode\": \"area\", \"sizeref\": 4.609332394052398}, \"mode\": \"markers\", \"name\": \"Forest Knolls\", \"showlegend\": true, \"subplot\": \"mapbox\", \"type\": \"scattermapbox\"}, {\"hovertemplate\": \"neighborhood=Glen Park<br>Avg_sale_price_per_sqft=%{marker.size}<br>Lat=%{lat}<br>Lon=%{lon}<extra></extra>\", \"lat\": [37.72874], \"legendgroup\": \"Glen Park\", \"lon\": [-122.41098000000001], \"marker\": {\"color\": \"#FF6692\", \"size\": [715.5864380979738], \"sizemode\": \"area\", \"sizeref\": 4.609332394052398}, \"mode\": \"markers\", \"name\": \"Glen Park\", \"showlegend\": true, \"subplot\": \"mapbox\", \"type\": \"scattermapbox\"}, {\"hovertemplate\": \"neighborhood=Golden Gate Heights<br>Avg_sale_price_per_sqft=%{marker.size}<br>Lat=%{lat}<br>Lon=%{lon}<extra></extra>\", \"lat\": [37.79101], \"legendgroup\": \"Golden Gate Heights\", \"lon\": [-122.4021], \"marker\": {\"color\": \"#B6E880\", \"size\": [551.8011188234774], \"sizemode\": \"area\", \"sizeref\": 4.609332394052398}, \"mode\": \"markers\", \"name\": \"Golden Gate Heights\", \"showlegend\": true, \"subplot\": \"mapbox\", \"type\": \"scattermapbox\"}, {\"hovertemplate\": \"neighborhood=Haight Ashbury<br>Avg_sale_price_per_sqft=%{marker.size}<br>Lat=%{lat}<br>Lon=%{lon}<extra></extra>\", \"lat\": [37.79101], \"legendgroup\": \"Haight Ashbury\", \"lon\": [-122.4021], \"marker\": {\"color\": \"#FF97FF\", \"size\": [254.47377914469143], \"sizemode\": \"area\", \"sizeref\": 4.609332394052398}, \"mode\": \"markers\", \"name\": \"Haight Ashbury\", \"showlegend\": true, \"subplot\": \"mapbox\", \"type\": \"scattermapbox\"}, {\"hovertemplate\": \"neighborhood=Hayes Valley<br>Avg_sale_price_per_sqft=%{marker.size}<br>Lat=%{lat}<br>Lon=%{lon}<extra></extra>\", \"lat\": [37.757059999999996], \"legendgroup\": \"Hayes Valley\", \"lon\": [-122.45508999999998], \"marker\": {\"color\": \"#FECB52\", \"size\": [272.28497956385485], \"sizemode\": \"area\", \"sizeref\": 4.609332394052398}, \"mode\": \"markers\", \"name\": \"Hayes Valley\", \"showlegend\": true, \"subplot\": \"mapbox\", \"type\": \"scattermapbox\"}, {\"hovertemplate\": \"neighborhood=Hunters Point<br>Avg_sale_price_per_sqft=%{marker.size}<br>Lat=%{lat}<br>Lon=%{lon}<extra></extra>\", \"lat\": [37.728629999999995], \"legendgroup\": \"Hunters Point\", \"lon\": [-122.44305], \"marker\": {\"color\": \"#636efa\", \"size\": [170.62491987132685], \"sizemode\": \"area\", \"sizeref\": 4.609332394052398}, \"mode\": \"markers\", \"name\": \"Hunters Point\", \"showlegend\": true, \"subplot\": \"mapbox\", \"type\": \"scattermapbox\"}, {\"hovertemplate\": \"neighborhood=Ingleside <br>Avg_sale_price_per_sqft=%{marker.size}<br>Lat=%{lat}<br>Lon=%{lon}<extra></extra>\", \"lat\": [37.757912], \"legendgroup\": \"Ingleside \", \"lon\": [-122.46401999999999], \"marker\": {\"color\": \"#EF553B\", \"size\": [275.05668560990915], \"sizemode\": \"area\", \"sizeref\": 4.609332394052398}, \"mode\": \"markers\", \"name\": \"Ingleside \", \"showlegend\": true, \"subplot\": \"mapbox\", \"type\": \"scattermapbox\"}, {\"hovertemplate\": \"neighborhood=Inner Mission<br>Avg_sale_price_per_sqft=%{marker.size}<br>Lat=%{lat}<br>Lon=%{lon}<extra></extra>\", \"lat\": [37.76525], \"legendgroup\": \"Inner Mission\", \"lon\": [-122.43596000000001], \"marker\": {\"color\": \"#00cc96\", \"size\": [238.35002040677708], \"sizemode\": \"area\", \"sizeref\": 4.609332394052398}, \"mode\": \"markers\", \"name\": \"Inner Mission\", \"showlegend\": true, \"subplot\": \"mapbox\", \"type\": \"scattermapbox\"}, {\"hovertemplate\": \"neighborhood=Inner Parkside<br>Avg_sale_price_per_sqft=%{marker.size}<br>Lat=%{lat}<br>Lon=%{lon}<extra></extra>\", \"lat\": [37.76525], \"legendgroup\": \"Inner Parkside\", \"lon\": [-122.43596000000001], \"marker\": {\"color\": \"#ab63fa\", \"size\": [199.70200378219917], \"sizemode\": \"area\", \"sizeref\": 4.609332394052398}, \"mode\": \"markers\", \"name\": \"Inner Parkside\", \"showlegend\": true, \"subplot\": \"mapbox\", \"type\": \"scattermapbox\"}, {\"hovertemplate\": \"neighborhood=Inner Richmond<br>Avg_sale_price_per_sqft=%{marker.size}<br>Lat=%{lat}<br>Lon=%{lon}<extra></extra>\", \"lat\": [37.72551], \"legendgroup\": \"Inner Richmond\", \"lon\": [-122.37178], \"marker\": {\"color\": \"#FFA15A\", \"size\": [285.82235848868265], \"sizemode\": \"area\", \"sizeref\": 4.609332394052398}, \"mode\": \"markers\", \"name\": \"Inner Richmond\", \"showlegend\": true, \"subplot\": \"mapbox\", \"type\": \"scattermapbox\"}, {\"hovertemplate\": \"neighborhood=Inner Sunset<br>Avg_sale_price_per_sqft=%{marker.size}<br>Lat=%{lat}<br>Lon=%{lon}<extra></extra>\", \"lat\": [37.721160999999995], \"legendgroup\": \"Inner Sunset\", \"lon\": [-122.487068], \"marker\": {\"color\": \"#19d3f3\", \"size\": [275.76972957461044], \"sizemode\": \"area\", \"sizeref\": 4.609332394052398}, \"mode\": \"markers\", \"name\": \"Inner Sunset\", \"showlegend\": true, \"subplot\": \"mapbox\", \"type\": \"scattermapbox\"}, {\"hovertemplate\": \"neighborhood=Jordan Park/Laurel Heights<br>Avg_sale_price_per_sqft=%{marker.size}<br>Lat=%{lat}<br>Lon=%{lon}<extra></extra>\", \"lat\": [37.72116], \"legendgroup\": \"Jordan Park/Laurel Heights\", \"lon\": [-122.48706999999999], \"marker\": {\"color\": \"#FF6692\", \"size\": [419.88781187646566], \"sizemode\": \"area\", \"sizeref\": 4.609332394052398}, \"mode\": \"markers\", \"name\": \"Jordan Park/Laurel Heights\", \"showlegend\": true, \"subplot\": \"mapbox\", \"type\": \"scattermapbox\"}, {\"hovertemplate\": \"neighborhood=Lake --The Presidio<br>Avg_sale_price_per_sqft=%{marker.size}<br>Lat=%{lat}<br>Lon=%{lon}<extra></extra>\", \"lat\": [37.75416], \"legendgroup\": \"Lake --The Presidio\", \"lon\": [-122.41946999999999], \"marker\": {\"color\": \"#B6E880\", \"size\": [320.79691049204627], \"sizemode\": \"area\", \"sizeref\": 4.609332394052398}, \"mode\": \"markers\", \"name\": \"Lake --The Presidio\", \"showlegend\": true, \"subplot\": \"mapbox\", \"type\": \"scattermapbox\"}, {\"hovertemplate\": \"neighborhood=Lone Mountain<br>Avg_sale_price_per_sqft=%{marker.size}<br>Lat=%{lat}<br>Lon=%{lon}<extra></extra>\", \"lat\": [37.74961], \"legendgroup\": \"Lone Mountain\", \"lon\": [-122.48998999999999], \"marker\": {\"color\": \"#FF97FF\", \"size\": [398.4588759923028], \"sizemode\": \"area\", \"sizeref\": 4.609332394052398}, \"mode\": \"markers\", \"name\": \"Lone Mountain\", \"showlegend\": true, \"subplot\": \"mapbox\", \"type\": \"scattermapbox\"}, {\"hovertemplate\": \"neighborhood=Lower Pacific Heights<br>Avg_sale_price_per_sqft=%{marker.size}<br>Lat=%{lat}<br>Lon=%{lon}<extra></extra>\", \"lat\": [37.769112], \"legendgroup\": \"Lower Pacific Heights\", \"lon\": [-122.483566], \"marker\": {\"color\": \"#FECB52\", \"size\": [374.05763601016855], \"sizemode\": \"area\", \"sizeref\": 4.609332394052398}, \"mode\": \"markers\", \"name\": \"Lower Pacific Heights\", \"showlegend\": true, \"subplot\": \"mapbox\", \"type\": \"scattermapbox\"}, {\"hovertemplate\": \"neighborhood=Marina<br>Avg_sale_price_per_sqft=%{marker.size}<br>Lat=%{lat}<br>Lon=%{lon}<extra></extra>\", \"lat\": [37.74961], \"legendgroup\": \"Marina\", \"lon\": [-122.48997], \"marker\": {\"color\": \"#636efa\", \"size\": [387.392839476922], \"sizemode\": \"area\", \"sizeref\": 4.609332394052398}, \"mode\": \"markers\", \"name\": \"Marina\", \"showlegend\": true, \"subplot\": \"mapbox\", \"type\": \"scattermapbox\"}, {\"hovertemplate\": \"neighborhood=Miraloma Park<br>Avg_sale_price_per_sqft=%{marker.size}<br>Lat=%{lat}<br>Lon=%{lon}<extra></extra>\", \"lat\": [37.78553], \"legendgroup\": \"Miraloma Park\", \"lon\": [-122.456], \"marker\": {\"color\": \"#EF553B\", \"size\": [680.6087291389301], \"sizemode\": \"area\", \"sizeref\": 4.609332394052398}, \"mode\": \"markers\", \"name\": \"Miraloma Park\", \"showlegend\": true, \"subplot\": \"mapbox\", \"type\": \"scattermapbox\"}, {\"hovertemplate\": \"neighborhood=Mission Bay<br>Avg_sale_price_per_sqft=%{marker.size}<br>Lat=%{lat}<br>Lon=%{lon}<extra></extra>\", \"lat\": [37.801520000000004], \"legendgroup\": \"Mission Bay\", \"lon\": [-122.45456999999999], \"marker\": {\"color\": \"#00cc96\", \"size\": [489.80537777998506], \"sizemode\": \"area\", \"sizeref\": 4.609332394052398}, \"mode\": \"markers\", \"name\": \"Mission Bay\", \"showlegend\": true, \"subplot\": \"mapbox\", \"type\": \"scattermapbox\"}, {\"hovertemplate\": \"neighborhood=Mission Dolores<br>Avg_sale_price_per_sqft=%{marker.size}<br>Lat=%{lat}<br>Lon=%{lon}<extra></extra>\", \"lat\": [37.7789], \"legendgroup\": \"Mission Dolores\", \"lon\": [-122.45496000000001], \"marker\": {\"color\": \"#ab63fa\", \"size\": [257.98799863500693], \"sizemode\": \"area\", \"sizeref\": 4.609332394052398}, \"mode\": \"markers\", \"name\": \"Mission Dolores\", \"showlegend\": true, \"subplot\": \"mapbox\", \"type\": \"scattermapbox\"}, {\"hovertemplate\": \"neighborhood=Mission Terrace<br>Avg_sale_price_per_sqft=%{marker.size}<br>Lat=%{lat}<br>Lon=%{lon}<extra></extra>\", \"lat\": [37.79298], \"legendgroup\": \"Mission Terrace\", \"lon\": [-122.43579], \"marker\": {\"color\": \"#FFA15A\", \"size\": [262.87602564056425], \"sizemode\": \"area\", \"sizeref\": 4.609332394052398}, \"mode\": \"markers\", \"name\": \"Mission Terrace\", \"showlegend\": true, \"subplot\": \"mapbox\", \"type\": \"scattermapbox\"}, {\"hovertemplate\": \"neighborhood=Nob Hill<br>Avg_sale_price_per_sqft=%{marker.size}<br>Lat=%{lat}<br>Lon=%{lon}<extra></extra>\", \"lat\": [37.79972], \"legendgroup\": \"Nob Hill\", \"lon\": [-122.46688999999999], \"marker\": {\"color\": \"#19d3f3\", \"size\": [307.67747674427835], \"sizemode\": \"area\", \"sizeref\": 4.609332394052398}, \"mode\": \"markers\", \"name\": \"Nob Hill\", \"showlegend\": true, \"subplot\": \"mapbox\", \"type\": \"scattermapbox\"}, {\"hovertemplate\": \"neighborhood=Noe Valley<br>Avg_sale_price_per_sqft=%{marker.size}<br>Lat=%{lat}<br>Lon=%{lon}<extra></extra>\", \"lat\": [37.71993], \"legendgroup\": \"Noe Valley\", \"lon\": [-122.46595], \"marker\": {\"color\": \"#FF6692\", \"size\": [381.13844514705266], \"sizemode\": \"area\", \"sizeref\": 4.609332394052398}, \"mode\": \"markers\", \"name\": \"Noe Valley\", \"showlegend\": true, \"subplot\": \"mapbox\", \"type\": \"scattermapbox\"}, {\"hovertemplate\": \"neighborhood=Oceanview<br>Avg_sale_price_per_sqft=%{marker.size}<br>Lat=%{lat}<br>Lon=%{lon}<extra></extra>\", \"lat\": [37.75331], \"legendgroup\": \"Oceanview\", \"lon\": [-122.44703], \"marker\": {\"color\": \"#B6E880\", \"size\": [282.11967050133603], \"sizemode\": \"area\", \"sizeref\": 4.609332394052398}, \"mode\": \"markers\", \"name\": \"Oceanview\", \"showlegend\": true, \"subplot\": \"mapbox\", \"type\": \"scattermapbox\"}, {\"hovertemplate\": \"neighborhood=Outer Parkside<br>Avg_sale_price_per_sqft=%{marker.size}<br>Lat=%{lat}<br>Lon=%{lon}<extra></extra>\", \"lat\": [37.73415], \"legendgroup\": \"Outer Parkside\", \"lon\": [-122.45700000000001], \"marker\": {\"color\": \"#FF97FF\", \"size\": [432.19529211245555], \"sizemode\": \"area\", \"sizeref\": 4.609332394052398}, \"mode\": \"markers\", \"name\": \"Outer Parkside\", \"showlegend\": true, \"subplot\": \"mapbox\", \"type\": \"scattermapbox\"}, {\"hovertemplate\": \"neighborhood=Outer Richmond <br>Avg_sale_price_per_sqft=%{marker.size}<br>Lat=%{lat}<br>Lon=%{lon}<extra></extra>\", \"lat\": [37.783229999999996], \"legendgroup\": \"Outer Richmond \", \"lon\": [-122.40065], \"marker\": {\"color\": \"#FECB52\", \"size\": [338.12619999607017], \"sizemode\": \"area\", \"sizeref\": 4.609332394052398}, \"mode\": \"markers\", \"name\": \"Outer Richmond \", \"showlegend\": true, \"subplot\": \"mapbox\", \"type\": \"scattermapbox\"}, {\"hovertemplate\": \"neighborhood=Outer Sunset<br>Avg_sale_price_per_sqft=%{marker.size}<br>Lat=%{lat}<br>Lon=%{lon}<extra></extra>\", \"lat\": [37.75184], \"legendgroup\": \"Outer Sunset\", \"lon\": [-122.42522], \"marker\": {\"color\": \"#636efa\", \"size\": [368.31155203937294], \"sizemode\": \"area\", \"sizeref\": 4.609332394052398}, \"mode\": \"markers\", \"name\": \"Outer Sunset\", \"showlegend\": true, \"subplot\": \"mapbox\", \"type\": \"scattermapbox\"}, {\"hovertemplate\": \"neighborhood=Pacific Heights<br>Avg_sale_price_per_sqft=%{marker.size}<br>Lat=%{lat}<br>Lon=%{lon}<extra></extra>\", \"lat\": [37.728629999999995], \"legendgroup\": \"Pacific Heights\", \"lon\": [-122.44305], \"marker\": {\"color\": \"#EF553B\", \"size\": [496.51601414694983], \"sizemode\": \"area\", \"sizeref\": 4.609332394052398}, \"mode\": \"markers\", \"name\": \"Pacific Heights\", \"showlegend\": true, \"subplot\": \"mapbox\", \"type\": \"scattermapbox\"}, {\"hovertemplate\": \"neighborhood=Park North<br>Avg_sale_price_per_sqft=%{marker.size}<br>Lat=%{lat}<br>Lon=%{lon}<extra></extra>\", \"lat\": [37.79298], \"legendgroup\": \"Park North\", \"lon\": [-122.43579], \"marker\": {\"color\": \"#00cc96\", \"size\": [326.01715041025074], \"sizemode\": \"area\", \"sizeref\": 4.609332394052398}, \"mode\": \"markers\", \"name\": \"Park North\", \"showlegend\": true, \"subplot\": \"mapbox\", \"type\": \"scattermapbox\"}, {\"hovertemplate\": \"neighborhood=Parkside<br>Avg_sale_price_per_sqft=%{marker.size}<br>Lat=%{lat}<br>Lon=%{lon}<extra></extra>\", \"lat\": [37.75331], \"legendgroup\": \"Parkside\", \"lon\": [-122.44703], \"marker\": {\"color\": \"#ab63fa\", \"size\": [274.16674158669116], \"sizemode\": \"area\", \"sizeref\": 4.609332394052398}, \"mode\": \"markers\", \"name\": \"Parkside\", \"showlegend\": true, \"subplot\": \"mapbox\", \"type\": \"scattermapbox\"}, {\"hovertemplate\": \"neighborhood=Parnassus/Ashbury Heights<br>Avg_sale_price_per_sqft=%{marker.size}<br>Lat=%{lat}<br>Lon=%{lon}<extra></extra>\", \"lat\": [37.80055], \"legendgroup\": \"Parnassus/Ashbury Heights\", \"lon\": [-122.40433], \"marker\": {\"color\": \"#FFA15A\", \"size\": [434.25500394602585], \"sizemode\": \"area\", \"sizeref\": 4.609332394052398}, \"mode\": \"markers\", \"name\": \"Parnassus/Ashbury Heights\", \"showlegend\": true, \"subplot\": \"mapbox\", \"type\": \"scattermapbox\"}, {\"hovertemplate\": \"neighborhood=Portola<br>Avg_sale_price_per_sqft=%{marker.size}<br>Lat=%{lat}<br>Lon=%{lon}<extra></extra>\", \"lat\": [37.80055], \"legendgroup\": \"Portola\", \"lon\": [-122.40433], \"marker\": {\"color\": \"#19d3f3\", \"size\": [302.15611319728896], \"sizemode\": \"area\", \"sizeref\": 4.609332394052398}, \"mode\": \"markers\", \"name\": \"Portola\", \"showlegend\": true, \"subplot\": \"mapbox\", \"type\": \"scattermapbox\"}, {\"hovertemplate\": \"neighborhood=Potrero Hill<br>Avg_sale_price_per_sqft=%{marker.size}<br>Lat=%{lat}<br>Lon=%{lon}<extra></extra>\", \"lat\": [37.71993], \"legendgroup\": \"Potrero Hill\", \"lon\": [-122.46595], \"marker\": {\"color\": \"#FF6692\", \"size\": [491.45000385678617], \"sizemode\": \"area\", \"sizeref\": 4.609332394052398}, \"mode\": \"markers\", \"name\": \"Potrero Hill\", \"showlegend\": true, \"subplot\": \"mapbox\", \"type\": \"scattermapbox\"}, {\"hovertemplate\": \"neighborhood=Presidio Heights<br>Avg_sale_price_per_sqft=%{marker.size}<br>Lat=%{lat}<br>Lon=%{lon}<extra></extra>\", \"lat\": [37.7228], \"legendgroup\": \"Presidio Heights\", \"lon\": [-122.43869], \"marker\": {\"color\": \"#B6E880\", \"size\": [549.4179312485746], \"sizemode\": \"area\", \"sizeref\": 4.609332394052398}, \"mode\": \"markers\", \"name\": \"Presidio Heights\", \"showlegend\": true, \"subplot\": \"mapbox\", \"type\": \"scattermapbox\"}, {\"hovertemplate\": \"neighborhood=Russian Hill<br>Avg_sale_price_per_sqft=%{marker.size}<br>Lat=%{lat}<br>Lon=%{lon}<extra></extra>\", \"lat\": [37.7517], \"legendgroup\": \"Russian Hill\", \"lon\": [-122.446], \"marker\": {\"color\": \"#FF97FF\", \"size\": [362.34822391312133], \"sizemode\": \"area\", \"sizeref\": 4.609332394052398}, \"mode\": \"markers\", \"name\": \"Russian Hill\", \"showlegend\": true, \"subplot\": \"mapbox\", \"type\": \"scattermapbox\"}, {\"hovertemplate\": \"neighborhood=South Beach<br>Avg_sale_price_per_sqft=%{marker.size}<br>Lat=%{lat}<br>Lon=%{lon}<extra></extra>\", \"lat\": [37.76911], \"legendgroup\": \"South Beach\", \"lon\": [-122.48357], \"marker\": {\"color\": \"#FECB52\", \"size\": [1037.0997886617895], \"sizemode\": \"area\", \"sizeref\": 4.609332394052398}, \"mode\": \"markers\", \"name\": \"South Beach\", \"showlegend\": true, \"subplot\": \"mapbox\", \"type\": \"scattermapbox\"}, {\"hovertemplate\": \"neighborhood=South of Market<br>Avg_sale_price_per_sqft=%{marker.size}<br>Lat=%{lat}<br>Lon=%{lon}<extra></extra>\", \"lat\": [37.74961], \"legendgroup\": \"South of Market\", \"lon\": [-122.48998999999999], \"marker\": {\"color\": \"#636efa\", \"size\": [401.2959764896399], \"sizemode\": \"area\", \"sizeref\": 4.609332394052398}, \"mode\": \"markers\", \"name\": \"South of Market\", \"showlegend\": true, \"subplot\": \"mapbox\", \"type\": \"scattermapbox\"}, {\"hovertemplate\": \"neighborhood=Sunnyside<br>Avg_sale_price_per_sqft=%{marker.size}<br>Lat=%{lat}<br>Lon=%{lon}<extra></extra>\", \"lat\": [37.79298], \"legendgroup\": \"Sunnyside\", \"lon\": [-122.43579], \"marker\": {\"color\": \"#EF553B\", \"size\": [542.5316819894505], \"sizemode\": \"area\", \"sizeref\": 4.609332394052398}, \"mode\": \"markers\", \"name\": \"Sunnyside\", \"showlegend\": true, \"subplot\": \"mapbox\", \"type\": \"scattermapbox\"}, {\"hovertemplate\": \"neighborhood=Telegraph Hill<br>Avg_sale_price_per_sqft=%{marker.size}<br>Lat=%{lat}<br>Lon=%{lon}<extra></extra>\", \"lat\": [37.72838], \"legendgroup\": \"Telegraph Hill\", \"lon\": [-122.47851000000001], \"marker\": {\"color\": \"#00cc96\", \"size\": [524.7935090952678], \"sizemode\": \"area\", \"sizeref\": 4.609332394052398}, \"mode\": \"markers\", \"name\": \"Telegraph Hill\", \"showlegend\": true, \"subplot\": \"mapbox\", \"type\": \"scattermapbox\"}, {\"hovertemplate\": \"neighborhood=Twin Peaks<br>Avg_sale_price_per_sqft=%{marker.size}<br>Lat=%{lat}<br>Lon=%{lon}<extra></extra>\", \"lat\": [37.74961], \"legendgroup\": \"Twin Peaks\", \"lon\": [-122.48998999999999], \"marker\": {\"color\": \"#ab63fa\", \"size\": [331.55599614560697], \"sizemode\": \"area\", \"sizeref\": 4.609332394052398}, \"mode\": \"markers\", \"name\": \"Twin Peaks\", \"showlegend\": true, \"subplot\": \"mapbox\", \"type\": \"scattermapbox\"}, {\"hovertemplate\": \"neighborhood=Union Square District<br>Avg_sale_price_per_sqft=%{marker.size}<br>Lat=%{lat}<br>Lon=%{lon}<extra></extra>\", \"lat\": [37.76355], \"legendgroup\": \"Union Square District\", \"lon\": [-122.45765], \"marker\": {\"color\": \"#FFA15A\", \"size\": [569.1934475267735], \"sizemode\": \"area\", \"sizeref\": 4.609332394052398}, \"mode\": \"markers\", \"name\": \"Union Square District\", \"showlegend\": true, \"subplot\": \"mapbox\", \"type\": \"scattermapbox\"}, {\"hovertemplate\": \"neighborhood=Van Ness/ Civic Center<br>Avg_sale_price_per_sqft=%{marker.size}<br>Lat=%{lat}<br>Lon=%{lon}<extra></extra>\", \"lat\": [37.73467], \"legendgroup\": \"Van Ness/ Civic Center\", \"lon\": [-122.40106000000002], \"marker\": {\"color\": \"#19d3f3\", \"size\": [108.0129268765048], \"sizemode\": \"area\", \"sizeref\": 4.609332394052398}, \"mode\": \"markers\", \"name\": \"Van Ness/ Civic Center\", \"showlegend\": true, \"subplot\": \"mapbox\", \"type\": \"scattermapbox\"}, {\"hovertemplate\": \"neighborhood=West Portal<br>Avg_sale_price_per_sqft=%{marker.size}<br>Lat=%{lat}<br>Lon=%{lon}<extra></extra>\", \"lat\": [37.73196], \"legendgroup\": \"West Portal\", \"lon\": [-122.38323999999999], \"marker\": {\"color\": \"#FF6692\", \"size\": [392.30076417058257], \"sizemode\": \"area\", \"sizeref\": 4.609332394052398}, \"mode\": \"markers\", \"name\": \"West Portal\", \"showlegend\": true, \"subplot\": \"mapbox\", \"type\": \"scattermapbox\"}, {\"hovertemplate\": \"neighborhood=Western Addition<br>Avg_sale_price_per_sqft=%{marker.size}<br>Lat=%{lat}<br>Lon=%{lon}<extra></extra>\", \"lat\": [37.78553], \"legendgroup\": \"Western Addition\", \"lon\": [-122.456], \"marker\": {\"color\": \"#B6E880\", \"size\": [215.56913431487555], \"sizemode\": \"area\", \"sizeref\": 4.609332394052398}, \"mode\": \"markers\", \"name\": \"Western Addition\", \"showlegend\": true, \"subplot\": \"mapbox\", \"type\": \"scattermapbox\"}, {\"hovertemplate\": \"neighborhood=Yerba Buena<br>Avg_sale_price_per_sqft=%{marker.size}<br>Lat=%{lat}<br>Lon=%{lon}<extra></extra>\", \"lat\": [37.79298], \"legendgroup\": \"Yerba Buena\", \"lon\": [-122.43579], \"marker\": {\"color\": \"#FF97FF\", \"size\": [333.12677384193887], \"sizemode\": \"area\", \"sizeref\": 4.609332394052398}, \"mode\": \"markers\", \"name\": \"Yerba Buena\", \"showlegend\": true, \"subplot\": \"mapbox\", \"type\": \"scattermapbox\"}, {\"hovertemplate\": \"neighborhood=Bernal Heights <br>Avg_sale_price_per_sqft=%{marker.size}<br>Lat=%{lat}<br>Lon=%{lon}<extra></extra>\", \"lat\": [37.79101], \"legendgroup\": \"Bernal Heights \", \"lon\": [-122.4021], \"marker\": {\"color\": \"#FECB52\", \"size\": [471.9217320911283], \"sizemode\": \"area\", \"sizeref\": 4.609332394052398}, \"mode\": \"markers\", \"name\": \"Bernal Heights \", \"showlegend\": true, \"subplot\": \"mapbox\", \"type\": \"scattermapbox\"}, {\"hovertemplate\": \"neighborhood=Clarendon Heights<br>Avg_sale_price_per_sqft=%{marker.size}<br>Lat=%{lat}<br>Lon=%{lon}<extra></extra>\", \"lat\": [37.79101], \"legendgroup\": \"Clarendon Heights\", \"lon\": [-122.4021], \"marker\": {\"color\": \"#636efa\", \"size\": [520.7181675305429], \"sizemode\": \"area\", \"sizeref\": 4.609332394052398}, \"mode\": \"markers\", \"name\": \"Clarendon Heights\", \"showlegend\": true, \"subplot\": \"mapbox\", \"type\": \"scattermapbox\"}, {\"hovertemplate\": \"neighborhood=Duboce Triangle<br>Avg_sale_price_per_sqft=%{marker.size}<br>Lat=%{lat}<br>Lon=%{lon}<extra></extra>\", \"lat\": [37.73415], \"legendgroup\": \"Duboce Triangle\", \"lon\": [-122.45700000000001], \"marker\": {\"color\": \"#EF553B\", \"size\": [295.77937822922695], \"sizemode\": \"area\", \"sizeref\": 4.609332394052398}, \"mode\": \"markers\", \"name\": \"Duboce Triangle\", \"showlegend\": true, \"subplot\": \"mapbox\", \"type\": \"scattermapbox\"}],                        {\"legend\": {\"itemsizing\": \"constant\", \"title\": {\"text\": \"neighborhood\"}, \"tracegroupgap\": 0}, \"mapbox\": {\"accesstoken\": \"pk.eyJ1Ijoic3JhdmFuaTYxIiwiYSI6ImNrZjY3OG9mNTAydGEycnQyZDN4NG13ejcifQ.eod_NNbDPqH_1yEenqXjlQ\", \"center\": {\"lat\": 37.76019350684932, \"lon\": -122.43912380821916}, \"domain\": {\"x\": [0.0, 1.0], \"y\": [0.0, 1.0]}, \"zoom\": 10}, \"margin\": {\"t\": 60}, \"template\": {\"data\": {\"bar\": [{\"error_x\": {\"color\": \"#2a3f5f\"}, \"error_y\": {\"color\": \"#2a3f5f\"}, \"marker\": {\"line\": {\"color\": \"#E5ECF6\", \"width\": 0.5}}, \"type\": \"bar\"}], \"barpolar\": [{\"marker\": {\"line\": {\"color\": \"#E5ECF6\", \"width\": 0.5}}, \"type\": \"barpolar\"}], \"carpet\": [{\"aaxis\": {\"endlinecolor\": \"#2a3f5f\", \"gridcolor\": \"white\", \"linecolor\": \"white\", \"minorgridcolor\": \"white\", \"startlinecolor\": \"#2a3f5f\"}, \"baxis\": {\"endlinecolor\": \"#2a3f5f\", \"gridcolor\": \"white\", \"linecolor\": \"white\", \"minorgridcolor\": \"white\", \"startlinecolor\": \"#2a3f5f\"}, \"type\": \"carpet\"}], \"choropleth\": [{\"colorbar\": {\"outlinewidth\": 0, \"ticks\": \"\"}, \"type\": \"choropleth\"}], \"contour\": [{\"colorbar\": {\"outlinewidth\": 0, \"ticks\": \"\"}, \"colorscale\": [[0.0, \"#0d0887\"], [0.1111111111111111, \"#46039f\"], [0.2222222222222222, \"#7201a8\"], [0.3333333333333333, \"#9c179e\"], [0.4444444444444444, \"#bd3786\"], [0.5555555555555556, \"#d8576b\"], [0.6666666666666666, \"#ed7953\"], [0.7777777777777778, \"#fb9f3a\"], [0.8888888888888888, \"#fdca26\"], [1.0, \"#f0f921\"]], \"type\": \"contour\"}], \"contourcarpet\": [{\"colorbar\": {\"outlinewidth\": 0, \"ticks\": \"\"}, \"type\": \"contourcarpet\"}], \"heatmap\": [{\"colorbar\": {\"outlinewidth\": 0, \"ticks\": \"\"}, \"colorscale\": [[0.0, \"#0d0887\"], [0.1111111111111111, \"#46039f\"], [0.2222222222222222, \"#7201a8\"], [0.3333333333333333, \"#9c179e\"], [0.4444444444444444, \"#bd3786\"], [0.5555555555555556, \"#d8576b\"], [0.6666666666666666, \"#ed7953\"], [0.7777777777777778, \"#fb9f3a\"], [0.8888888888888888, \"#fdca26\"], [1.0, \"#f0f921\"]], \"type\": \"heatmap\"}], \"heatmapgl\": [{\"colorbar\": {\"outlinewidth\": 0, \"ticks\": \"\"}, \"colorscale\": [[0.0, \"#0d0887\"], [0.1111111111111111, \"#46039f\"], [0.2222222222222222, \"#7201a8\"], [0.3333333333333333, \"#9c179e\"], [0.4444444444444444, \"#bd3786\"], [0.5555555555555556, \"#d8576b\"], [0.6666666666666666, \"#ed7953\"], [0.7777777777777778, \"#fb9f3a\"], [0.8888888888888888, \"#fdca26\"], [1.0, \"#f0f921\"]], \"type\": \"heatmapgl\"}], \"histogram\": [{\"marker\": {\"colorbar\": {\"outlinewidth\": 0, \"ticks\": \"\"}}, \"type\": \"histogram\"}], \"histogram2d\": [{\"colorbar\": {\"outlinewidth\": 0, \"ticks\": \"\"}, \"colorscale\": [[0.0, \"#0d0887\"], [0.1111111111111111, \"#46039f\"], [0.2222222222222222, \"#7201a8\"], [0.3333333333333333, \"#9c179e\"], [0.4444444444444444, \"#bd3786\"], [0.5555555555555556, \"#d8576b\"], [0.6666666666666666, \"#ed7953\"], [0.7777777777777778, \"#fb9f3a\"], [0.8888888888888888, \"#fdca26\"], [1.0, \"#f0f921\"]], \"type\": \"histogram2d\"}], \"histogram2dcontour\": [{\"colorbar\": {\"outlinewidth\": 0, \"ticks\": \"\"}, \"colorscale\": [[0.0, \"#0d0887\"], [0.1111111111111111, \"#46039f\"], [0.2222222222222222, \"#7201a8\"], [0.3333333333333333, \"#9c179e\"], [0.4444444444444444, \"#bd3786\"], [0.5555555555555556, \"#d8576b\"], [0.6666666666666666, \"#ed7953\"], [0.7777777777777778, \"#fb9f3a\"], [0.8888888888888888, \"#fdca26\"], [1.0, \"#f0f921\"]], \"type\": \"histogram2dcontour\"}], \"mesh3d\": [{\"colorbar\": {\"outlinewidth\": 0, \"ticks\": \"\"}, \"type\": \"mesh3d\"}], \"parcoords\": [{\"line\": {\"colorbar\": {\"outlinewidth\": 0, \"ticks\": \"\"}}, \"type\": \"parcoords\"}], \"pie\": [{\"automargin\": true, \"type\": \"pie\"}], \"scatter\": [{\"marker\": {\"colorbar\": {\"outlinewidth\": 0, \"ticks\": \"\"}}, \"type\": \"scatter\"}], \"scatter3d\": [{\"line\": {\"colorbar\": {\"outlinewidth\": 0, \"ticks\": \"\"}}, \"marker\": {\"colorbar\": {\"outlinewidth\": 0, \"ticks\": \"\"}}, \"type\": \"scatter3d\"}], \"scattercarpet\": [{\"marker\": {\"colorbar\": {\"outlinewidth\": 0, \"ticks\": \"\"}}, \"type\": \"scattercarpet\"}], \"scattergeo\": [{\"marker\": {\"colorbar\": {\"outlinewidth\": 0, \"ticks\": \"\"}}, \"type\": \"scattergeo\"}], \"scattergl\": [{\"marker\": {\"colorbar\": {\"outlinewidth\": 0, \"ticks\": \"\"}}, \"type\": \"scattergl\"}], \"scattermapbox\": [{\"marker\": {\"colorbar\": {\"outlinewidth\": 0, \"ticks\": \"\"}}, \"type\": \"scattermapbox\"}], \"scatterpolar\": [{\"marker\": {\"colorbar\": {\"outlinewidth\": 0, \"ticks\": \"\"}}, \"type\": \"scatterpolar\"}], \"scatterpolargl\": [{\"marker\": {\"colorbar\": {\"outlinewidth\": 0, \"ticks\": \"\"}}, \"type\": \"scatterpolargl\"}], \"scatterternary\": [{\"marker\": {\"colorbar\": {\"outlinewidth\": 0, \"ticks\": \"\"}}, \"type\": \"scatterternary\"}], \"surface\": [{\"colorbar\": {\"outlinewidth\": 0, \"ticks\": \"\"}, \"colorscale\": [[0.0, \"#0d0887\"], [0.1111111111111111, \"#46039f\"], [0.2222222222222222, \"#7201a8\"], [0.3333333333333333, \"#9c179e\"], [0.4444444444444444, \"#bd3786\"], [0.5555555555555556, \"#d8576b\"], [0.6666666666666666, \"#ed7953\"], [0.7777777777777778, \"#fb9f3a\"], [0.8888888888888888, \"#fdca26\"], [1.0, \"#f0f921\"]], \"type\": \"surface\"}], \"table\": [{\"cells\": {\"fill\": {\"color\": \"#EBF0F8\"}, \"line\": {\"color\": \"white\"}}, \"header\": {\"fill\": {\"color\": \"#C8D4E3\"}, \"line\": {\"color\": \"white\"}}, \"type\": \"table\"}]}, \"layout\": {\"annotationdefaults\": {\"arrowcolor\": \"#2a3f5f\", \"arrowhead\": 0, \"arrowwidth\": 1}, \"coloraxis\": {\"colorbar\": {\"outlinewidth\": 0, \"ticks\": \"\"}}, \"colorscale\": {\"diverging\": [[0, \"#8e0152\"], [0.1, \"#c51b7d\"], [0.2, \"#de77ae\"], [0.3, \"#f1b6da\"], [0.4, \"#fde0ef\"], [0.5, \"#f7f7f7\"], [0.6, \"#e6f5d0\"], [0.7, \"#b8e186\"], [0.8, \"#7fbc41\"], [0.9, \"#4d9221\"], [1, \"#276419\"]], \"sequential\": [[0.0, \"#0d0887\"], [0.1111111111111111, \"#46039f\"], [0.2222222222222222, \"#7201a8\"], [0.3333333333333333, \"#9c179e\"], [0.4444444444444444, \"#bd3786\"], [0.5555555555555556, \"#d8576b\"], [0.6666666666666666, \"#ed7953\"], [0.7777777777777778, \"#fb9f3a\"], [0.8888888888888888, \"#fdca26\"], [1.0, \"#f0f921\"]], \"sequentialminus\": [[0.0, \"#0d0887\"], [0.1111111111111111, \"#46039f\"], [0.2222222222222222, \"#7201a8\"], [0.3333333333333333, \"#9c179e\"], [0.4444444444444444, \"#bd3786\"], [0.5555555555555556, \"#d8576b\"], [0.6666666666666666, \"#ed7953\"], [0.7777777777777778, \"#fb9f3a\"], [0.8888888888888888, \"#fdca26\"], [1.0, \"#f0f921\"]]}, \"colorway\": [\"#636efa\", \"#EF553B\", \"#00cc96\", \"#ab63fa\", \"#FFA15A\", \"#19d3f3\", \"#FF6692\", \"#B6E880\", \"#FF97FF\", \"#FECB52\"], \"font\": {\"color\": \"#2a3f5f\"}, \"geo\": {\"bgcolor\": \"white\", \"lakecolor\": \"white\", \"landcolor\": \"#E5ECF6\", \"showlakes\": true, \"showland\": true, \"subunitcolor\": \"white\"}, \"hoverlabel\": {\"align\": \"left\"}, \"hovermode\": \"closest\", \"mapbox\": {\"style\": \"light\"}, \"paper_bgcolor\": \"white\", \"plot_bgcolor\": \"#E5ECF6\", \"polar\": {\"angularaxis\": {\"gridcolor\": \"white\", \"linecolor\": \"white\", \"ticks\": \"\"}, \"bgcolor\": \"#E5ECF6\", \"radialaxis\": {\"gridcolor\": \"white\", \"linecolor\": \"white\", \"ticks\": \"\"}}, \"scene\": {\"xaxis\": {\"backgroundcolor\": \"#E5ECF6\", \"gridcolor\": \"white\", \"gridwidth\": 2, \"linecolor\": \"white\", \"showbackground\": true, \"ticks\": \"\", \"zerolinecolor\": \"white\"}, \"yaxis\": {\"backgroundcolor\": \"#E5ECF6\", \"gridcolor\": \"white\", \"gridwidth\": 2, \"linecolor\": \"white\", \"showbackground\": true, \"ticks\": \"\", \"zerolinecolor\": \"white\"}, \"zaxis\": {\"backgroundcolor\": \"#E5ECF6\", \"gridcolor\": \"white\", \"gridwidth\": 2, \"linecolor\": \"white\", \"showbackground\": true, \"ticks\": \"\", \"zerolinecolor\": \"white\"}}, \"shapedefaults\": {\"line\": {\"color\": \"#2a3f5f\"}}, \"ternary\": {\"aaxis\": {\"gridcolor\": \"white\", \"linecolor\": \"white\", \"ticks\": \"\"}, \"baxis\": {\"gridcolor\": \"white\", \"linecolor\": \"white\", \"ticks\": \"\"}, \"bgcolor\": \"#E5ECF6\", \"caxis\": {\"gridcolor\": \"white\", \"linecolor\": \"white\", \"ticks\": \"\"}}, \"title\": {\"x\": 0.05}, \"xaxis\": {\"automargin\": true, \"gridcolor\": \"white\", \"linecolor\": \"white\", \"ticks\": \"\", \"title\": {\"standoff\": 15}, \"zerolinecolor\": \"white\", \"zerolinewidth\": 2}, \"yaxis\": {\"automargin\": true, \"gridcolor\": \"white\", \"linecolor\": \"white\", \"ticks\": \"\", \"title\": {\"standoff\": 15}, \"zerolinecolor\": \"white\", \"zerolinewidth\": 2}}}},                        {\"responsive\": true}                    ).then(function(){\n",
       "                            \n",
       "var gd = document.getElementById('9936cf65-1542-4841-9360-032f98cd241e');\n",
       "var x = new MutationObserver(function (mutations, observer) {{\n",
       "        var display = window.getComputedStyle(gd).display;\n",
       "        if (!display || display === 'none') {{\n",
       "            console.log([gd, 'removed!']);\n",
       "            Plotly.purge(gd);\n",
       "            observer.disconnect();\n",
       "        }}\n",
       "}});\n",
       "\n",
       "// Listen for the removal of the full notebook cells\n",
       "var notebookContainer = gd.closest('#notebook-container');\n",
       "if (notebookContainer) {{\n",
       "    x.observe(notebookContainer, {childList: true});\n",
       "}}\n",
       "\n",
       "// Listen for the clearing of the current output cell\n",
       "var outputEl = gd.closest('.output');\n",
       "if (outputEl) {{\n",
       "    x.observe(outputEl, {childList: true});\n",
       "}}\n",
       "\n",
       "                        })                };                });            </script>        </div>"
      ]
     },
     "metadata": {},
     "output_type": "display_data"
    }
   ],
   "source": [
    "# Plot Data\n",
    "map = px.scatter_mapbox(\n",
    "    price_by_neighborhood, \n",
    "    lat=\"Lat\", \n",
    "    lon=\"Lon\", \n",
    "    size=\"Avg_sale_price_per_sqft\", \n",
    "    color=\"neighborhood\",\n",
    "    color_continuous_scale=px.colors.cyclical.IceFire,\n",
    "    size_max=15,\n",
    "    zoom = 10\n",
    ")\n",
    "\n",
    "# Display the map\n",
    "map.show()"
   ]
  },
  {
   "cell_type": "code",
   "execution_count": null,
   "metadata": {},
   "outputs": [],
   "source": []
  },
  {
   "cell_type": "code",
   "execution_count": null,
   "metadata": {},
   "outputs": [],
   "source": []
  },
  {
   "cell_type": "code",
   "execution_count": null,
   "metadata": {},
   "outputs": [],
   "source": []
  }
 ],
 "metadata": {
  "kernelspec": {
   "display_name": "Python [conda env:pyvizenv] *",
   "language": "python",
   "name": "conda-env-pyvizenv-py"
  },
  "language_info": {
   "codemirror_mode": {
    "name": "ipython",
    "version": 3
   },
   "file_extension": ".py",
   "mimetype": "text/x-python",
   "name": "python",
   "nbconvert_exporter": "python",
   "pygments_lexer": "ipython3",
   "version": "3.7.7"
  }
 },
 "nbformat": 4,
 "nbformat_minor": 4
}
